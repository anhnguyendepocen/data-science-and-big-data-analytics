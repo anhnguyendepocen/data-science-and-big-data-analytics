{
 "cells": [
  {
   "cell_type": "markdown",
   "metadata": {
    "nbpresent": {
     "id": "a55b2c2d-724d-47ce-b0b7-a1618ee617cb"
    }
   },
   "source": [
    "# Data Exploratory Analysis Using R\n",
    "## Sukhjit Singh Sehra\n",
    "### Guru NanaK Dev Engineering College, Ludhiana"
   ]
  },
  {
   "cell_type": "markdown",
   "metadata": {
    "nbpresent": {
     "id": "cca44adc-026e-4ce6-a4ed-7ec5b44d7b5b"
    }
   },
   "source": [
    "A useful way to detect patterns and anomalies in the data is through the exploratory data analysis with\n",
    "visualization. Visualization gives a succinct, holistic view of the data that may be difficult to grasp from the\n",
    "numbers and summaries alone. Variables x and y of the data frame data can instead be visualized in a\n",
    "scatterplot, which easily depicts the relationship between two variables. "
   ]
  },
  {
   "cell_type": "code",
   "execution_count": null,
   "metadata": {
    "collapsed": true,
    "nbpresent": {
     "id": "17b60a6f-ed1a-4aea-9001-c3666e80e0dd"
    }
   },
   "outputs": [],
   "source": [
    "x <- rnorm(50)\n",
    "y <- x + rnorm(50, mean=0, sd=0.5)\n",
    "data <- as.data.frame(cbind(x, y))\n"
   ]
  },
  {
   "cell_type": "code",
   "execution_count": null,
   "metadata": {
    "collapsed": false,
    "nbpresent": {
     "id": "66f3bfec-214c-4677-88d0-74014880f6d4"
    }
   },
   "outputs": [],
   "source": [
    "library(ggplot2)\n",
    "ggplot(data, aes(x=x, y=y)) +\n",
    "geom_point(size=2) +\n",
    "ggtitle(\"Scatterplot of X and Y\") +\n",
    "theme(axis.text=element_text(size=12),\n",
    "axis.title = element_text(size=14),\n",
    "plot.title = element_text(size=20, face=\"bold\"))\n"
   ]
  },
  {
   "cell_type": "markdown",
   "metadata": {},
   "source": [
    "Adding Data to the Variable"
   ]
  },
  {
   "cell_type": "code",
   "execution_count": null,
   "metadata": {
    "collapsed": false,
    "nbpresent": {
     "id": "4e5fc20c-89e6-49b5-8a87-c47f1fdb0290"
    }
   },
   "outputs": [],
   "source": [
    "data(anscombe)"
   ]
  },
  {
   "cell_type": "markdown",
   "metadata": {},
   "source": [
    "## Visualization of Data Before Analysis"
   ]
  },
  {
   "cell_type": "code",
   "execution_count": null,
   "metadata": {
    "collapsed": false,
    "nbpresent": {
     "id": "621f7486-eb65-4c2a-b89c-af64c3daddb8"
    }
   },
   "outputs": [],
   "source": [
    "summary(anscombe)"
   ]
  },
  {
   "cell_type": "code",
   "execution_count": null,
   "metadata": {
    "collapsed": true,
    "nbpresent": {
     "id": "180c5f7b-17d5-4d9b-8e66-61d351cbd29c"
    }
   },
   "outputs": [],
   "source": [
    "# generates levels to indicate which group each data point belongs to\n",
    "levels <- gl(4, nrow(anscombe))\n"
   ]
  },
  {
   "cell_type": "code",
   "execution_count": null,
   "metadata": {
    "collapsed": false,
    "nbpresent": {
     "id": "eb1135d7-f856-4512-b252-973b9d991998"
    }
   },
   "outputs": [],
   "source": [
    "levels"
   ]
  },
  {
   "cell_type": "code",
   "execution_count": null,
   "metadata": {
    "collapsed": true,
    "nbpresent": {
     "id": "0d4a6084-482b-4b99-a406-7d7c54f53ed5"
    }
   },
   "outputs": [],
   "source": [
    "# Group anscombe into a data frame\n",
    "mydata <- with(anscombe, data.frame(x=c(x1,x2,x3,x4), y=c(y1,y2,y3,y4),\n",
    "mygroup=levels))\n"
   ]
  },
  {
   "cell_type": "code",
   "execution_count": null,
   "metadata": {
    "collapsed": true,
    "nbpresent": {
     "id": "d24fcd25-3282-4c35-a226-f7a46f72c4d7"
    }
   },
   "outputs": [],
   "source": [
    "# Make scatterplots using the ggplot2 package\n",
    "library(ggplot2)\n",
    " # set plot color theme\n",
    "theme_set(theme_bw())\n",
    "\n"
   ]
  },
  {
   "cell_type": "code",
   "execution_count": null,
   "metadata": {
    "collapsed": false,
    "nbpresent": {
     "id": "8646cac6-056c-4ee9-abc5-5ee15bc3f298"
    }
   },
   "outputs": [],
   "source": [
    "# create the four plots\n",
    "ggplot(mydata, aes(x,y)) +\n",
    "geom_point(size=4) +\n",
    "geom_smooth(method=\"lm\", fill=NA, fullrange=TRUE) +\n",
    "facet_wrap(~mygroup)\n"
   ]
  },
  {
   "cell_type": "markdown",
   "metadata": {
    "nbpresent": {
     "id": "0b48b59b-a205-448a-980f-d85c8c44cdcc"
    }
   },
   "source": [
    " ### Diry Data"
   ]
  },
  {
   "cell_type": "markdown",
   "metadata": {
    "nbpresent": {
     "id": "17419d0e-0ae2-4f85-8cc6-798fffa3cecd"
    }
   },
   "source": [
    "### How dirty data can be detected in the data exploration phase with visualizations. In general, analysts should look for anomalies, verify the data with domain knowledge, and decide the most appropriate approach to clean the data.\n"
   ]
  },
  {
   "cell_type": "code",
   "execution_count": null,
   "metadata": {
    "collapsed": true,
    "nbpresent": {
     "id": "cad695cf-7399-4fb6-905f-10dba3525037"
    }
   },
   "outputs": [],
   "source": [
    "dirtydata <- read.csv(file='sampledatasets/internationaldirtydata.csv', header=T, sep=',')"
   ]
  },
  {
   "cell_type": "code",
   "execution_count": null,
   "metadata": {
    "collapsed": false,
    "nbpresent": {
     "id": "d89843df-50b5-4d8f-9537-a03d41897602"
    }
   },
   "outputs": [],
   "source": [
    "summary(dirtydata)\n",
    "head(dirtydata)"
   ]
  },
  {
   "cell_type": "code",
   "execution_count": null,
   "metadata": {
    "collapsed": false,
    "nbpresent": {
     "id": "91727a8a-4545-44b0-95d2-98ed370bcbe3"
    }
   },
   "outputs": [],
   "source": [
    "hist(dirtydata$Height_cm, breaks=50, main=\"height Distribution of Account Holders\",xlab=\"height\", ylab=\"Frequency\", col=\"gray\")\n"
   ]
  },
  {
   "cell_type": "code",
   "execution_count": null,
   "metadata": {
    "collapsed": false,
    "nbpresent": {
     "id": "cebc6512-2474-4320-b4eb-50d8fad0f316"
    }
   },
   "outputs": [],
   "source": [
    "is.na(dirtydata$Importance_Internet_access)"
   ]
  },
  {
   "cell_type": "code",
   "execution_count": null,
   "metadata": {
    "collapsed": false,
    "nbpresent": {
     "id": "fc587e01-1637-40e5-bb8c-55204552a9ae"
    }
   },
   "outputs": [],
   "source": [
    "mean(dirtydata$Importance_Internet_access)"
   ]
  },
  {
   "cell_type": "code",
   "execution_count": null,
   "metadata": {
    "collapsed": false,
    "nbpresent": {
     "id": "fb4c3e89-9ebf-425a-ae0a-b86b76239128"
    }
   },
   "outputs": [],
   "source": [
    "mean(dirtydata$Importance_Internet_access)"
   ]
  },
  {
   "cell_type": "code",
   "execution_count": null,
   "metadata": {
    "collapsed": false,
    "nbpresent": {
     "id": "c658b039-9bf6-4694-b6d4-ba3ae66a0c37"
    }
   },
   "outputs": [],
   "source": [
    "mean(dirtydata$Importance_Internet_access,na.rm=TRUE)"
   ]
  },
  {
   "cell_type": "markdown",
   "metadata": {},
   "source": [
    "## We can use exclude function to remove the undefined values from the variable"
   ]
  },
  {
   "cell_type": "code",
   "execution_count": 5,
   "metadata": {
    "collapsed": true
   },
   "outputs": [],
   "source": [
    "DF <- data.frame(x = c(1, 2, 3), y = c(10, 20, NA))"
   ]
  },
  {
   "cell_type": "code",
   "execution_count": null,
   "metadata": {
    "collapsed": false
   },
   "outputs": [],
   "source": [
    "DF1 <- na.exclude(DF)"
   ]
  },
  {
   "cell_type": "code",
   "execution_count": null,
   "metadata": {
    "collapsed": false,
    "nbpresent": {
     "id": "6677fae6-822e-435e-9b49-2fe17c03108d"
    }
   },
   "outputs": [],
   "source": [
    "is.element(170,dirtydata$Height_cm)"
   ]
  },
  {
   "cell_type": "markdown",
   "metadata": {
    "nbpresent": {
     "id": "3fc6738f-3222-4459-b73c-5f5b5610cd1d"
    }
   },
   "source": [
    "## Remove particular value from the List"
   ]
  },
  {
   "cell_type": "code",
   "execution_count": null,
   "metadata": {
    "collapsed": false,
    "nbpresent": {
     "id": "d011e2c9-62f5-42ff-9c7f-4e9d10ad4cc0"
    }
   },
   "outputs": [],
   "source": [
    "# The %in% operator tells you which elements are among the numers to remove:\n",
    "\n",
    "a <- sample (1 : 10)\n",
    "a\n",
    "remove <- c (2, 3, 5)\n",
    "a %in% remove\n",
    "a [! a %in% remove]\n"
   ]
  }
 ],
 "metadata": {
  "kernelspec": {
   "display_name": "R",
   "language": "R",
   "name": "ir"
  },
  "language_info": {
   "codemirror_mode": "r",
   "file_extension": ".r",
   "mimetype": "text/x-r-source",
   "name": "R",
   "pygments_lexer": "r",
   "version": "3.2.3"
  },
  "nbpresent": {
   "slides": {
    "121b405b-d707-4bc4-a36c-7cf85d707b63": {
     "id": "121b405b-d707-4bc4-a36c-7cf85d707b63",
     "prev": "a6b47e1f-6cc7-490b-9e56-ed1d582d48b7",
     "regions": {
      "9fdd6e7c-89fb-4359-bd14-8956703d2391": {
       "attrs": {
        "height": 0.8,
        "width": 0.8,
        "x": 0.1,
        "y": 0.1
       },
       "content": {
        "cell": "66f3bfec-214c-4677-88d0-74014880f6d4",
        "part": "whole"
       },
       "id": "9fdd6e7c-89fb-4359-bd14-8956703d2391"
      }
     }
    },
    "27372cf4-c0a6-4596-b27b-d48bcd1c5f80": {
     "id": "27372cf4-c0a6-4596-b27b-d48bcd1c5f80",
     "prev": "e59e7fa6-8294-4beb-bfc4-3e152384c526",
     "regions": {
      "1831c30b-b8a8-4385-ba40-7807d52c97b5": {
       "attrs": {
        "height": 0.8,
        "width": 0.8,
        "x": 0.1,
        "y": 0.1
       },
       "content": {
        "cell": "3fc6738f-3222-4459-b73c-5f5b5610cd1d",
        "part": "whole"
       },
       "id": "1831c30b-b8a8-4385-ba40-7807d52c97b5"
      }
     }
    },
    "286dbe58-562b-4aa0-b5b1-5beaed294ba9": {
     "id": "286dbe58-562b-4aa0-b5b1-5beaed294ba9",
     "prev": "522258c7-f587-423b-8fa5-0bd60fc4da89",
     "regions": {
      "ccdbae5d-b961-443a-960c-fd1affbfdf15": {
       "attrs": {
        "height": 0.8,
        "width": 0.8,
        "x": 0.1,
        "y": 0.1
       },
       "content": {
        "cell": "fb4c3e89-9ebf-425a-ae0a-b86b76239128",
        "part": "whole"
       },
       "id": "ccdbae5d-b961-443a-960c-fd1affbfdf15"
      }
     }
    },
    "2cd67d10-c5ca-4f3a-9819-806c1d28904a": {
     "id": "2cd67d10-c5ca-4f3a-9819-806c1d28904a",
     "prev": "59262895-37de-4af0-81e3-d0bed9b98ac8",
     "regions": {
      "3ee04008-5258-4f27-921d-f3405ebf6164": {
       "attrs": {
        "height": 0.8,
        "width": 0.8,
        "x": 0.1,
        "y": 0.1
       },
       "content": {
        "cell": "cca44adc-026e-4ce6-a4ed-7ec5b44d7b5b",
        "part": "whole"
       },
       "id": "3ee04008-5258-4f27-921d-f3405ebf6164"
      }
     }
    },
    "43a993d0-db26-48a9-861d-9936bb794360": {
     "id": "43a993d0-db26-48a9-861d-9936bb794360",
     "prev": "6f7558cf-6b17-49af-bb97-18da3644d181",
     "regions": {
      "ae9cb3bf-facf-447c-bd56-a2104c03bf45": {
       "attrs": {
        "height": 0.8,
        "width": 0.8,
        "x": 0.1,
        "y": 0.1
       },
       "content": {
        "cell": "0b48b59b-a205-448a-980f-d85c8c44cdcc",
        "part": "whole"
       },
       "id": "ae9cb3bf-facf-447c-bd56-a2104c03bf45"
      }
     }
    },
    "49cc869f-2d80-4d4c-b3ae-be18d48fe367": {
     "id": "49cc869f-2d80-4d4c-b3ae-be18d48fe367",
     "prev": "9df34a17-ebf1-4868-bbb9-4f9d20911af3",
     "regions": {
      "20db44c6-604a-422d-951c-7fd2b42fe454": {
       "attrs": {
        "height": 0.8,
        "width": 0.8,
        "x": 0.1,
        "y": 0.1
       },
       "content": {
        "cell": "d24fcd25-3282-4c35-a226-f7a46f72c4d7",
        "part": "whole"
       },
       "id": "20db44c6-604a-422d-951c-7fd2b42fe454"
      }
     }
    },
    "4b946f23-4a69-4d10-aae7-bb6ae6813c51": {
     "id": "4b946f23-4a69-4d10-aae7-bb6ae6813c51",
     "prev": "27372cf4-c0a6-4596-b27b-d48bcd1c5f80",
     "regions": {
      "824082ac-ae7c-4322-8271-4d13ed712e8c": {
       "attrs": {
        "height": 0.8,
        "width": 0.8,
        "x": 0.1,
        "y": 0.1
       },
       "content": {
        "cell": "d011e2c9-62f5-42ff-9c7f-4e9d10ad4cc0",
        "part": "whole"
       },
       "id": "824082ac-ae7c-4322-8271-4d13ed712e8c"
      }
     }
    },
    "4c6c6ac1-9e2c-4469-811a-f27ae1859556": {
     "id": "4c6c6ac1-9e2c-4469-811a-f27ae1859556",
     "prev": "d0de1a01-ab99-4a76-947d-b68b90280504",
     "regions": {
      "0fc88b61-bd6c-42dc-b3e3-0542ee09ff0b": {
       "attrs": {
        "height": 0.8,
        "width": 0.8,
        "x": 0.1,
        "y": 0.1
       },
       "content": {
        "cell": "cad695cf-7399-4fb6-905f-10dba3525037",
        "part": "whole"
       },
       "id": "0fc88b61-bd6c-42dc-b3e3-0542ee09ff0b"
      }
     }
    },
    "4df10731-eccd-4f2f-989d-86360cd2bb05": {
     "id": "4df10731-eccd-4f2f-989d-86360cd2bb05",
     "prev": "feca71eb-4c28-4e12-81e5-05314d68edb8",
     "regions": {
      "f133588a-245e-4eef-8d57-d21ff8d31bf2": {
       "attrs": {
        "height": 0.8,
        "width": 0.8,
        "x": 0.1,
        "y": 0.1
       },
       "content": {
        "cell": "621f7486-eb65-4c2a-b89c-af64c3daddb8",
        "part": "whole"
       },
       "id": "f133588a-245e-4eef-8d57-d21ff8d31bf2"
      }
     }
    },
    "522258c7-f587-423b-8fa5-0bd60fc4da89": {
     "id": "522258c7-f587-423b-8fa5-0bd60fc4da89",
     "prev": "c30ad26d-4fd1-43ca-bbfa-598b336ecf6e",
     "regions": {
      "415fe0e4-9f5c-461f-b578-009dad8d5e47": {
       "attrs": {
        "height": 0.8,
        "width": 0.8,
        "x": 0.1,
        "y": 0.1
       },
       "content": {
        "cell": "fc587e01-1637-40e5-bb8c-55204552a9ae",
        "part": "whole"
       },
       "id": "415fe0e4-9f5c-461f-b578-009dad8d5e47"
      }
     }
    },
    "59262895-37de-4af0-81e3-d0bed9b98ac8": {
     "id": "59262895-37de-4af0-81e3-d0bed9b98ac8",
     "prev": null,
     "regions": {
      "b63b55e7-1407-443d-bafd-54adf62406ec": {
       "attrs": {
        "height": 0.8,
        "width": 0.8,
        "x": 0.1,
        "y": 0.1
       },
       "content": {
        "cell": "a55b2c2d-724d-47ce-b0b7-a1618ee617cb",
        "part": "whole"
       },
       "id": "b63b55e7-1407-443d-bafd-54adf62406ec"
      }
     }
    },
    "6f7558cf-6b17-49af-bb97-18da3644d181": {
     "id": "6f7558cf-6b17-49af-bb97-18da3644d181",
     "prev": "49cc869f-2d80-4d4c-b3ae-be18d48fe367",
     "regions": {
      "95acd85f-e76f-47a3-99b4-05978d8e393b": {
       "attrs": {
        "height": 0.8,
        "width": 0.8,
        "x": 0.1,
        "y": 0.1
       },
       "content": {
        "cell": "8646cac6-056c-4ee9-abc5-5ee15bc3f298",
        "part": "whole"
       },
       "id": "95acd85f-e76f-47a3-99b4-05978d8e393b"
      }
     }
    },
    "9df34a17-ebf1-4868-bbb9-4f9d20911af3": {
     "id": "9df34a17-ebf1-4868-bbb9-4f9d20911af3",
     "prev": "e10ff7fb-702c-4fb8-a7dd-29c0e0d5fbd4",
     "regions": {
      "c3738661-5fbf-4ab4-8f0b-f025fac9d658": {
       "attrs": {
        "height": 0.8,
        "width": 0.8,
        "x": 0.1,
        "y": 0.1
       },
       "content": {
        "cell": "0d4a6084-482b-4b99-a406-7d7c54f53ed5",
        "part": "whole"
       },
       "id": "c3738661-5fbf-4ab4-8f0b-f025fac9d658"
      }
     }
    },
    "a6b47e1f-6cc7-490b-9e56-ed1d582d48b7": {
     "id": "a6b47e1f-6cc7-490b-9e56-ed1d582d48b7",
     "prev": "2cd67d10-c5ca-4f3a-9819-806c1d28904a",
     "regions": {
      "6df74e90-7845-45df-8ccf-4ee162e9ab56": {
       "attrs": {
        "height": 0.8,
        "width": 0.8,
        "x": 0.1,
        "y": 0.1
       },
       "content": {
        "cell": "17b60a6f-ed1a-4aea-9001-c3666e80e0dd",
        "part": "whole"
       },
       "id": "6df74e90-7845-45df-8ccf-4ee162e9ab56"
      }
     }
    },
    "b49ca46f-89c5-4bb8-ac6b-09491eafb1a9": {
     "id": "b49ca46f-89c5-4bb8-ac6b-09491eafb1a9",
     "prev": "4b946f23-4a69-4d10-aae7-bb6ae6813c51",
     "regions": {
      "77d964fa-d11b-4d25-b2cc-d9d5e946e24e": {
       "attrs": {
        "height": 0.8,
        "width": 0.8,
        "x": 0.1,
        "y": 0.1
       },
       "content": {
        "cell": "48132955-44ab-4515-9fdf-1ddf64e2f4f3",
        "part": "whole"
       },
       "id": "77d964fa-d11b-4d25-b2cc-d9d5e946e24e"
      }
     }
    },
    "c30ad26d-4fd1-43ca-bbfa-598b336ecf6e": {
     "id": "c30ad26d-4fd1-43ca-bbfa-598b336ecf6e",
     "prev": "ebc0c621-999d-4e05-9644-a53637cb5873",
     "regions": {
      "1c49cae6-b4e5-4775-a5a7-f470a92b3ab0": {
       "attrs": {
        "height": 0.8,
        "width": 0.8,
        "x": 0.1,
        "y": 0.1
       },
       "content": {
        "cell": "cebc6512-2474-4320-b4eb-50d8fad0f316",
        "part": "whole"
       },
       "id": "1c49cae6-b4e5-4775-a5a7-f470a92b3ab0"
      }
     }
    },
    "c3a41f2c-ce73-4595-a22c-2cc25efed5c5": {
     "id": "c3a41f2c-ce73-4595-a22c-2cc25efed5c5",
     "prev": "286dbe58-562b-4aa0-b5b1-5beaed294ba9",
     "regions": {
      "7dc1f7b4-c62c-43f7-97af-dbc66f1b33c7": {
       "attrs": {
        "height": 0.8,
        "width": 0.8,
        "x": 0.1,
        "y": 0.1
       },
       "content": {
        "cell": "c658b039-9bf6-4694-b6d4-ba3ae66a0c37",
        "part": "whole"
       },
       "id": "7dc1f7b4-c62c-43f7-97af-dbc66f1b33c7"
      }
     }
    },
    "d02ecbf6-b81f-4beb-b5e2-1e9a924ee1b4": {
     "id": "d02ecbf6-b81f-4beb-b5e2-1e9a924ee1b4",
     "prev": "4df10731-eccd-4f2f-989d-86360cd2bb05",
     "regions": {
      "c2fae455-882f-433e-9601-df7ff526cfc3": {
       "attrs": {
        "height": 0.8,
        "width": 0.8,
        "x": 0.1,
        "y": 0.1
       },
       "content": {
        "cell": "180c5f7b-17d5-4d9b-8e66-61d351cbd29c",
        "part": "whole"
       },
       "id": "c2fae455-882f-433e-9601-df7ff526cfc3"
      }
     }
    },
    "d0de1a01-ab99-4a76-947d-b68b90280504": {
     "id": "d0de1a01-ab99-4a76-947d-b68b90280504",
     "prev": "43a993d0-db26-48a9-861d-9936bb794360",
     "regions": {
      "55af366b-4c35-4fd5-aca5-7f679b2415cf": {
       "attrs": {
        "height": 0.8,
        "width": 0.8,
        "x": 0.1,
        "y": 0.1
       },
       "content": {
        "cell": "17419d0e-0ae2-4f85-8cc6-798fffa3cecd",
        "part": "whole"
       },
       "id": "55af366b-4c35-4fd5-aca5-7f679b2415cf"
      }
     }
    },
    "e10ff7fb-702c-4fb8-a7dd-29c0e0d5fbd4": {
     "id": "e10ff7fb-702c-4fb8-a7dd-29c0e0d5fbd4",
     "prev": "d02ecbf6-b81f-4beb-b5e2-1e9a924ee1b4",
     "regions": {
      "acba3d70-5276-4c24-ba12-f00aa6ca676e": {
       "attrs": {
        "height": 0.8,
        "width": 0.8,
        "x": 0.1,
        "y": 0.1
       },
       "content": {
        "cell": "eb1135d7-f856-4512-b252-973b9d991998",
        "part": "whole"
       },
       "id": "acba3d70-5276-4c24-ba12-f00aa6ca676e"
      }
     }
    },
    "e59e7fa6-8294-4beb-bfc4-3e152384c526": {
     "id": "e59e7fa6-8294-4beb-bfc4-3e152384c526",
     "prev": "c3a41f2c-ce73-4595-a22c-2cc25efed5c5",
     "regions": {
      "0a457c29-8d2d-44fd-aa0b-b8a40fcfa74c": {
       "attrs": {
        "height": 0.8,
        "width": 0.8,
        "x": 0.1,
        "y": 0.1
       },
       "content": {
        "cell": "6677fae6-822e-435e-9b49-2fe17c03108d",
        "part": "whole"
       },
       "id": "0a457c29-8d2d-44fd-aa0b-b8a40fcfa74c"
      }
     }
    },
    "ebc0c621-999d-4e05-9644-a53637cb5873": {
     "id": "ebc0c621-999d-4e05-9644-a53637cb5873",
     "prev": "ecba15d0-b34f-479b-9258-cf482eaa3124",
     "regions": {
      "b53bcae6-a062-4875-bfcc-d5b6f50bfc6f": {
       "attrs": {
        "height": 0.8,
        "width": 0.8,
        "x": 0.1,
        "y": 0.1
       },
       "content": {
        "cell": "91727a8a-4545-44b0-95d2-98ed370bcbe3",
        "part": "whole"
       },
       "id": "b53bcae6-a062-4875-bfcc-d5b6f50bfc6f"
      }
     }
    },
    "ecba15d0-b34f-479b-9258-cf482eaa3124": {
     "id": "ecba15d0-b34f-479b-9258-cf482eaa3124",
     "prev": "4c6c6ac1-9e2c-4469-811a-f27ae1859556",
     "regions": {
      "8cdb1569-618f-4b62-94c3-d6a5b2a36b23": {
       "attrs": {
        "height": 0.8,
        "width": 0.8,
        "x": 0.1,
        "y": 0.1
       },
       "content": {
        "cell": "d89843df-50b5-4d8f-9537-a03d41897602",
        "part": "whole"
       },
       "id": "8cdb1569-618f-4b62-94c3-d6a5b2a36b23"
      }
     }
    },
    "feca71eb-4c28-4e12-81e5-05314d68edb8": {
     "id": "feca71eb-4c28-4e12-81e5-05314d68edb8",
     "prev": "121b405b-d707-4bc4-a36c-7cf85d707b63",
     "regions": {
      "d2797866-63d0-4926-86c6-7f7694b168f0": {
       "attrs": {
        "height": 0.8,
        "width": 0.8,
        "x": 0.1,
        "y": 0.1
       },
       "content": {
        "cell": "4e5fc20c-89e6-49b5-8a87-c47f1fdb0290",
        "part": "whole"
       },
       "id": "d2797866-63d0-4926-86c6-7f7694b168f0"
      }
     }
    }
   },
   "themes": {
    "default": "a9ac563a-de54-4b01-8edf-c98fa35d5c0f",
    "theme": {
     "a3014a4e-8a91-4fe5-925c-fbb973b1326c": {
      "backgrounds": {
       "dc7afa04-bf90-40b1-82a5-726e3cff5267": {
        "background-color": "31af15d2-7e15-44c5-ab5e-e04b16a89eff",
        "id": "dc7afa04-bf90-40b1-82a5-726e3cff5267"
       }
      },
      "id": "a3014a4e-8a91-4fe5-925c-fbb973b1326c",
      "palette": {
       "19cc588f-0593-49c9-9f4b-e4d7cc113b1c": {
        "id": "19cc588f-0593-49c9-9f4b-e4d7cc113b1c",
        "rgb": [
         252,
         252,
         252
        ]
       },
       "31af15d2-7e15-44c5-ab5e-e04b16a89eff": {
        "id": "31af15d2-7e15-44c5-ab5e-e04b16a89eff",
        "rgb": [
         68,
         68,
         68
        ]
       },
       "50f92c45-a630-455b-aec3-788680ec7410": {
        "id": "50f92c45-a630-455b-aec3-788680ec7410",
        "rgb": [
         197,
         226,
         245
        ]
       },
       "c5cc3653-2ee1-402a-aba2-7caae1da4f6c": {
        "id": "c5cc3653-2ee1-402a-aba2-7caae1da4f6c",
        "rgb": [
         43,
         126,
         184
        ]
       },
       "efa7f048-9acb-414c-8b04-a26811511a21": {
        "id": "efa7f048-9acb-414c-8b04-a26811511a21",
        "rgb": [
         25.118061674008803,
         73.60176211453744,
         107.4819383259912
        ]
       }
      },
      "rules": {
       "a": {
        "color": "19cc588f-0593-49c9-9f4b-e4d7cc113b1c"
       },
       "blockquote": {
        "color": "50f92c45-a630-455b-aec3-788680ec7410",
        "font-size": 3
       },
       "code": {
        "font-family": "Anonymous Pro"
       },
       "h1": {
        "color": "19cc588f-0593-49c9-9f4b-e4d7cc113b1c",
        "font-family": "Merriweather",
        "font-size": 8
       },
       "h2": {
        "color": "19cc588f-0593-49c9-9f4b-e4d7cc113b1c",
        "font-family": "Merriweather",
        "font-size": 6
       },
       "h3": {
        "color": "50f92c45-a630-455b-aec3-788680ec7410",
        "font-family": "Lato",
        "font-size": 5.5
       },
       "h4": {
        "color": "c5cc3653-2ee1-402a-aba2-7caae1da4f6c",
        "font-family": "Lato",
        "font-size": 5
       },
       "h5": {
        "font-family": "Lato"
       },
       "h6": {
        "font-family": "Lato"
       },
       "h7": {
        "font-family": "Lato"
       },
       "li": {
        "color": "50f92c45-a630-455b-aec3-788680ec7410",
        "font-size": 3.25
       },
       "pre": {
        "font-family": "Anonymous Pro",
        "font-size": 4
       }
      },
      "text-base": {
       "color": "19cc588f-0593-49c9-9f4b-e4d7cc113b1c",
       "font-family": "Lato",
       "font-size": 4
      }
     },
     "a9ac563a-de54-4b01-8edf-c98fa35d5c0f": {
      "id": "a9ac563a-de54-4b01-8edf-c98fa35d5c0f",
      "palette": {
       "19cc588f-0593-49c9-9f4b-e4d7cc113b1c": {
        "id": "19cc588f-0593-49c9-9f4b-e4d7cc113b1c",
        "rgb": [
         252,
         252,
         252
        ]
       },
       "31af15d2-7e15-44c5-ab5e-e04b16a89eff": {
        "id": "31af15d2-7e15-44c5-ab5e-e04b16a89eff",
        "rgb": [
         68,
         68,
         68
        ]
       },
       "50f92c45-a630-455b-aec3-788680ec7410": {
        "id": "50f92c45-a630-455b-aec3-788680ec7410",
        "rgb": [
         155,
         177,
         192
        ]
       },
       "c5cc3653-2ee1-402a-aba2-7caae1da4f6c": {
        "id": "c5cc3653-2ee1-402a-aba2-7caae1da4f6c",
        "rgb": [
         43,
         126,
         184
        ]
       },
       "efa7f048-9acb-414c-8b04-a26811511a21": {
        "id": "efa7f048-9acb-414c-8b04-a26811511a21",
        "rgb": [
         25.118061674008803,
         73.60176211453744,
         107.4819383259912
        ]
       }
      },
      "rules": {
       "blockquote": {
        "color": "50f92c45-a630-455b-aec3-788680ec7410"
       },
       "code": {
        "font-family": "Anonymous Pro"
       },
       "h1": {
        "color": "c5cc3653-2ee1-402a-aba2-7caae1da4f6c",
        "font-family": "Lato",
        "font-size": 8
       },
       "h2": {
        "color": "c5cc3653-2ee1-402a-aba2-7caae1da4f6c",
        "font-family": "Lato",
        "font-size": 6
       },
       "h3": {
        "color": "50f92c45-a630-455b-aec3-788680ec7410",
        "font-family": "Lato",
        "font-size": 5.5
       },
       "h4": {
        "color": "c5cc3653-2ee1-402a-aba2-7caae1da4f6c",
        "font-family": "Lato",
        "font-size": 5
       },
       "h5": {
        "font-family": "Lato"
       },
       "h6": {
        "font-family": "Lato"
       },
       "h7": {
        "font-family": "Lato"
       },
       "pre": {
        "font-family": "Anonymous Pro",
        "font-size": 4
       }
      },
      "text-base": {
       "font-family": "Merriweather",
       "font-size": 4
      }
     }
    }
   }
  }
 },
 "nbformat": 4,
 "nbformat_minor": 0
}
