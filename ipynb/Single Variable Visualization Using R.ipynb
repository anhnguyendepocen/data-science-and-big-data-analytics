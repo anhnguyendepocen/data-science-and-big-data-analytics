{
 "cells": [
  {
   "cell_type": "markdown",
   "metadata": {
    "nbpresent": {
     "id": "a55b2c2d-724d-47ce-b0b7-a1618ee617cb"
    }
   },
   "source": [
    "# Single Variable Visualization Using R\n",
    "## Sukhjit Singh Sehra\n",
    "### Guru Nana Dev Engineering College, Ludhiana"
   ]
  },
  {
   "cell_type": "markdown",
   "metadata": {
    "nbpresent": {
     "id": "cca44adc-026e-4ce6-a4ed-7ec5b44d7b5b"
    }
   },
   "source": [
    "## Using visual representations of data is a hallmark of exploratory data analyses\n",
    "\n",
    "### Letting the data speak to its audience rather than imposing an interpretation on the data"
   ]
  },
  {
   "cell_type": "markdown",
   "metadata": {
    "collapsed": true,
    "nbpresent": {
     "id": "dcf74f75-07f9-43bb-aae7-d9f37d7b62e8"
    }
   },
   "source": [
    " Example Functions for Visualizing a Single Variable\n",
    " \n",
    " \n",
    "| Functions |  Purpose|\n",
    "| ------------- |:-----------------------------------------------------:|\n",
    "|     plot(data)|   Scatterplot where x is the index and y is the value suitable for low-volume data;|\n",
    "|barplot(data)  | Barplot with vertical or horizontal bars|\n",
    "|dotchart(data) | Cleveland dot plot |\n",
    "|hst(data)| Histogram|\n",
    "|plot(density(data))| Density plot (a continuous histogram)|\n",
    "|stem(data)| Stem-and-leaf plot|\n",
    "|rug(data)| Add a rug representation (1-d plot) of the data to an existing plot|\n",
    "\n"
   ]
  },
  {
   "cell_type": "markdown",
   "metadata": {
    "nbpresent": {
     "id": "d2e73c60-069f-42a7-a197-96b5264c0fb6"
    }
   },
   "source": [
    "## Dotchart and Barplot\n"
   ]
  },
  {
   "cell_type": "markdown",
   "metadata": {
    "nbpresent": {
     "id": "3cc3941a-e0c4-4ba4-bd3c-3f19e5468812"
    }
   },
   "source": [
    "Dotchart and barplot portray continuous values with labels from a discrete variable. A dotchart can be\n",
    "created in R with the function dotchart(x, label=...), where x is a numeric vector and label\n",
    "is a vector of categorical labels for x.\n",
    "\n"
   ]
  },
  {
   "cell_type": "code",
   "execution_count": null,
   "metadata": {
    "collapsed": false,
    "nbpresent": {
     "id": "f9c1712e-9a13-46c6-9abd-6d7292fc3062"
    }
   },
   "outputs": [],
   "source": [
    "data(mtcars)\n",
    "str(mtcars)\n",
    "#length(mtcars$mpg)\n",
    "dotchart(mtcars$mpg,labels=row.names(mtcars),cex=.7,main=\"Miles Per Gallon (MPG) of Car Models\",xlab=\"MPG\")\n",
    "barplot(table(mtcars$cyl), main=\"Distribution of Car Cylinder Counts\",xlab=\"Number of Cylinders\")"
   ]
  },
  {
   "cell_type": "markdown",
   "metadata": {
    "nbpresent": {
     "id": "428c2457-d463-43c5-b644-ca339b1e107d"
    }
   },
   "source": [
    "## Histogram and Density Plot\n"
   ]
  },
  {
   "cell_type": "markdown",
   "metadata": {
    "nbpresent": {
     "id": "1dbbda6c-5ffc-4d99-b55e-7889ac69079e"
    }
   },
   "source": [
    "#### Used to show the accumulation of data one particular value. \n",
    "- In the data preparation phase of the Data Analytics Lifecycle, the data range and distribution can be obtained. If the data is skewed, viewing the logarithm of the data (if it’s all positive) can help detect structures that might otherwise be overlooked in a graph with a regular, nonlogarithmic scale.\n",
    "#### Algorithmic Plots\n",
    "- It is to respond to skewness towards large values; i.e., cases in which one or a few points are much larger than the bulk of the data. The second is to show percent change or multiplicative factors. \n",
    "- It describes rates of change"
   ]
  },
  {
   "cell_type": "code",
   "execution_count": null,
   "metadata": {
    "collapsed": false,
    "nbpresent": {
     "id": "ee80a3fc-ee29-454b-b9a9-738ef56c0ce4"
    }
   },
   "outputs": [],
   "source": [
    "# randomly generate 4000 observations from the log normal distribution\n",
    "income <- rlnorm(4000, meanlog = 4, sdlog = 0.7)\n",
    "summary(income)\n",
    "income <- 1000*income\n",
    "summary(income)"
   ]
  },
  {
   "cell_type": "code",
   "execution_count": null,
   "metadata": {
    "collapsed": true,
    "nbpresent": {
     "id": "942538d6-608b-4e47-aa7b-3dcf6c09df62"
    }
   },
   "outputs": [],
   "source": [
    "# plot the histogram\n",
    "hist(income, breaks=500, xlab=\"Income\", main=\"Histogram of Income\")\n",
    "\n"
   ]
  },
  {
   "cell_type": "markdown",
   "metadata": {
    "nbpresent": {
     "id": "c82407c6-1d6b-47c8-9c9d-e5383b88fec0"
    }
   },
   "source": [
    "## Kernel Density Plots\n",
    "\n",
    "### Kernal density plots are usually a much more effective way to view the distribution of a variable. Create the plot using plot(density(x)) where x is a numeric vector. "
   ]
  },
  {
   "cell_type": "markdown",
   "metadata": {
    "collapsed": false,
    "nbpresent": {
     "id": "53b03fb9-604d-48e1-bb4f-5cb3a46a7f18"
    }
   },
   "source": [
    "# density plot\n",
    "plot(density(log10(income), adjust=0.5),\n",
    "main=\"Distribution of Income (log10 scale)\")\n",
    "# add rug to the density plot\n",
    "rug(log10(income))"
   ]
  },
  {
   "cell_type": "markdown",
   "metadata": {
    "nbpresent": {
     "id": "dd8988ff-deb0-49b6-94b5-75f672eeffa6"
    }
   },
   "source": [
    "#### Using  diamonds dataset comes with the ggplot2 package.\n"
   ]
  },
  {
   "cell_type": "code",
   "execution_count": null,
   "metadata": {
    "collapsed": false,
    "nbpresent": {
     "id": "c9642a09-8519-4276-b7ab-cd6d02a4a74e"
    }
   },
   "outputs": [],
   "source": [
    "library(ggplot2) # load the diamonds dataset from ggplot2\n",
    "data(diamonds) # Only keep the premium and ideal cuts of diamonds\n",
    "\n",
    "niceDiamonds <- diamonds[diamonds$cut==\"Premium\" |diamonds$cut==\"Ideal\",]\n",
    "\n",
    "summary(niceDiamonds$cut)\n",
    "\n",
    "# plot density plot of diamond prices\n",
    "ggplot(niceDiamonds, aes(x=price, fill=cut)) +\n",
    "geom_density(alpha = .3, color=NA)\n",
    "# plot density plot of the log10 of diamond prices\n",
    "ggplot(niceDiamonds, aes(x=log10(price), fill=cut)) +\n",
    "geom_density(alpha = .3, color=NA)\n",
    "\n",
    "    \n"
   ]
  },
  {
   "cell_type": "markdown",
   "metadata": {
    "collapsed": true,
    "nbpresent": {
     "id": "e0651fd5-5aa5-499b-b167-833b5dc05f47"
    }
   },
   "source": [
    "## Examining the Multiple Variables"
   ]
  },
  {
   "cell_type": "markdown",
   "metadata": {
    "nbpresent": {
     "id": "f7074d0a-a9de-4329-b863-fd5d5a5cfe68"
    }
   },
   "source": [
    "## A scatterplot is a simple and widely used visualization for finding the relationship among multiple variables. A scatterplot can represent data with up to five variables using x-axis, y-axis, size, color, and shape.  But normally fewer variables are mapped."
   ]
  },
  {
   "cell_type": "markdown",
   "metadata": {
    "nbpresent": {
     "id": "31371a78-bd17-49f5-9a64-c3ada261710e"
    }
   },
   "source": [
    "## When examining a scatterplot, one needs to pay close attention to the possible relationship between the variables.\n",
    "- If the functional relationship between the variables is somewhat pronounced, the data may roughly lie along a straight line, a parabola, or an exponential curve. \n",
    "- If variable y is related exponentially to x, then the plot of x versus log(y) is approximately linear. \n",
    "- If the plot looks more like a cluster without a pattern, the corresponding variables may have a weak relationship"
   ]
  },
  {
   "cell_type": "code",
   "execution_count": null,
   "metadata": {
    "collapsed": false,
    "nbpresent": {
     "id": "75020be0-e82d-4e82-a359-3794c2f2a6f4"
    }
   },
   "outputs": [],
   "source": [
    "# 75 numbers between 0 and 10 of uniform distribution\n",
    "x <- runif(75, 0, 10)\n",
    "x <- sort(x)\n",
    "y <- 200 + x^3 - 10 * x^2 + x + rnorm(75, 0, 20) # The rnorm(75,0,20) generates 75 numbers that conform to the normal distribution, with the mean equal to 0 and the standard deviation equal to 20. \n"
   ]
  },
  {
   "cell_type": "code",
   "execution_count": null,
   "metadata": {
    "collapsed": true,
    "nbpresent": {
     "id": "9037e911-c2e0-4441-91e8-ac1994b434bd"
    }
   },
   "outputs": [],
   "source": [
    "lr <- lm(y ~ x) # linear regression\n",
    "poly <- loess(y ~ x) # LOESS\n",
    "\n",
    "fit <- predict(poly) # fit a nonlinear line\n"
   ]
  },
  {
   "cell_type": "code",
   "execution_count": null,
   "metadata": {
    "collapsed": false,
    "nbpresent": {
     "id": "1df84d95-8aac-43fe-811a-3c66596dfb03"
    }
   },
   "outputs": [],
   "source": [
    "plot(x,y)\n",
    "# draw the fitted line for the linear regression The points() function is a generic function that draws a sequence of points at the specified coordinates. Parameter type=\"l\" tells the function to draw a solid\n",
    "#line. The col parameter sets the color of the line, where 2 represents the red color and 4 represents the blue color\n",
    "points(x, lr$coefficients[1] + lr$coefficients[2] * x, type = \"l\", col = 2) \n",
    "# draw the fitted line with LOESS function\n",
    "points(x, fit, type = \"l\", col = 4)"
   ]
  },
  {
   "cell_type": "markdown",
   "metadata": {
    "nbpresent": {
     "id": "3113aba8-fcac-4c76-a57c-5a06b2170ee0"
    }
   },
   "source": [
    "## Dot Chart and Bar Plots can also be used for multiple variable"
   ]
  },
  {
   "cell_type": "markdown",
   "metadata": {
    "nbpresent": {
     "id": "60ed3781-ecf7-4c43-876c-0dc9cb27edaf"
    }
   },
   "source": [
    "# Box and Box-and-whisker plot"
   ]
  },
  {
   "cell_type": "markdown",
   "metadata": {
    "nbpresent": {
     "id": "cbce4757-c52c-4699-a983-2ebcb731bf6a"
    }
   },
   "source": [
    " - Box-and-whisker plots show the distribution of a continuous variable for each value of a discrete variable.\n",
    " - The “box” of the box-and-whisker shows the range that contains the central 50% of the data, and the line inside the box is the location of the median value.\n",
    " - The upper and lower hinges of the boxes correspond to the first and third quartiles of the data. The upper whisker extends from the hinge to the highest value that is within 1.5 * IQR of the hinge. The lower whisker extends from the hinge to the lowest value within 1.5 * IQR of the hinge.\n",
    "    "
   ]
  }
 ],
 "metadata": {
  "kernelspec": {
   "display_name": "R",
   "language": "R",
   "name": "ir"
  },
  "language_info": {
   "codemirror_mode": "r",
   "file_extension": ".r",
   "mimetype": "text/x-r-source",
   "name": "R",
   "pygments_lexer": "r",
   "version": "3.3.1"
  },
  "nbpresent": {
   "slides": {
    "00b732b3-1d98-493c-8afa-a78c40c8d0f9": {
     "id": "00b732b3-1d98-493c-8afa-a78c40c8d0f9",
     "prev": "d0f55740-4ce4-4931-9ce5-4907aca95a41",
     "regions": {
      "ac2f36f7-e335-43ac-965c-567c28bbb338": {
       "attrs": {
        "height": 0.8,
        "width": 0.8,
        "x": 0.1,
        "y": 0.1
       },
       "content": {
        "cell": "31371a78-bd17-49f5-9a64-c3ada261710e",
        "part": "whole"
       },
       "id": "ac2f36f7-e335-43ac-965c-567c28bbb338"
      }
     }
    },
    "10d59eec-d341-4459-9847-9aea1d2d718f": {
     "id": "10d59eec-d341-4459-9847-9aea1d2d718f",
     "prev": "157de937-f4ad-42ad-9fce-c74bd7e75ecc",
     "regions": {
      "2249a4e2-7d7b-4d85-bec2-4420204096d2": {
       "attrs": {
        "height": 0.8,
        "width": 0.8,
        "x": 0.1,
        "y": 0.1
       },
       "content": {
        "cell": "942538d6-608b-4e47-aa7b-3dcf6c09df62",
        "part": "whole"
       },
       "id": "2249a4e2-7d7b-4d85-bec2-4420204096d2"
      }
     }
    },
    "157de937-f4ad-42ad-9fce-c74bd7e75ecc": {
     "id": "157de937-f4ad-42ad-9fce-c74bd7e75ecc",
     "prev": "86904c2e-9c97-457c-b2e1-9bfa31977592",
     "regions": {
      "c263eb1a-9102-4165-9601-25e326e66981": {
       "attrs": {
        "height": 0.8,
        "width": 0.8,
        "x": 0.1,
        "y": 0.1
       },
       "content": {
        "cell": "ee80a3fc-ee29-454b-b9a9-738ef56c0ce4",
        "part": "whole"
       },
       "id": "c263eb1a-9102-4165-9601-25e326e66981"
      }
     }
    },
    "178a0cfd-f5f7-4598-890d-a95e368c7836": {
     "id": "178a0cfd-f5f7-4598-890d-a95e368c7836",
     "prev": "88f9eec6-88fa-49b4-b854-1dde59abdb39",
     "regions": {
      "0a546d4f-163e-4a01-b6b4-957d299934f1": {
       "attrs": {
        "height": 0.8,
        "width": 0.8,
        "x": 0.1,
        "y": 0.1
       },
       "content": {
        "cell": "428c2457-d463-43c5-b644-ca339b1e107d",
        "part": "whole"
       },
       "id": "0a546d4f-163e-4a01-b6b4-957d299934f1"
      }
     }
    },
    "2b5185cc-318e-488a-bfdf-5d21ca19d1e3": {
     "id": "2b5185cc-318e-488a-bfdf-5d21ca19d1e3",
     "prev": "9a7cd09f-7ff5-438f-8ccd-ce54bf615d4e",
     "regions": {
      "6b99d92f-a28d-4707-afc2-994e9c984943": {
       "attrs": {
        "height": 0.8,
        "width": 0.8,
        "x": 0.1,
        "y": 0.1
       },
       "content": {
        "cell": "cca44adc-026e-4ce6-a4ed-7ec5b44d7b5b",
        "part": "whole"
       },
       "id": "6b99d92f-a28d-4707-afc2-994e9c984943"
      }
     }
    },
    "352b02eb-731d-42af-8201-d8e93150acd2": {
     "id": "352b02eb-731d-42af-8201-d8e93150acd2",
     "prev": "e70fbab5-542d-45ff-85cb-844b6948ea46",
     "regions": {
      "52b77900-8100-4175-9ffe-d027667d72e9": {
       "attrs": {
        "height": 0.8,
        "width": 0.8,
        "x": 0.1,
        "y": 0.1
       },
       "content": {
        "cell": "53b03fb9-604d-48e1-bb4f-5cb3a46a7f18",
        "part": "whole"
       },
       "id": "52b77900-8100-4175-9ffe-d027667d72e9"
      }
     }
    },
    "5cae763e-967c-476a-95c0-c2570a3b6c14": {
     "id": "5cae763e-967c-476a-95c0-c2570a3b6c14",
     "prev": "e569d04e-c2cb-4881-bd5d-571bcfe76333",
     "regions": {
      "4206c4bf-89cb-4d55-862b-318a299adb6e": {
       "attrs": {
        "height": 0.8,
        "width": 0.8,
        "x": 0.1,
        "y": 0.1
       },
       "content": {
        "cell": "3113aba8-fcac-4c76-a57c-5a06b2170ee0",
        "part": "whole"
       },
       "id": "4206c4bf-89cb-4d55-862b-318a299adb6e"
      }
     }
    },
    "80f6f75f-cbbb-4476-b8a5-7dad0fdfe1b3": {
     "id": "80f6f75f-cbbb-4476-b8a5-7dad0fdfe1b3",
     "prev": "f42bc758-ef8a-4051-8299-6ce1eeef040a",
     "regions": {
      "29ae7c3f-6907-49dd-8f37-28ca268530c3": {
       "attrs": {
        "height": 0.8,
        "width": 0.8,
        "x": 0.1,
        "y": 0.1
       },
       "content": {
        "cell": "cbce4757-c52c-4699-a983-2ebcb731bf6a",
        "part": "whole"
       },
       "id": "29ae7c3f-6907-49dd-8f37-28ca268530c3"
      }
     }
    },
    "86904c2e-9c97-457c-b2e1-9bfa31977592": {
     "id": "86904c2e-9c97-457c-b2e1-9bfa31977592",
     "prev": "178a0cfd-f5f7-4598-890d-a95e368c7836",
     "regions": {
      "e916f414-524b-4952-ba4f-8f184d90bb31": {
       "attrs": {
        "height": 0.8,
        "width": 0.8,
        "x": 0.1,
        "y": 0.1
       },
       "content": {
        "cell": "1dbbda6c-5ffc-4d99-b55e-7889ac69079e",
        "part": "whole"
       },
       "id": "e916f414-524b-4952-ba4f-8f184d90bb31"
      }
     }
    },
    "88f9eec6-88fa-49b4-b854-1dde59abdb39": {
     "id": "88f9eec6-88fa-49b4-b854-1dde59abdb39",
     "prev": "d8f6340e-0db2-41d0-842a-3f0c8a0526ad",
     "regions": {
      "e14ed61f-d770-4767-81f4-0f9696c38d5d": {
       "attrs": {
        "height": 0.8,
        "width": 0.8,
        "x": 0.1,
        "y": 0.1
       },
       "content": {
        "cell": "f9c1712e-9a13-46c6-9abd-6d7292fc3062",
        "part": "whole"
       },
       "id": "e14ed61f-d770-4767-81f4-0f9696c38d5d"
      }
     }
    },
    "9a7cd09f-7ff5-438f-8ccd-ce54bf615d4e": {
     "id": "9a7cd09f-7ff5-438f-8ccd-ce54bf615d4e",
     "prev": null,
     "regions": {
      "b71b0995-9914-4438-9e4f-45da763a6758": {
       "attrs": {
        "height": 0.8,
        "width": 0.8,
        "x": 0.1,
        "y": 0.1
       },
       "content": {
        "cell": "a55b2c2d-724d-47ce-b0b7-a1618ee617cb",
        "part": "whole"
       },
       "id": "b71b0995-9914-4438-9e4f-45da763a6758"
      }
     }
    },
    "a2ac1ffd-c935-44d3-b18e-944d3c3643a7": {
     "id": "a2ac1ffd-c935-44d3-b18e-944d3c3643a7",
     "prev": "dfbafe0a-6a59-422c-bc07-a0aedc959a00",
     "regions": {
      "dcd15aab-f01e-4ea1-8b4e-624cdbe2e4a5": {
       "attrs": {
        "height": 0.8,
        "width": 0.8,
        "x": 0.1,
        "y": 0.1
       },
       "content": {
        "cell": "e0651fd5-5aa5-499b-b167-833b5dc05f47",
        "part": "whole"
       },
       "id": "dcd15aab-f01e-4ea1-8b4e-624cdbe2e4a5"
      }
     }
    },
    "a61fd0f9-48f6-45c8-9415-8859927a7311": {
     "id": "a61fd0f9-48f6-45c8-9415-8859927a7311",
     "prev": "352b02eb-731d-42af-8201-d8e93150acd2",
     "regions": {
      "5de57271-03df-4261-b4e8-af7d8af209b5": {
       "attrs": {
        "height": 0.8,
        "width": 0.8,
        "x": 0.1,
        "y": 0.1
       },
       "content": {
        "cell": "dd8988ff-deb0-49b6-94b5-75f672eeffa6",
        "part": "whole"
       },
       "id": "5de57271-03df-4261-b4e8-af7d8af209b5"
      }
     }
    },
    "a6d9aaaa-0576-48fa-9a4c-93922645f1ea": {
     "id": "a6d9aaaa-0576-48fa-9a4c-93922645f1ea",
     "prev": "2b5185cc-318e-488a-bfdf-5d21ca19d1e3",
     "regions": {
      "9ee480b9-b797-477a-ba10-9deb1f51f4e5": {
       "attrs": {
        "height": 0.8,
        "width": 0.8,
        "x": 0.1,
        "y": 0.1
       },
       "content": {
        "cell": "dcf74f75-07f9-43bb-aae7-d9f37d7b62e8",
        "part": "whole"
       },
       "id": "9ee480b9-b797-477a-ba10-9deb1f51f4e5"
      }
     }
    },
    "aa075d09-1bbf-40cc-8bce-3ff21754ae9e": {
     "id": "aa075d09-1bbf-40cc-8bce-3ff21754ae9e",
     "prev": "ee767868-503b-4c09-9740-9b203c39a830",
     "regions": {
      "ebf53372-0db4-4192-82e3-6f0db1e6aced": {
       "attrs": {
        "height": 0.8,
        "width": 0.8,
        "x": 0.1,
        "y": 0.1
       },
       "content": {
        "cell": "9037e911-c2e0-4441-91e8-ac1994b434bd",
        "part": "whole"
       },
       "id": "ebf53372-0db4-4192-82e3-6f0db1e6aced"
      }
     }
    },
    "d0f55740-4ce4-4931-9ce5-4907aca95a41": {
     "id": "d0f55740-4ce4-4931-9ce5-4907aca95a41",
     "prev": "a2ac1ffd-c935-44d3-b18e-944d3c3643a7",
     "regions": {
      "124bd98a-4932-4f9b-8cfc-7340a3d4be9c": {
       "attrs": {
        "height": 0.8,
        "width": 0.8,
        "x": 0.1,
        "y": 0.1
       },
       "content": {
        "cell": "f7074d0a-a9de-4329-b863-fd5d5a5cfe68",
        "part": "whole"
       },
       "id": "124bd98a-4932-4f9b-8cfc-7340a3d4be9c"
      }
     }
    },
    "d1a9c1c0-64ee-48b4-b54f-aab00d75539f": {
     "id": "d1a9c1c0-64ee-48b4-b54f-aab00d75539f",
     "prev": "a6d9aaaa-0576-48fa-9a4c-93922645f1ea",
     "regions": {
      "dac3484a-8434-47a7-8dcd-3eeb6a8f0d68": {
       "attrs": {
        "height": 0.8,
        "width": 0.8,
        "x": 0.1,
        "y": 0.1
       },
       "content": {
        "cell": "d2e73c60-069f-42a7-a197-96b5264c0fb6",
        "part": "whole"
       },
       "id": "dac3484a-8434-47a7-8dcd-3eeb6a8f0d68"
      }
     }
    },
    "d8f6340e-0db2-41d0-842a-3f0c8a0526ad": {
     "id": "d8f6340e-0db2-41d0-842a-3f0c8a0526ad",
     "prev": "d1a9c1c0-64ee-48b4-b54f-aab00d75539f",
     "regions": {
      "54f734da-00a8-4daf-8a3c-34f5e88bacd2": {
       "attrs": {
        "height": 0.8,
        "width": 0.8,
        "x": 0.1,
        "y": 0.1
       },
       "content": {
        "cell": "3cc3941a-e0c4-4ba4-bd3c-3f19e5468812",
        "part": "whole"
       },
       "id": "54f734da-00a8-4daf-8a3c-34f5e88bacd2"
      }
     }
    },
    "dfbafe0a-6a59-422c-bc07-a0aedc959a00": {
     "id": "dfbafe0a-6a59-422c-bc07-a0aedc959a00",
     "prev": "a61fd0f9-48f6-45c8-9415-8859927a7311",
     "regions": {
      "de3a5f1c-571e-4aca-aa19-8fa5af1b35e7": {
       "attrs": {
        "height": 0.8,
        "width": 0.8,
        "x": 0.1,
        "y": 0.1
       },
       "content": {
        "cell": "c9642a09-8519-4276-b7ab-cd6d02a4a74e",
        "part": "whole"
       },
       "id": "de3a5f1c-571e-4aca-aa19-8fa5af1b35e7"
      }
     }
    },
    "e569d04e-c2cb-4881-bd5d-571bcfe76333": {
     "id": "e569d04e-c2cb-4881-bd5d-571bcfe76333",
     "prev": "aa075d09-1bbf-40cc-8bce-3ff21754ae9e",
     "regions": {
      "cd999016-a412-4986-9951-4404a83269b3": {
       "attrs": {
        "height": 0.8,
        "width": 0.8,
        "x": 0.1,
        "y": 0.1
       },
       "content": {
        "cell": "1df84d95-8aac-43fe-811a-3c66596dfb03",
        "part": "whole"
       },
       "id": "cd999016-a412-4986-9951-4404a83269b3"
      }
     }
    },
    "e70fbab5-542d-45ff-85cb-844b6948ea46": {
     "id": "e70fbab5-542d-45ff-85cb-844b6948ea46",
     "prev": "10d59eec-d341-4459-9847-9aea1d2d718f",
     "regions": {
      "3e780972-82fb-46d4-b551-7d790300d0fc": {
       "attrs": {
        "height": 0.8,
        "width": 0.8,
        "x": 0.1,
        "y": 0.1
       },
       "content": {
        "cell": "c82407c6-1d6b-47c8-9c9d-e5383b88fec0",
        "part": "whole"
       },
       "id": "3e780972-82fb-46d4-b551-7d790300d0fc"
      }
     }
    },
    "ee767868-503b-4c09-9740-9b203c39a830": {
     "id": "ee767868-503b-4c09-9740-9b203c39a830",
     "prev": "00b732b3-1d98-493c-8afa-a78c40c8d0f9",
     "regions": {
      "f5ea9fff-fbed-41d3-8ec5-81ef513cf21c": {
       "attrs": {
        "height": 0.8,
        "width": 0.8,
        "x": 0.1,
        "y": 0.1
       },
       "content": {
        "cell": "75020be0-e82d-4e82-a359-3794c2f2a6f4",
        "part": "whole"
       },
       "id": "f5ea9fff-fbed-41d3-8ec5-81ef513cf21c"
      }
     }
    },
    "f42bc758-ef8a-4051-8299-6ce1eeef040a": {
     "id": "f42bc758-ef8a-4051-8299-6ce1eeef040a",
     "prev": "5cae763e-967c-476a-95c0-c2570a3b6c14",
     "regions": {
      "dcbe21cf-a12f-4774-a618-465601230185": {
       "attrs": {
        "height": 0.8,
        "width": 0.8,
        "x": 0.1,
        "y": 0.1
       },
       "content": {
        "cell": "60ed3781-ecf7-4c43-876c-0dc9cb27edaf",
        "part": "whole"
       },
       "id": "dcbe21cf-a12f-4774-a618-465601230185"
      }
     }
    }
   },
   "themes": {
    "default": "a9ac563a-de54-4b01-8edf-c98fa35d5c0f",
    "theme": {
     "a3014a4e-8a91-4fe5-925c-fbb973b1326c": {
      "backgrounds": {
       "dc7afa04-bf90-40b1-82a5-726e3cff5267": {
        "background-color": "31af15d2-7e15-44c5-ab5e-e04b16a89eff",
        "id": "dc7afa04-bf90-40b1-82a5-726e3cff5267"
       }
      },
      "id": "a3014a4e-8a91-4fe5-925c-fbb973b1326c",
      "palette": {
       "19cc588f-0593-49c9-9f4b-e4d7cc113b1c": {
        "id": "19cc588f-0593-49c9-9f4b-e4d7cc113b1c",
        "rgb": [
         252,
         252,
         252
        ]
       },
       "31af15d2-7e15-44c5-ab5e-e04b16a89eff": {
        "id": "31af15d2-7e15-44c5-ab5e-e04b16a89eff",
        "rgb": [
         68,
         68,
         68
        ]
       },
       "50f92c45-a630-455b-aec3-788680ec7410": {
        "id": "50f92c45-a630-455b-aec3-788680ec7410",
        "rgb": [
         197,
         226,
         245
        ]
       },
       "c5cc3653-2ee1-402a-aba2-7caae1da4f6c": {
        "id": "c5cc3653-2ee1-402a-aba2-7caae1da4f6c",
        "rgb": [
         43,
         126,
         184
        ]
       },
       "efa7f048-9acb-414c-8b04-a26811511a21": {
        "id": "efa7f048-9acb-414c-8b04-a26811511a21",
        "rgb": [
         25.118061674008803,
         73.60176211453744,
         107.4819383259912
        ]
       }
      },
      "rules": {
       "a": {
        "color": "19cc588f-0593-49c9-9f4b-e4d7cc113b1c"
       },
       "blockquote": {
        "color": "50f92c45-a630-455b-aec3-788680ec7410",
        "font-size": 3
       },
       "code": {
        "font-family": "Anonymous Pro"
       },
       "h1": {
        "color": "19cc588f-0593-49c9-9f4b-e4d7cc113b1c",
        "font-family": "Merriweather",
        "font-size": 8
       },
       "h2": {
        "color": "19cc588f-0593-49c9-9f4b-e4d7cc113b1c",
        "font-family": "Merriweather",
        "font-size": 6
       },
       "h3": {
        "color": "50f92c45-a630-455b-aec3-788680ec7410",
        "font-family": "Lato",
        "font-size": 5.5
       },
       "h4": {
        "color": "c5cc3653-2ee1-402a-aba2-7caae1da4f6c",
        "font-family": "Lato",
        "font-size": 5
       },
       "h5": {
        "font-family": "Lato"
       },
       "h6": {
        "font-family": "Lato"
       },
       "h7": {
        "font-family": "Lato"
       },
       "li": {
        "color": "50f92c45-a630-455b-aec3-788680ec7410",
        "font-size": 3.25
       },
       "pre": {
        "font-family": "Anonymous Pro",
        "font-size": 4
       }
      },
      "text-base": {
       "color": "19cc588f-0593-49c9-9f4b-e4d7cc113b1c",
       "font-family": "Lato",
       "font-size": 4
      }
     },
     "a9ac563a-de54-4b01-8edf-c98fa35d5c0f": {
      "id": "a9ac563a-de54-4b01-8edf-c98fa35d5c0f",
      "palette": {
       "19cc588f-0593-49c9-9f4b-e4d7cc113b1c": {
        "id": "19cc588f-0593-49c9-9f4b-e4d7cc113b1c",
        "rgb": [
         252,
         252,
         252
        ]
       },
       "31af15d2-7e15-44c5-ab5e-e04b16a89eff": {
        "id": "31af15d2-7e15-44c5-ab5e-e04b16a89eff",
        "rgb": [
         68,
         68,
         68
        ]
       },
       "50f92c45-a630-455b-aec3-788680ec7410": {
        "id": "50f92c45-a630-455b-aec3-788680ec7410",
        "rgb": [
         155,
         177,
         192
        ]
       },
       "c5cc3653-2ee1-402a-aba2-7caae1da4f6c": {
        "id": "c5cc3653-2ee1-402a-aba2-7caae1da4f6c",
        "rgb": [
         43,
         126,
         184
        ]
       },
       "efa7f048-9acb-414c-8b04-a26811511a21": {
        "id": "efa7f048-9acb-414c-8b04-a26811511a21",
        "rgb": [
         25.118061674008803,
         73.60176211453744,
         107.4819383259912
        ]
       }
      },
      "rules": {
       "blockquote": {
        "color": "50f92c45-a630-455b-aec3-788680ec7410"
       },
       "code": {
        "font-family": "Anonymous Pro"
       },
       "h1": {
        "color": "c5cc3653-2ee1-402a-aba2-7caae1da4f6c",
        "font-family": "Lato",
        "font-size": 8
       },
       "h2": {
        "color": "c5cc3653-2ee1-402a-aba2-7caae1da4f6c",
        "font-family": "Lato",
        "font-size": 6
       },
       "h3": {
        "color": "50f92c45-a630-455b-aec3-788680ec7410",
        "font-family": "Lato",
        "font-size": 5.5
       },
       "h4": {
        "color": "c5cc3653-2ee1-402a-aba2-7caae1da4f6c",
        "font-family": "Lato",
        "font-size": 5
       },
       "h5": {
        "font-family": "Lato"
       },
       "h6": {
        "font-family": "Lato"
       },
       "h7": {
        "font-family": "Lato"
       },
       "pre": {
        "font-family": "Anonymous Pro",
        "font-size": 4
       }
      },
      "text-base": {
       "font-family": "Merriweather",
       "font-size": 4
      }
     }
    }
   }
  }
 },
 "nbformat": 4,
 "nbformat_minor": 0
}
