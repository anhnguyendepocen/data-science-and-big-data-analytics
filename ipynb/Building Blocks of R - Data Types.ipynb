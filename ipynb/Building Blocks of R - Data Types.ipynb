{
 "cells": [
  {
   "cell_type": "markdown",
   "metadata": {
    "nbpresent": {
     "id": "96074067-b1be-4610-94c6-bf704f565966"
    }
   },
   "source": [
    "# Data Reading and Writing \n",
    " For reading and writing to csv files, first you need to set the working directory and to know the current workgin directory use:"
   ]
  },
  {
   "cell_type": "code",
   "execution_count": null,
   "metadata": {
    "collapsed": false,
    "nbpresent": {
     "id": "01deb5c7-bbbe-435a-bc53-1647cae12561"
    }
   },
   "outputs": [],
   "source": [
    "\n",
    "getwd()\n"
   ]
  },
  {
   "cell_type": "markdown",
   "metadata": {
    "nbpresent": {
     "id": "85a85966-707f-4315-80d7-14693d84aebd"
    }
   },
   "source": [
    "### Set the desired directory by placing the address of the floder/workspace"
   ]
  },
  {
   "cell_type": "code",
   "execution_count": null,
   "metadata": {
    "collapsed": false,
    "nbpresent": {
     "id": "6f54f35f-96c9-4f32-9703-41e99d112667"
    }
   },
   "outputs": [],
   "source": [
    "setwd(\"/media/office/New Volume/BigDataMtech/Big Data M.tech/ipynb/\")\n",
    "sales <- read.csv(\"sampledatasets/ Superstoresale.csv\")\n"
   ]
  },
  {
   "cell_type": "markdown",
   "metadata": {
    "nbpresent": {
     "id": "f6b0af89-a618-40d5-877b-147713f7aae6"
    }
   },
   "source": [
    "sales <- read.csv is one method then other methods are read.table() and read.delim()\n",
    "sales_table <- read.table(\"yearly_sales.csv\", header=TRUE, sep=\",\") \n",
    "sales_delim <- read.delim(\"yearly_sales.csv\", sep=\",\")\n",
    "The main difference between these import functions is the default values. \n",
    "For example, the read.delim() function expects the column separator to be a tab (\"\\t\"). In the event that the numerical data in a data file uses a comma for the decimal, R also provides two additional functions—read.csv2() and read.delim2()—to import such data."
   ]
  },
  {
   "cell_type": "markdown",
   "metadata": {
    "nbpresent": {
     "id": "d0311d12-6205-479e-843c-1b27dbda8fbc"
    }
   },
   "source": [
    "## Writing Files"
   ]
  },
  {
   "cell_type": "markdown",
   "metadata": {
    "nbpresent": {
     "id": "1e2fceb7-ab47-4905-b056-4f40924279c1"
    }
   },
   "source": [
    "The analogous R functions such as write.table(), write.csv(), and write.csv2() enable exporting of R datasets to an external file. For example, the following R code adds an additional column to the sales dataset and exports the modified dataset to an external file.\n"
   ]
  },
  {
   "cell_type": "code",
   "execution_count": null,
   "metadata": {
    "collapsed": false,
    "nbpresent": {
     "id": "d170b76a-26d4-4651-9b22-8704a0bd915c"
    }
   },
   "outputs": [],
   "source": [
    "str(sales)"
   ]
  },
  {
   "cell_type": "code",
   "execution_count": null,
   "metadata": {
    "collapsed": false,
    "nbpresent": {
     "id": "34b83dc8-f9b7-4def-a1d1-c8b6a3944563"
    }
   },
   "outputs": [],
   "source": [
    "# add a column for the average sales per order sales\n",
    "sales$per_order <- sales$Sales/sales$Order.Quantity \n",
    "# export data as tab delimited without the row names \n",
    "write.table(sales,\"sales_modified.txt\", sep=\"\\t\", row.names=FALSE)"
   ]
  },
  {
   "cell_type": "code",
   "execution_count": null,
   "metadata": {
    "collapsed": false,
    "nbpresent": {
     "id": "133e2ca5-0084-40e3-bc50-f0a7d581c935"
    }
   },
   "outputs": [],
   "source": [
    "str(sales)"
   ]
  },
  {
   "cell_type": "markdown",
   "metadata": {
    "nbpresent": {
     "id": "001a6541-0931-4ab0-bed6-d8526bada71b"
    }
   },
   "source": [
    "### Database Connection"
   ]
  },
  {
   "cell_type": "markdown",
   "metadata": {
    "nbpresent": {
     "id": "35983f6f-643d-4f54-a22f-c384613cae24"
    }
   },
   "source": [
    "Sometimes it is necessary to read data from a database management system (DBMS). R packages such as DBI and RODBC, RPostgreSQL and sqldf are available for this purpose. These packages provide database interfaces for communication between R and DBMSs such as MySQL, Oracle, SQL Server, PostgreSQL, and Pivotal Greenplum. The following R code demonstrates how to install the RODBC package with:\n",
    "\n",
    "install.packages() function. \n",
    "\n",
    "The library() function loads the package into the R workspace."
   ]
  },
  {
   "cell_type": "markdown",
   "metadata": {
    "nbpresent": {
     "id": "db611024-4d9d-49a7-82ca-484642f464b4"
    }
   },
   "source": [
    "#### Connecting PostgreSQL to R"
   ]
  },
  {
   "cell_type": "markdown",
   "metadata": {
    "nbpresent": {
     "id": "21739db3-b730-4b20-a4c8-e0511530a84e"
    }
   },
   "source": [
    "To open connection to PostgreSQL database, you use dbConnect() command.  The simplest connection to localhost takes just two lines. Of course, you can connect to any PostgreSQL database by specifying all connections options – database name, host, port, user and password."
   ]
  },
  {
   "cell_type": "code",
   "execution_count": 32,
   "metadata": {
    "collapsed": false,
    "nbpresent": {
     "id": "e4f0de34-640b-4206-85c7-5612d65a6a23"
    }
   },
   "outputs": [],
   "source": [
    "library(RPostgreSQL)\n",
    "library(DBI)\n",
    "# Establish connection to PoststgreSQL using RPostgreSQL\n",
    "drv <- dbDriver(\"PostgreSQL\")\n",
    "#con <- dbConnect(drv)# Simple version (localhost as default)\n",
    " # Full version of connection seetting\n",
    "con <- dbConnect(drv, dbname=\"hist_osm_pb\",host=\"localhost\",port=5432,user=\"postgres\",password=\"a\")\n"
   ]
  },
  {
   "cell_type": "code",
   "execution_count": null,
   "metadata": {
    "collapsed": false,
    "nbpresent": {
     "id": "19a36ba2-9239-491e-a669-beb40976482b"
    }
   },
   "outputs": [],
   "source": [
    "# RPostgreSQL has the following main features. Test table existence (note the specific notation for schema identifaction):\n",
    "\n",
    "dbExistsTable(con, c(\"public\",\"hist_point\"))"
   ]
  },
  {
   "cell_type": "code",
   "execution_count": 22,
   "metadata": {
    "collapsed": false,
    "nbpresent": {
     "id": "e1eec9dc-ac43-49ba-adb4-83bce3ff84ce"
    }
   },
   "outputs": [],
   "source": [
    "mydata <- dbReadTable(con,c(\"public\",\"hist_point\"))"
   ]
  },
  {
   "cell_type": "code",
   "execution_count": 23,
   "metadata": {
    "collapsed": false,
    "nbpresent": {
     "id": "6e9c0faf-e9fb-4026-b869-46a2ada605bb"
    }
   },
   "outputs": [
    {
     "data": {
      "text/html": [
       "<table>\n",
       "<thead><tr><th scope=col>id</th><th scope=col>version</th><th scope=col>visible</th><th scope=col>user_id</th><th scope=col>user_name</th><th scope=col>valid_from</th><th scope=col>valid_to</th><th scope=col>tags</th><th scope=col>geom</th><th scope=col>typ</th><th scope=col>minor</th></tr></thead>\n",
       "<tbody>\n",
       "\t<tr><td>318607995                                         </td><td>2                                                 </td><td>TRUE                                              </td><td>1664889                                           </td><td>Mani707                                           </td><td>2014-01-27 16:11:45                               </td><td>NA                                                </td><td>                                                  </td><td>010100002031BF0D00CDCCCC2CC71B60419A9999195C9D4B41</td><td>point                                             </td><td>0                                                 </td></tr>\n",
       "\t<tr><td>331013071                                         </td><td>5                                                 </td><td>TRUE                                              </td><td> 375427                                           </td><td>zwombie                                           </td><td>2010-11-28 01:21:01                               </td><td>NA                                                </td><td>                                                  </td><td>010100002031BF0D000000000000000000910ECA42A65408BE</td><td>point                                             </td><td>0                                                 </td></tr>\n",
       "\t<tr><td>186532859                                         </td><td>3                                                 </td><td>TRUE                                              </td><td>1664889                                           </td><td>Mani707                                           </td><td>2014-04-03 06:40:11                               </td><td>NA                                                </td><td>                                                  </td><td>010100002031BF0D009A999999451760413333337381844B41</td><td>point                                             </td><td>0                                                 </td></tr>\n",
       "\t<tr><td>331031244                                         </td><td>3                                                 </td><td>TRUE                                              </td><td>1960718                                           </td><td>apm-wa                                            </td><td>2014-10-19 11:50:34                               </td><td>NA                                                </td><td>                                                  </td><td>010100002031BF0D009A999979E8CA5F419A9999D9535F4C41</td><td>point                                             </td><td>0                                                 </td></tr>\n",
       "\t<tr><td>331040957                                         </td><td>7                                                 </td><td>TRUE                                              </td><td> 275821                                           </td><td>Ramzes                                            </td><td>2011-04-06 16:05:57                               </td><td>NA                                                </td><td>                                                  </td><td>010100002031BF0D00CDCCCC6C42CB5F419A99999967574C41</td><td>point                                             </td><td>0                                                 </td></tr>\n",
       "\t<tr><td>331048652                                         </td><td>3                                                 </td><td>TRUE                                              </td><td>  89565                                           </td><td>nuvijunky                                         </td><td>2009-01-10 22:07:18                               </td><td>NA                                                </td><td>                                                  </td><td>010100002031BF0D0000000040E4CD5F4100000040BC524C41</td><td>point                                             </td><td>0                                                 </td></tr>\n",
       "</tbody>\n",
       "</table>\n"
      ],
      "text/latex": [
       "\\begin{tabular}{r|lllllllllll}\n",
       " id & version & visible & user\\_id & user\\_name & valid\\_from & valid\\_to & tags & geom & typ & minor\\\\\n",
       "\\hline\n",
       "\t 318607995                                          & 2                                                  & TRUE                                               & 1664889                                            & Mani707                                            & 2014-01-27 16:11:45                                & NA                                                 &                                                    & 010100002031BF0D00CDCCCC2CC71B60419A9999195C9D4B41 & point                                              & 0                                                 \\\\\n",
       "\t 331013071                                          & 5                                                  & TRUE                                               &  375427                                            & zwombie                                            & 2010-11-28 01:21:01                                & NA                                                 &                                                    & 010100002031BF0D000000000000000000910ECA42A65408BE & point                                              & 0                                                 \\\\\n",
       "\t 186532859                                          & 3                                                  & TRUE                                               & 1664889                                            & Mani707                                            & 2014-04-03 06:40:11                                & NA                                                 &                                                    & 010100002031BF0D009A999999451760413333337381844B41 & point                                              & 0                                                 \\\\\n",
       "\t 331031244                                          & 3                                                  & TRUE                                               & 1960718                                            & apm-wa                                             & 2014-10-19 11:50:34                                & NA                                                 &                                                    & 010100002031BF0D009A999979E8CA5F419A9999D9535F4C41 & point                                              & 0                                                 \\\\\n",
       "\t 331040957                                          & 7                                                  & TRUE                                               &  275821                                            & Ramzes                                             & 2011-04-06 16:05:57                                & NA                                                 &                                                    & 010100002031BF0D00CDCCCC6C42CB5F419A99999967574C41 & point                                              & 0                                                 \\\\\n",
       "\t 331048652                                          & 3                                                  & TRUE                                               &   89565                                            & nuvijunky                                          & 2009-01-10 22:07:18                                & NA                                                 &                                                    & 010100002031BF0D0000000040E4CD5F4100000040BC524C41 & point                                              & 0                                                 \\\\\n",
       "\\end{tabular}\n"
      ],
      "text/plain": [
       "  id        version visible user_id user_name valid_from          valid_to tags\n",
       "1 318607995 2       TRUE    1664889 Mani707   2014-01-27 16:11:45 <NA>         \n",
       "2 331013071 5       TRUE     375427 zwombie   2010-11-28 01:21:01 <NA>         \n",
       "3 186532859 3       TRUE    1664889 Mani707   2014-04-03 06:40:11 <NA>         \n",
       "4 331031244 3       TRUE    1960718 apm-wa    2014-10-19 11:50:34 <NA>         \n",
       "5 331040957 7       TRUE     275821 Ramzes    2011-04-06 16:05:57 <NA>         \n",
       "6 331048652 3       TRUE      89565 nuvijunky 2009-01-10 22:07:18 <NA>         \n",
       "  geom                                               typ   minor\n",
       "1 010100002031BF0D00CDCCCC2CC71B60419A9999195C9D4B41 point 0    \n",
       "2 010100002031BF0D000000000000000000910ECA42A65408BE point 0    \n",
       "3 010100002031BF0D009A999999451760413333337381844B41 point 0    \n",
       "4 010100002031BF0D009A999979E8CA5F419A9999D9535F4C41 point 0    \n",
       "5 010100002031BF0D00CDCCCC6C42CB5F419A99999967574C41 point 0    \n",
       "6 010100002031BF0D0000000040E4CD5F4100000040BC524C41 point 0    "
      ]
     },
     "metadata": {},
     "output_type": "display_data"
    }
   ],
   "source": [
    "head(mydata)"
   ]
  },
  {
   "cell_type": "code",
   "execution_count": 24,
   "metadata": {
    "collapsed": false,
    "nbpresent": {
     "id": "2e5c7c0e-4148-4867-8542-f3cf0aba1146"
    }
   },
   "outputs": [
    {
     "name": "stdout",
     "output_type": "stream",
     "text": [
      "'data.frame':\t887402 obs. of  11 variables:\n",
      " $ id        : num  3.19e+08 3.31e+08 1.87e+08 3.31e+08 3.31e+08 ...\n",
      " $ version   : int  2 5 3 3 7 3 4 3 2 2 ...\n",
      " $ visible   : logi  TRUE TRUE TRUE TRUE TRUE TRUE ...\n",
      " $ user_id   : int  1664889 375427 1664889 1960718 275821 89565 91490 56597 26599 91490 ...\n",
      " $ user_name : chr  \"Mani707\" \"zwombie\" \"Mani707\" \"apm-wa\" ...\n",
      " $ valid_from: POSIXct, format: \"2014-01-27 16:11:45\" \"2010-11-28 01:21:01\" ...\n",
      " $ valid_to  : POSIXct, format: NA NA ...\n",
      " $ tags      : chr  \"\" \"\" \"\" \"\" ...\n",
      " $ geom      : chr  \"010100002031BF0D00CDCCCC2CC71B60419A9999195C9D4B41\" \"010100002031BF0D000000000000000000910ECA42A65408BE\" \"010100002031BF0D009A999999451760413333337381844B41\" \"010100002031BF0D009A999979E8CA5F419A9999D9535F4C41\" ...\n",
      " $ typ       : chr  \"point\" \"point\" \"point\" \"point\" ...\n",
      " $ minor     : int  0 0 0 0 0 0 0 0 0 0 ...\n"
     ]
    }
   ],
   "source": [
    "str(mydata)"
   ]
  },
  {
   "cell_type": "code",
   "execution_count": 25,
   "metadata": {
    "collapsed": false,
    "nbpresent": {
     "id": "9bdfeaf2-5277-4bbe-8974-261b86d7ee9d"
    }
   },
   "outputs": [
    {
     "data": {
      "text/html": [
       "TRUE"
      ],
      "text/latex": [
       "TRUE"
      ],
      "text/markdown": [
       "TRUE"
      ],
      "text/plain": [
       "[1] TRUE"
      ]
     },
     "metadata": {},
     "output_type": "display_data"
    }
   ],
   "source": [
    "# Close PostgreSQL connection \n",
    "dbDisconnect(con)"
   ]
  },
  {
   "cell_type": "markdown",
   "metadata": {
    "nbpresent": {
     "id": "3fc1e62e-66c5-46ea-b14e-9e799796690e"
    }
   },
   "source": [
    "## sqldf\n",
    "With sqldf you can easily execute any SQL command. For example, you can drop table, create table, insert new records:"
   ]
  },
  {
   "cell_type": "code",
   "execution_count": 26,
   "metadata": {
    "collapsed": true,
    "nbpresent": {
     "id": "ee723c91-09be-4943-9a13-41bd0b4f85a8"
    }
   },
   "outputs": [],
   "source": [
    "#Connection to PostgreSQL database with sqldf package has to be set in a different way, by setting RPostgreSQL options:\n",
    "\n",
    "options(sqldf.RPostgreSQL.user =\"postgres\", \n",
    "  sqldf.RPostgreSQL.password =\"a\",\n",
    "  sqldf.RPostgreSQL.dbname =\"dvdrental\",\n",
    "  sqldf.RPostgreSQL.host =\"localhost\", \n",
    "  sqldf.RPostgreSQL.port =5432)"
   ]
  },
  {
   "cell_type": "code",
   "execution_count": 27,
   "metadata": {
    "collapsed": false,
    "nbpresent": {
     "id": "a6c01463-0a7d-4f2e-8379-f4de0142b7f8"
    }
   },
   "outputs": [
    {
     "name": "stderr",
     "output_type": "stream",
     "text": [
      "Loading required package: gsubfn\n",
      "Loading required package: proto\n",
      "Loading required package: RSQLite\n",
      "sqldf will default to using PostgreSQL\n"
     ]
    }
   ],
   "source": [
    "library(\"sqldf\")"
   ]
  },
  {
   "cell_type": "code",
   "execution_count": 28,
   "metadata": {
    "collapsed": false,
    "nbpresent": {
     "id": "a62a6d94-9067-4657-84f7-7dfd63fa3c3c"
    },
    "scrolled": true
   },
   "outputs": [
    {
     "data": {
      "text/plain": [
       "NULL"
      ]
     },
     "metadata": {},
     "output_type": "display_data"
    }
   ],
   "source": [
    "# We can use sqldf() to issue any command, including drop, create, select, insert\n",
    "library(tcltk)\n",
    "sqldf(\"\n",
    " /* sql comments can be used*/\n",
    " drop table if exists test_tbl;\n",
    " create table test_tbl (a int, b int);\n",
    " insert into test_tbl values (1,4);\n",
    " insert into test_tbl values (2,5);\n",
    " insert into test_tbl values (3,6);\n",
    " \")\n"
   ]
  },
  {
   "cell_type": "code",
   "execution_count": 29,
   "metadata": {
    "collapsed": false,
    "nbpresent": {
     "id": "d8273bd5-14e2-4901-afd2-8d713eecad20"
    }
   },
   "outputs": [
    {
     "data": {
      "text/html": [
       "<table>\n",
       "<thead><tr><th scope=col>a</th><th scope=col>b</th></tr></thead>\n",
       "<tbody>\n",
       "\t<tr><td>1</td><td>4</td></tr>\n",
       "\t<tr><td>2</td><td>5</td></tr>\n",
       "\t<tr><td>3</td><td>6</td></tr>\n",
       "</tbody>\n",
       "</table>\n"
      ],
      "text/latex": [
       "\\begin{tabular}{r|ll}\n",
       " a & b\\\\\n",
       "\\hline\n",
       "\t 1 & 4\\\\\n",
       "\t 2 & 5\\\\\n",
       "\t 3 & 6\\\\\n",
       "\\end{tabular}\n"
      ],
      "text/plain": [
       "  a b\n",
       "1 1 4\n",
       "2 2 5\n",
       "3 3 6"
      ]
     },
     "metadata": {},
     "output_type": "display_data"
    }
   ],
   "source": [
    "sqldf(\"\n",
    " /* sql comments can be used*/\n",
    "select * from test_tbl;\n",
    " \")"
   ]
  },
  {
   "cell_type": "markdown",
   "metadata": {
    "nbpresent": {
     "id": "81567da1-237d-4227-adb1-d283bbbb31c2"
    }
   },
   "source": [
    "# DataTypes"
   ]
  },
  {
   "cell_type": "markdown",
   "metadata": {
    "nbpresent": {
     "id": "133502f0-d77e-418b-9afd-268c091a24c0"
    }
   },
   "source": [
    "- Numeric, Character, and Logical Data Types\u0000\n",
    "- Vectors\n",
    "- Array and Matrices\n",
    "- Data Frames\n",
    "- Lists\n",
    "- Factors\n",
    "- Contigency Tables\n"
   ]
  },
  {
   "cell_type": "markdown",
   "metadata": {
    "nbpresent": {
     "id": "79e141e5-9395-4f95-94db-b7af7f24ea6d"
    }
   },
   "source": [
    "\n",
    "\n",
    "## Vectors"
   ]
  },
  {
   "cell_type": "code",
   "execution_count": 30,
   "metadata": {
    "collapsed": false,
    "nbpresent": {
     "id": "7d98af65-8d32-4b05-a178-8a97ad2c43a4"
    }
   },
   "outputs": [
    {
     "data": {
      "text/html": [
       "<ol class=list-inline>\n",
       "\t<li>8.5</li>\n",
       "\t<li>7.5</li>\n",
       "\t<li>6.5</li>\n",
       "\t<li>5.5</li>\n",
       "\t<li>4.5</li>\n",
       "</ol>\n"
      ],
      "text/latex": [
       "\\begin{enumerate*}\n",
       "\\item 8.5\n",
       "\\item 7.5\n",
       "\\item 6.5\n",
       "\\item 5.5\n",
       "\\item 4.5\n",
       "\\end{enumerate*}\n"
      ],
      "text/markdown": [
       "1. 8.5\n",
       "2. 7.5\n",
       "3. 6.5\n",
       "4. 5.5\n",
       "5. 4.5\n",
       "\n",
       "\n"
      ],
      "text/plain": [
       "[1] 8.5 7.5 6.5 5.5 4.5"
      ]
     },
     "metadata": {},
     "output_type": "display_data"
    },
    {
     "data": {
      "text/html": [
       "<ol class=list-inline>\n",
       "\t<li>1</li>\n",
       "\t<li>1</li>\n",
       "\t<li>2</li>\n",
       "\t<li>3</li>\n",
       "\t<li>5</li>\n",
       "\t<li>8</li>\n",
       "\t<li>13</li>\n",
       "</ol>\n"
      ],
      "text/latex": [
       "\\begin{enumerate*}\n",
       "\\item 1\n",
       "\\item 1\n",
       "\\item 2\n",
       "\\item 3\n",
       "\\item 5\n",
       "\\item 8\n",
       "\\item 13\n",
       "\\end{enumerate*}\n"
      ],
      "text/markdown": [
       "1. 1\n",
       "2. 1\n",
       "3. 2\n",
       "4. 3\n",
       "5. 5\n",
       "6. 8\n",
       "7. 13\n",
       "\n",
       "\n"
      ],
      "text/plain": [
       "[1]  1  1  2  3  5  8 13"
      ]
     },
     "metadata": {},
     "output_type": "display_data"
    },
    {
     "data": {
      "text/html": [
       "<ol class=list-inline>\n",
       "\t<li>'Peter'</li>\n",
       "\t<li>'Piper'</li>\n",
       "\t<li>'picked'</li>\n",
       "\t<li>'a'</li>\n",
       "\t<li>'peck'</li>\n",
       "\t<li>'of'</li>\n",
       "\t<li>'pickled'</li>\n",
       "\t<li>'peppers'</li>\n",
       "</ol>\n"
      ],
      "text/latex": [
       "\\begin{enumerate*}\n",
       "\\item 'Peter'\n",
       "\\item 'Piper'\n",
       "\\item 'picked'\n",
       "\\item 'a'\n",
       "\\item 'peck'\n",
       "\\item 'of'\n",
       "\\item 'pickled'\n",
       "\\item 'peppers'\n",
       "\\end{enumerate*}\n"
      ],
      "text/markdown": [
       "1. 'Peter'\n",
       "2. 'Piper'\n",
       "3. 'picked'\n",
       "4. 'a'\n",
       "5. 'peck'\n",
       "6. 'of'\n",
       "7. 'pickled'\n",
       "8. 'peppers'\n",
       "\n",
       "\n"
      ],
      "text/plain": [
       "[1] \"Peter\"   \"Piper\"   \"picked\"  \"a\"       \"peck\"    \"of\"      \"pickled\"\n",
       "[8] \"peppers\""
      ]
     },
     "metadata": {},
     "output_type": "display_data"
    },
    {
     "data": {
      "text/html": [
       "5"
      ],
      "text/latex": [
       "5"
      ],
      "text/markdown": [
       "5"
      ],
      "text/plain": [
       "[1] 5"
      ]
     },
     "metadata": {},
     "output_type": "display_data"
    }
   ],
   "source": [
    "8.5:4.5\n",
    "#sequence of numbers from 8.5 down to 4.5\n",
    "## [1] 8.5 7.5 6.5 5.5 4.5\n",
    "c(1, 1:3, c(5, 8), 13) #values concatenated into single vector\n",
    "\n",
    "pp <- c(\"Peter\", \"Piper\", \"picked\", \"a\", \"peck\", \"of\", \"pickled\", \"peppers\")\n",
    "pp\n",
    "\n",
    "#length of vector\n",
    "length(1:5)"
   ]
  },
  {
   "cell_type": "markdown",
   "metadata": {
    "nbpresent": {
     "id": "acbfdc1c-47a7-426a-aedc-f4c8674ad1a4"
    }
   },
   "source": [
    "### Indexing Vectors"
   ]
  },
  {
   "cell_type": "code",
   "execution_count": 31,
   "metadata": {
    "collapsed": false,
    "nbpresent": {
     "id": "336e578f-bfa7-4ec6-bb4a-d2aa0591167d"
    }
   },
   "outputs": [
    {
     "data": {
      "text/html": [
       "<ol class=list-inline>\n",
       "\t<li>1</li>\n",
       "\t<li>9</li>\n",
       "\t<li>25</li>\n",
       "</ol>\n"
      ],
      "text/latex": [
       "\\begin{enumerate*}\n",
       "\\item 1\n",
       "\\item 9\n",
       "\\item 25\n",
       "\\end{enumerate*}\n"
      ],
      "text/markdown": [
       "1. 1\n",
       "2. 9\n",
       "3. 25\n",
       "\n",
       "\n"
      ],
      "text/plain": [
       "[1]  1  9 25"
      ]
     },
     "metadata": {},
     "output_type": "display_data"
    },
    {
     "ename": "ERROR",
     "evalue": "Error in x[c(1, -1)]: only 0's may be mixed with negative subscripts\n",
     "output_type": "error",
     "traceback": [
      "Error in x[c(1, -1)]: only 0's may be mixed with negative subscripts\nTraceback:\n"
     ]
    }
   ],
   "source": [
    "# Consider this vector:\n",
    "x <- (1:5) ^ 2 \n",
    "\n",
    "x[c(TRUE, FALSE, TRUE, FALSE, TRUE)]\n",
    "\n",
    "x[c(1, -1)]"
   ]
  },
  {
   "cell_type": "markdown",
   "metadata": {
    "nbpresent": {
     "id": "4664432b-5200-4e1b-a062-f795c86e61a8"
    }
   },
   "source": [
    "### vector Recycling and Repetition\n",
    "So far, all the vectors that we have added together have been the same length. You may\n",
    "be wondering, “What happens if I try to do arithmetic on vectors of different lengths?”"
   ]
  },
  {
   "cell_type": "markdown",
   "metadata": {
    "nbpresent": {
     "id": "5e4e37ce-db11-4577-a688-1d01715b3667"
    }
   },
   "source": [
    "## Array and Matrices"
   ]
  },
  {
   "cell_type": "markdown",
   "metadata": {
    "nbpresent": {
     "id": "7016efef-111d-4a5b-8699-d9b46fe3ec9f"
    }
   },
   "source": [
    "\n",
    "To create an array, you call the array function, passing in a vector of values and a vector of dimensions. \n",
    "\n",
    "    \n",
    "    "
   ]
  },
  {
   "cell_type": "code",
   "execution_count": null,
   "metadata": {
    "collapsed": false,
    "nbpresent": {
     "id": "d1c76771-e8c1-4431-9541-bfb36b2d627d"
    }
   },
   "outputs": [],
   "source": [
    "(three_d_array <- array(1:24, dim = c(4, 3, 2), dimnames = list(\n",
    "c(\"one\", \"two\", \"three\", \"four\"), c(\"ein\", \"zwei\", \"drei\"), c(\"un\", \"deux\"))\n",
    "                        \n",
    "))\n"
   ]
  },
  {
   "cell_type": "code",
   "execution_count": null,
   "metadata": {
    "collapsed": false,
    "nbpresent": {
     "id": "06137bcc-5848-42d5-ba52-fd8d2f337eb1"
    }
   },
   "outputs": [],
   "source": [
    "ax<- matrix(1:12,nrow = 4,ncol=3)\n",
    "ax\n"
   ]
  },
  {
   "cell_type": "markdown",
   "metadata": {
    "nbpresent": {
     "id": "deb7acd6-3f96-4978-97b4-48f066df19a0"
    }
   },
   "source": [
    "### Data Frames"
   ]
  },
  {
   "cell_type": "markdown",
   "metadata": {
    "collapsed": true,
    "nbpresent": {
     "id": "3ae8d505-0e94-4737-af69-91e90dddc8bb"
    }
   },
   "source": [
    "Similar to the concept of matrices, data frames provide a structure for storing and accessing several variables of possibly different data types. In fact, as the is.data.frame() function indicates, a data frame was created by the read.csv() function at the beginning of the chapter.\u0000"
   ]
  },
  {
   "cell_type": "code",
   "execution_count": null,
   "metadata": {
    "collapsed": false,
    "nbpresent": {
     "id": "bd0daf1f-b83d-433e-a5be-6e2a83490389"
    }
   },
   "outputs": [],
   "source": [
    "is.data.frame(sales)\n"
   ]
  },
  {
   "cell_type": "markdown",
   "metadata": {
    "nbpresent": {
     "id": "09a8fbcf-537c-4bf7-8efe-7a432a43b8f1"
    }
   },
   "source": [
    "The variables stored in the data frame can be easily accessed using the $ notation. The\n",
    "following R code illustrates that in this example, each variable is a vector with the exception of gender, which was, by aread.csv() default, imported as a factor e.g. a factor\n",
    "denotes a categorical variable, typically with a few finite levels such as “F” and “M” in the case of gender.\u0000"
   ]
  },
  {
   "cell_type": "code",
   "execution_count": null,
   "metadata": {
    "collapsed": false,
    "nbpresent": {
     "id": "32d1f549-4cbf-4bfc-b595-a75af50a1647"
    }
   },
   "outputs": [],
   "source": [
    "str(sales)\n"
   ]
  },
  {
   "cell_type": "code",
   "execution_count": null,
   "metadata": {
    "collapsed": false,
    "nbpresent": {
     "id": "a89b6ca8-d81e-425e-b33a-9222b753046a"
    }
   },
   "outputs": [],
   "source": [
    "length(sales$Sales) \n",
    "is.vector(sales$Row.ID) \n",
    "is.vector(sales$Region)"
   ]
  },
  {
   "cell_type": "code",
   "execution_count": null,
   "metadata": {
    "collapsed": false,
    "nbpresent": {
     "id": "203075f4-8b0f-4491-9b42-c5a0b37888fd"
    }
   },
   "outputs": [],
   "source": [
    "is.factor(sales$Region)"
   ]
  },
  {
   "cell_type": "markdown",
   "metadata": {
    "nbpresent": {
     "id": "502c2b04-c6f3-400c-a17b-070b269de0f9"
    }
   },
   "source": [
    "A subset of the data frame can be retrieved through subsetting operators. R’s subsetting operators are powerful in that they allow\n",
    "one to express complex operations in a succinct fashion and easily retrieve a subset of the dataset."
   ]
  },
  {
   "cell_type": "code",
   "execution_count": null,
   "metadata": {
    "collapsed": false,
    "nbpresent": {
     "id": "8834e119-0f24-47cf-be67-2705b165dd04"
    }
   },
   "outputs": [],
   "source": [
    "# extract the fourth column of the sales data frame\n",
    "#sales[,1]\n",
    "\n"
   ]
  },
  {
   "cell_type": "code",
   "execution_count": null,
   "metadata": {
    "collapsed": false,
    "nbpresent": {
     "id": "084dfba6-f014-41c9-98a2-95284c91309a"
    }
   },
   "outputs": [],
   "source": [
    "\n",
    "# retrieve the first two rows of the data frame\n",
    "sales[1:3,]"
   ]
  },
  {
   "cell_type": "markdown",
   "metadata": {
    "nbpresent": {
     "id": "9149e8d3-f08c-4a2d-9fa8-00ca405bbd00"
    }
   },
   "source": [
    "The following R code shows that the class of the sales variable is a data frame. However, the type of\n",
    "the sales variable is a list. A list is a collection of objects that can be of various types, including other lists.\n",
    "\u0000"
   ]
  },
  {
   "cell_type": "code",
   "execution_count": null,
   "metadata": {
    "collapsed": false,
    "nbpresent": {
     "id": "cce56d28-f453-49bc-a6ff-a4414f4498fd"
    }
   },
   "outputs": [],
   "source": [
    "class(sales)\n",
    "\n",
    "typeof(sales)\u0000"
   ]
  },
  {
   "cell_type": "markdown",
   "metadata": {
    "nbpresent": {
     "id": "cbf67a2c-4cf5-4294-934a-27eaff1780f9"
    }
   },
   "source": [
    "### List"
   ]
  },
  {
   "cell_type": "markdown",
   "metadata": {
    "nbpresent": {
     "id": "ff54b700-568e-41a1-9bfa-989607050e53"
    }
   },
   "source": [
    "Lists can contain any type of objects, including other lists. Using the vector v and the matrix M created in\n",
    "earlier examples, the following R code creates assortment, a list of different object types.\u0000"
   ]
  },
  {
   "cell_type": "code",
   "execution_count": null,
   "metadata": {
    "collapsed": false,
    "nbpresent": {
     "id": "a4382ca5-94f4-4a65-82fa-908ce843ab7b"
    }
   },
   "outputs": [],
   "source": [
    "# build an assorted list of a string, a numeric, a list, a vector,\n",
    "# and a matrix\n",
    "housing <- list(\"own\", \"rent\")\n",
    "typeof(housing)\n",
    "v <- 1:5\n",
    "M <- matrix(c(1,3,3,5,0,4,3,3,3),nrow = 3,ncol = 3) # build a 3x3 matrix\n",
    "typeof(M)\n",
    "assortment <- list(\"football\", 7.5, housing, v, M)\n",
    "typeof(assortment)"
   ]
  },
  {
   "cell_type": "code",
   "execution_count": null,
   "metadata": {
    "collapsed": false,
    "nbpresent": {
     "id": "320e2486-8efc-4e97-9282-004bec9bedfb"
    }
   },
   "outputs": [],
   "source": [
    "assortment"
   ]
  },
  {
   "cell_type": "code",
   "execution_count": null,
   "metadata": {
    "collapsed": false,
    "nbpresent": {
     "id": "8676a2ce-6cff-47a6-a248-85c9f4f1abfc"
    }
   },
   "outputs": [],
   "source": [
    "# examine the fifth object, M, in the list\n",
    "class(assortment[5]) # returns \"list\"\n",
    "length(assortment[5]) # returns 1\n",
    "class(assortment[[5]]) # returns \"matrix\"\n",
    "length(assortment[[5]]) # returns 9 (for the 3x3 matrix)\u0000"
   ]
  },
  {
   "cell_type": "markdown",
   "metadata": {
    "nbpresent": {
     "id": "ee88694a-af77-4af9-a04f-9b3eed36966d"
    }
   },
   "source": [
    "## Factors\n",
    "Factors were briefly introduced during the discussion of the gender variable in the data frame sales.\n",
    "In this case, gender could assume one of two levels: F or M. Factors can be ordered or not ordered. In the\n",
    "case of gender, the levels are not ordered.\u0000"
   ]
  },
  {
   "cell_type": "code",
   "execution_count": null,
   "metadata": {
    "collapsed": false,
    "nbpresent": {
     "id": "148d3484-9e90-4c53-95b9-c91f0acb9c4d"
    }
   },
   "outputs": [],
   "source": [
    "class(sales$Region) # returns \"factor\"\n",
    "is.ordered(sales$Region) # returns FALSE\u0000"
   ]
  },
  {
   "cell_type": "code",
   "execution_count": null,
   "metadata": {
    "collapsed": false,
    "nbpresent": {
     "id": "cf03da5d-ecde-4d6d-9c09-d18eb7bf4d00"
    }
   },
   "outputs": [],
   "source": [
    "class(sales$Product.Category)\n",
    "head(sales$Product.Category)"
   ]
  },
  {
   "cell_type": "code",
   "execution_count": null,
   "metadata": {
    "collapsed": false,
    "nbpresent": {
     "id": "c7fabe99-60e1-4dc0-8a5c-d9a4ecc4fdb3"
    }
   },
   "outputs": [],
   "source": [
    "library(ggplot2)\n",
    "data(diamonds)"
   ]
  },
  {
   "cell_type": "code",
   "execution_count": null,
   "metadata": {
    "collapsed": false,
    "nbpresent": {
     "id": "0d596f98-e6dd-46c6-9a3e-a7a4ad59f927"
    }
   },
   "outputs": [],
   "source": [
    "str(diamonds)"
   ]
  },
  {
   "cell_type": "code",
   "execution_count": null,
   "metadata": {
    "collapsed": false,
    "nbpresent": {
     "id": "747315ee-5e25-407d-9942-b6bfad17e3cf"
    }
   },
   "outputs": [],
   "source": [
    "head(diamonds$cut) # display first six values and the levels\u0000"
   ]
  },
  {
   "cell_type": "code",
   "execution_count": null,
   "metadata": {
    "collapsed": false,
    "nbpresent": {
     "id": "4e1753ac-5319-441f-b8dd-d1756043a3d9"
    }
   },
   "outputs": [],
   "source": [
    "str(sales$Sales)"
   ]
  },
  {
   "cell_type": "markdown",
   "metadata": {
    "nbpresent": {
     "id": "65bb1d63-55ab-446c-9b28-d6ae62d84541"
    }
   },
   "source": [
    "Suppose it is decided to categorize sales$sales_totals into three groups—small, medium,\n",
    "and big—according to the amount of the sales with the following code. These groupings are the basis for\n",
    "the new ordinal factor, spender, with levels {small, medium, big}.\u0000"
   ]
  },
  {
   "cell_type": "code",
   "execution_count": null,
   "metadata": {
    "collapsed": false,
    "nbpresent": {
     "id": "1707ca08-5614-40ac-b24a-2e944a1cbd24"
    }
   },
   "outputs": [],
   "source": [
    "# build an empty character vector of the same length as sales\n",
    "sales_group <- vector(mode=\"character\",length=length(sales$Sales))\n",
    "# group the customers according to the sales amount\n",
    "sales_group[sales$Sales<500] <- \"small\"\n",
    "sales_group[sales$Salesl>=1000 & sales$sales_total<1500] <- \"medium\"\n",
    "sales_group[sales$Sales>=1500] <- \"big\"\n",
    "# create and add the ordered factor to the sales data frame\n",
    "spender <- factor(sales_group,levels=c(\"small\", \"medium\", \"big\"),ordered = TRUE)"
   ]
  },
  {
   "cell_type": "code",
   "execution_count": null,
   "metadata": {
    "collapsed": false,
    "nbpresent": {
     "id": "4a4110f6-4821-42c0-a68d-e0d260a9e3e8"
    }
   },
   "outputs": [],
   "source": [
    "sales <- cbind(sales,spender)\n"
   ]
  },
  {
   "cell_type": "code",
   "execution_count": null,
   "metadata": {
    "collapsed": false,
    "nbpresent": {
     "id": "912e10c1-f70e-4606-813c-75b2ba3d9484"
    }
   },
   "outputs": [],
   "source": [
    "str(sales$spender)"
   ]
  },
  {
   "cell_type": "code",
   "execution_count": null,
   "metadata": {
    "collapsed": false,
    "nbpresent": {
     "id": "061b3513-2adc-4165-b646-fb1495cf8b39"
    }
   },
   "outputs": [],
   "source": [
    "head(sales$spender)"
   ]
  },
  {
   "cell_type": "markdown",
   "metadata": {
    "nbpresent": {
     "id": "f2f16886-ab99-4c8a-af18-f8d4d4b6b8bd"
    }
   },
   "source": [
    "## Contingency Tables\n",
    "In R, table refers to a class of objects used to store the observed counts across the factors for a given dataset.\n",
    "Such a table is commonly referred to as a contingency table and is the basis for performing a statistical\n",
    "test on the independence of the factors used to build the table.\n"
   ]
  },
  {
   "cell_type": "code",
   "execution_count": null,
   "metadata": {
    "collapsed": false,
    "nbpresent": {
     "id": "9156c69b-d5e2-4a41-8230-798d2bc841c2"
    }
   },
   "outputs": [],
   "source": [
    "# build a contingency table based on the gender and spender factors\n",
    "sales_table <- table(sales$Region,sales$spender)\n",
    "\n",
    "sales_table"
   ]
  },
  {
   "cell_type": "code",
   "execution_count": null,
   "metadata": {
    "collapsed": false,
    "nbpresent": {
     "id": "b650818d-968c-472c-90f9-e6ec18adeda3"
    }
   },
   "outputs": [],
   "source": [
    "class(sales_table)\n",
    "typeof(sales_table)\n",
    "dim(sales_table)\n"
   ]
  },
  {
   "cell_type": "code",
   "execution_count": null,
   "metadata": {
    "collapsed": false,
    "nbpresent": {
     "id": "87377de4-4d74-4cce-912b-672f83aefef1"
    }
   },
   "outputs": [],
   "source": [
    "# performs a chi-squared test\n",
    "summary(sales_table)"
   ]
  },
  {
   "cell_type": "markdown",
   "metadata": {
    "nbpresent": {
     "id": "636acacd-4b4b-4fe9-8f38-60466e725166"
    }
   },
   "source": [
    "## Descriptive Statistics\n",
    "\n",
    "summary() function provides several descriptive statistics, such as\n",
    "the mean and median, about a variable such as the sales data frame. \n"
   ]
  },
  {
   "cell_type": "code",
   "execution_count": null,
   "metadata": {
    "collapsed": false,
    "nbpresent": {
     "id": "9d116276-72cd-4840-8f7b-a58ae05972df"
    }
   },
   "outputs": [],
   "source": [
    "summary(sales)"
   ]
  },
  {
   "cell_type": "code",
   "execution_count": null,
   "metadata": {
    "collapsed": false,
    "nbpresent": {
     "id": "694125f1-cb21-457b-82d9-be96b9a3e196"
    }
   },
   "outputs": [],
   "source": [
    "# to simplify the function calls, assign\n",
    "x <- sales$Sales\n",
    "\n",
    "y <- sales$Order.Quantity\n"
   ]
  },
  {
   "cell_type": "code",
   "execution_count": null,
   "metadata": {
    "collapsed": false,
    "nbpresent": {
     "id": "60682618-d225-4896-8404-0741481bd3af"
    }
   },
   "outputs": [],
   "source": [
    "cor(x,y)  \n",
    "cov(x,y)\n",
    "IQR(x)\n",
    "mean(x)\n",
    "median(x)\n",
    "range(x)\n",
    "sd(x)\n",
    "var(x)\n"
   ]
  },
  {
   "cell_type": "markdown",
   "metadata": {
    "collapsed": true,
    "nbpresent": {
     "id": "abca36cc-ef58-460b-b917-507f41ca775d"
    }
   },
   "source": [
    "Reference:- [1] Data Science and Big Data Analytics by EMC\n",
    "[2] Kaggle.com"
   ]
  }
 ],
 "metadata": {
  "kernelspec": {
   "display_name": "R",
   "language": "R",
   "name": "ir"
  },
  "language_info": {
   "codemirror_mode": "r",
   "file_extension": ".r",
   "mimetype": "text/x-r-source",
   "name": "R",
   "pygments_lexer": "r",
   "version": "3.2.3"
  },
  "nbpresent": {
   "slides": {
    "0594499a-71ea-4906-9496-8fb6bb66c0c0": {
     "id": "0594499a-71ea-4906-9496-8fb6bb66c0c0",
     "prev": "29a065f6-ec06-4e3b-a73a-95d5fc56c1f7",
     "regions": {
      "dfd50b23-6e3c-4b70-b070-23b3e4c70329": {
       "attrs": {
        "height": 0.8,
        "width": 0.8,
        "x": 0.1,
        "y": 0.1
       },
       "content": {
        "cell": "deb7acd6-3f96-4978-97b4-48f066df19a0",
        "part": "whole"
       },
       "id": "dfd50b23-6e3c-4b70-b070-23b3e4c70329"
      }
     }
    },
    "09723e85-c0e3-49ab-8e6b-c8ead54f74d6": {
     "id": "09723e85-c0e3-49ab-8e6b-c8ead54f74d6",
     "prev": "105449b3-51e8-4e4b-914d-936a5951d3ef",
     "regions": {
      "5640e3fc-bf20-42dc-af32-fa65acf35235": {
       "attrs": {
        "height": 0.8,
        "width": 0.8,
        "x": 0.1,
        "y": 0.1
       },
       "content": {
        "cell": "9149e8d3-f08c-4a2d-9fa8-00ca405bbd00",
        "part": "whole"
       },
       "id": "5640e3fc-bf20-42dc-af32-fa65acf35235"
      }
     }
    },
    "105449b3-51e8-4e4b-914d-936a5951d3ef": {
     "id": "105449b3-51e8-4e4b-914d-936a5951d3ef",
     "prev": "7dc1e22d-4933-4372-ad4b-4c4c5eb5b77d",
     "regions": {
      "973317f3-684a-4e3d-b708-3421bde00964": {
       "attrs": {
        "height": 0.8,
        "width": 0.8,
        "x": 0.1,
        "y": 0.1
       },
       "content": {
        "cell": "084dfba6-f014-41c9-98a2-95284c91309a",
        "part": "whole"
       },
       "id": "973317f3-684a-4e3d-b708-3421bde00964"
      }
     }
    },
    "1094ae68-130a-400a-a23e-c7096e03d769": {
     "id": "1094ae68-130a-400a-a23e-c7096e03d769",
     "prev": "bee43c81-1e48-45b4-9673-9b34aec4ae6e",
     "regions": {
      "cfe830ae-fe97-4065-928b-193c847498b6": {
       "attrs": {
        "height": 0.8,
        "width": 0.8,
        "x": 0.1,
        "y": 0.1
       },
       "content": {
        "cell": "320e2486-8efc-4e97-9282-004bec9bedfb",
        "part": "whole"
       },
       "id": "cfe830ae-fe97-4065-928b-193c847498b6"
      }
     }
    },
    "13aba4f2-010a-4edf-850e-230710c5ce54": {
     "id": "13aba4f2-010a-4edf-850e-230710c5ce54",
     "prev": "c319d40b-0fbd-46d0-ba00-be61446984a6",
     "regions": {
      "4b7e85de-4b88-4d9d-9e63-e45105e1c923": {
       "attrs": {
        "height": 0.8,
        "width": 0.8,
        "x": 0.1,
        "y": 0.1
       },
       "content": {
        "cell": "ee723c91-09be-4943-9a13-41bd0b4f85a8",
        "part": "whole"
       },
       "id": "4b7e85de-4b88-4d9d-9e63-e45105e1c923"
      }
     }
    },
    "141e692b-01c9-4dc4-b46f-e2d73947f22a": {
     "id": "141e692b-01c9-4dc4-b46f-e2d73947f22a",
     "prev": "f68a6cc9-bc7c-423e-8290-825dfa6ac729",
     "regions": {
      "9543a520-043e-4f82-9a82-b55c1ba41bdf": {
       "attrs": {
        "height": 0.8,
        "width": 0.8,
        "x": 0.1,
        "y": 0.1
       },
       "content": {
        "cell": "79e141e5-9395-4f95-94db-b7af7f24ea6d",
        "part": "whole"
       },
       "id": "9543a520-043e-4f82-9a82-b55c1ba41bdf"
      }
     }
    },
    "162416fa-1e08-4b71-a9cb-c85e5b84ab71": {
     "id": "162416fa-1e08-4b71-a9cb-c85e5b84ab71",
     "prev": "cfb31a43-5f13-4b46-ac50-dd6ea45c034c",
     "regions": {
      "f6603543-afc9-4a86-97f8-b9f7a1377ff0": {
       "attrs": {
        "height": 0.8,
        "width": 0.8,
        "x": 0.1,
        "y": 0.1
       },
       "content": {
        "cell": "502c2b04-c6f3-400c-a17b-070b269de0f9",
        "part": "whole"
       },
       "id": "f6603543-afc9-4a86-97f8-b9f7a1377ff0"
      }
     }
    },
    "21a38bdb-4a47-443c-8181-99fb154d146d": {
     "id": "21a38bdb-4a47-443c-8181-99fb154d146d",
     "prev": "728b463d-9951-4942-bea2-71542013bb45",
     "regions": {
      "5eacf252-417f-4ad0-baee-e038ff207f43": {
       "attrs": {
        "height": 0.8,
        "width": 0.8,
        "x": 0.1,
        "y": 0.1
       },
       "content": {
        "cell": "001a6541-0931-4ab0-bed6-d8526bada71b",
        "part": "whole"
       },
       "id": "5eacf252-417f-4ad0-baee-e038ff207f43"
      }
     }
    },
    "2454507a-d2c2-4266-9a8e-9214dbb0a753": {
     "id": "2454507a-d2c2-4266-9a8e-9214dbb0a753",
     "prev": "7cf3ee90-3596-4f42-9b9f-723d1cc7950b",
     "regions": {
      "b181041e-5c61-45ff-821a-f61253e4ef06": {
       "attrs": {
        "height": 0.8,
        "width": 0.8,
        "x": 0.1,
        "y": 0.1
       },
       "content": {
        "cell": "85a85966-707f-4315-80d7-14693d84aebd",
        "part": "whole"
       },
       "id": "b181041e-5c61-45ff-821a-f61253e4ef06"
      }
     }
    },
    "29a065f6-ec06-4e3b-a73a-95d5fc56c1f7": {
     "id": "29a065f6-ec06-4e3b-a73a-95d5fc56c1f7",
     "prev": "3d8df420-2867-4650-90a7-f695a7a6022f",
     "regions": {
      "10782a6d-f43f-44eb-9d41-f27b676ec4cf": {
       "attrs": {
        "height": 0.8,
        "width": 0.8,
        "x": 0.1,
        "y": 0.1
       },
       "content": {
        "cell": "06137bcc-5848-42d5-ba52-fd8d2f337eb1",
        "part": "whole"
       },
       "id": "10782a6d-f43f-44eb-9d41-f27b676ec4cf"
      }
     }
    },
    "2f80b7a5-7fe5-49ce-b878-1cd92b3eb59c": {
     "id": "2f80b7a5-7fe5-49ce-b878-1cd92b3eb59c",
     "prev": "881be986-21a4-4c0b-811c-3672c8f1c061",
     "regions": {
      "40f398e2-a8cd-44aa-9b3d-40f2a5ef4c24": {
       "attrs": {
        "height": 0.8,
        "width": 0.8,
        "x": 0.1,
        "y": 0.1
       },
       "content": {
        "cell": "bd0daf1f-b83d-433e-a5be-6e2a83490389",
        "part": "whole"
       },
       "id": "40f398e2-a8cd-44aa-9b3d-40f2a5ef4c24"
      }
     }
    },
    "2fff091f-9d33-4b75-891c-ede544554eff": {
     "id": "2fff091f-9d33-4b75-891c-ede544554eff",
     "prev": "6e825f2a-19e9-4475-9371-e4dabef44856",
     "regions": {
      "9595ac62-a399-46d9-a0df-6f354d65f337": {
       "attrs": {
        "height": 0.8,
        "width": 0.8,
        "x": 0.1,
        "y": 0.1
       },
       "content": {
        "cell": "747315ee-5e25-407d-9942-b6bfad17e3cf",
        "part": "whole"
       },
       "id": "9595ac62-a399-46d9-a0df-6f354d65f337"
      }
     }
    },
    "300f7a9f-0819-4324-bd3a-a4d2c8a66d3b": {
     "id": "300f7a9f-0819-4324-bd3a-a4d2c8a66d3b",
     "prev": null,
     "regions": {
      "92679b54-c206-42a2-b5d8-054427e4be6b": {
       "attrs": {
        "height": 0.8,
        "width": 0.8,
        "x": 0.1,
        "y": 0.1
       },
       "content": {
        "cell": "96074067-b1be-4610-94c6-bf704f565966",
        "part": "whole"
       },
       "id": "92679b54-c206-42a2-b5d8-054427e4be6b"
      }
     }
    },
    "365072e8-7795-4a21-8ee5-9a3b9c52ac29": {
     "id": "365072e8-7795-4a21-8ee5-9a3b9c52ac29",
     "prev": "fc2db4d8-8689-48c7-a96a-a5f9acd62820",
     "regions": {
      "8fa129f7-0964-4e96-be08-3d2e6f8b005d": {
       "attrs": {
        "height": 0.8,
        "width": 0.8,
        "x": 0.1,
        "y": 0.1
       },
       "content": {
        "cell": "7016efef-111d-4a5b-8699-d9b46fe3ec9f",
        "part": "whole"
       },
       "id": "8fa129f7-0964-4e96-be08-3d2e6f8b005d"
      }
     }
    },
    "3ae8ec6c-f9a5-498a-95a7-ec6db1907c0e": {
     "id": "3ae8ec6c-f9a5-498a-95a7-ec6db1907c0e",
     "prev": "ca2e7c04-e994-49d9-81a0-5e951fc8fd84",
     "regions": {
      "389dac9d-4e36-4386-b69f-a7ee1f64e6a5": {
       "attrs": {
        "height": 0.8,
        "width": 0.8,
        "x": 0.1,
        "y": 0.1
       },
       "content": {
        "cell": "ff54b700-568e-41a1-9bfa-989607050e53",
        "part": "whole"
       },
       "id": "389dac9d-4e36-4386-b69f-a7ee1f64e6a5"
      }
     }
    },
    "3d8df420-2867-4650-90a7-f695a7a6022f": {
     "id": "3d8df420-2867-4650-90a7-f695a7a6022f",
     "prev": "365072e8-7795-4a21-8ee5-9a3b9c52ac29",
     "regions": {
      "51c91ba8-6865-4509-90fb-049d51b6b068": {
       "attrs": {
        "height": 0.8,
        "width": 0.8,
        "x": 0.1,
        "y": 0.1
       },
       "content": {
        "cell": "d1c76771-e8c1-4431-9541-bfb36b2d627d",
        "part": "whole"
       },
       "id": "51c91ba8-6865-4509-90fb-049d51b6b068"
      }
     }
    },
    "3dd14937-a647-44e4-a0e3-451b2961c30c": {
     "id": "3dd14937-a647-44e4-a0e3-451b2961c30c",
     "prev": "9b103fea-657a-4823-84fd-bb6862e5dbbb",
     "regions": {
      "beb983cc-26bd-42f4-be9e-3057bedd3ac8": {
       "attrs": {
        "height": 0.8,
        "width": 0.8,
        "x": 0.1,
        "y": 0.1
       },
       "content": {
        "cell": "32d1f549-4cbf-4bfc-b595-a75af50a1647",
        "part": "whole"
       },
       "id": "beb983cc-26bd-42f4-be9e-3057bedd3ac8"
      }
     }
    },
    "50cc7d22-766c-46f6-9bfb-79616aa1e1da": {
     "id": "50cc7d22-766c-46f6-9bfb-79616aa1e1da",
     "prev": "f2ef778c-b06a-45f4-bbe1-96b974648234",
     "regions": {
      "369239fa-fb9c-4358-b733-d39ab24f8f59": {
       "attrs": {
        "height": 0.8,
        "width": 0.8,
        "x": 0.1,
        "y": 0.1
       },
       "content": {
        "cell": "e1eec9dc-ac43-49ba-adb4-83bce3ff84ce",
        "part": "whole"
       },
       "id": "369239fa-fb9c-4358-b733-d39ab24f8f59"
      }
     }
    },
    "56dcecfb-6422-4305-aa39-7ae48bd0718a": {
     "id": "56dcecfb-6422-4305-aa39-7ae48bd0718a",
     "prev": "f6f631e8-791e-4937-a2d3-54a98be84479",
     "regions": {
      "a9721d98-93bb-45cd-8bf7-107f530d9c57": {
       "attrs": {
        "height": 0.8,
        "width": 0.8,
        "x": 0.1,
        "y": 0.1
       },
       "content": {
        "cell": "061b3513-2adc-4165-b646-fb1495cf8b39",
        "part": "whole"
       },
       "id": "a9721d98-93bb-45cd-8bf7-107f530d9c57"
      }
     }
    },
    "56fff49b-0aea-486e-87a0-0f7fe6e9eb5b": {
     "id": "56fff49b-0aea-486e-87a0-0f7fe6e9eb5b",
     "prev": "50cc7d22-766c-46f6-9bfb-79616aa1e1da",
     "regions": {
      "1407d5bc-d5c8-462c-9701-f08cfb67efcb": {
       "attrs": {
        "height": 0.8,
        "width": 0.8,
        "x": 0.1,
        "y": 0.1
       },
       "content": {
        "cell": "6e9c0faf-e9fb-4026-b869-46a2ada605bb",
        "part": "whole"
       },
       "id": "1407d5bc-d5c8-462c-9701-f08cfb67efcb"
      }
     }
    },
    "5baef90a-e364-4dbe-8fda-311305c804e9": {
     "id": "5baef90a-e364-4dbe-8fda-311305c804e9",
     "prev": "b484ffdd-c31c-40f4-8f9e-81499da292a5",
     "regions": {
      "6b225772-1951-4a9c-a735-7bc1231ee989": {
       "attrs": {
        "height": 0.8,
        "width": 0.8,
        "x": 0.1,
        "y": 0.1
       },
       "content": {
        "cell": "81567da1-237d-4227-adb1-d283bbbb31c2",
        "part": "whole"
       },
       "id": "6b225772-1951-4a9c-a735-7bc1231ee989"
      }
     }
    },
    "5e54acac-ab4d-480b-bd72-65804dfe9c3a": {
     "id": "5e54acac-ab4d-480b-bd72-65804dfe9c3a",
     "prev": "6087a8de-2855-4728-94d7-9530f3926314",
     "regions": {
      "f0334d50-7fbf-46e2-9eb7-5523561b6c86": {
       "attrs": {
        "height": 0.8,
        "width": 0.8,
        "x": 0.1,
        "y": 0.1
       },
       "content": {
        "cell": "4664432b-5200-4e1b-a062-f795c86e61a8",
        "part": "whole"
       },
       "id": "f0334d50-7fbf-46e2-9eb7-5523561b6c86"
      }
     }
    },
    "6087a8de-2855-4728-94d7-9530f3926314": {
     "id": "6087a8de-2855-4728-94d7-9530f3926314",
     "prev": "d367c3b8-7ca1-4717-82e7-ebd921532e0a",
     "regions": {
      "f5e10966-2db6-4550-8bae-565d2fb81471": {
       "attrs": {
        "height": 0.8,
        "width": 0.8,
        "x": 0.1,
        "y": 0.1
       },
       "content": {
        "cell": "336e578f-bfa7-4ec6-bb4a-d2aa0591167d",
        "part": "whole"
       },
       "id": "f5e10966-2db6-4550-8bae-565d2fb81471"
      }
     }
    },
    "6218d241-271c-4a03-9d79-ac6538946323": {
     "id": "6218d241-271c-4a03-9d79-ac6538946323",
     "prev": "7290d7a7-21b4-44a0-b726-995961215479",
     "regions": {
      "c45cb5e6-68ef-42dc-a84e-0c346c49b8a8": {
       "attrs": {
        "height": 0.8,
        "width": 0.8,
        "x": 0.1,
        "y": 0.1
       },
       "content": {
        "cell": "9156c69b-d5e2-4a41-8230-798d2bc841c2",
        "part": "whole"
       },
       "id": "c45cb5e6-68ef-42dc-a84e-0c346c49b8a8"
      }
     }
    },
    "6d98205a-2a41-455e-b14c-8f5745b1c710": {
     "id": "6d98205a-2a41-455e-b14c-8f5745b1c710",
     "prev": "78371c09-1876-4b9c-bd4a-0138580287f1",
     "regions": {
      "f75bc904-265b-4d88-b569-19eebfb024cf": {
       "attrs": {
        "height": 0.8,
        "width": 0.8,
        "x": 0.1,
        "y": 0.1
       },
       "content": {
        "cell": "a62a6d94-9067-4657-84f7-7dfd63fa3c3c",
        "part": "whole"
       },
       "id": "f75bc904-265b-4d88-b569-19eebfb024cf"
      }
     }
    },
    "6e825f2a-19e9-4475-9371-e4dabef44856": {
     "id": "6e825f2a-19e9-4475-9371-e4dabef44856",
     "prev": "bd1d5abb-f6cc-41fa-9d31-1d3f0d553172",
     "regions": {
      "17f3b229-2fe2-4620-ac66-294d4fa6b39b": {
       "attrs": {
        "height": 0.8,
        "width": 0.8,
        "x": 0.1,
        "y": 0.1
       },
       "content": {
        "cell": "0d596f98-e6dd-46c6-9a3e-a7a4ad59f927",
        "part": "whole"
       },
       "id": "17f3b229-2fe2-4620-ac66-294d4fa6b39b"
      }
     }
    },
    "728b463d-9951-4942-bea2-71542013bb45": {
     "id": "728b463d-9951-4942-bea2-71542013bb45",
     "prev": "ef105def-f43e-4bca-b8d4-6784c2925369",
     "regions": {
      "6aac0cbf-4848-4a90-86e7-9998564ad042": {
       "attrs": {
        "height": 0.8,
        "width": 0.8,
        "x": 0.1,
        "y": 0.1
       },
       "content": {
        "cell": "133e2ca5-0084-40e3-bc50-f0a7d581c935",
        "part": "whole"
       },
       "id": "6aac0cbf-4848-4a90-86e7-9998564ad042"
      }
     }
    },
    "7290d7a7-21b4-44a0-b726-995961215479": {
     "id": "7290d7a7-21b4-44a0-b726-995961215479",
     "prev": "56dcecfb-6422-4305-aa39-7ae48bd0718a",
     "regions": {
      "2fbefb2f-d3cb-43c2-a652-ead95c751505": {
       "attrs": {
        "height": 0.8,
        "width": 0.8,
        "x": 0.1,
        "y": 0.1
       },
       "content": {
        "cell": "f2f16886-ab99-4c8a-af18-f8d4d4b6b8bd",
        "part": "whole"
       },
       "id": "2fbefb2f-d3cb-43c2-a652-ead95c751505"
      }
     }
    },
    "74e14f81-d898-48b2-8fc4-4fe6e7645955": {
     "id": "74e14f81-d898-48b2-8fc4-4fe6e7645955",
     "prev": "21a38bdb-4a47-443c-8181-99fb154d146d",
     "regions": {
      "22e58f42-6938-408a-8467-4d5fba51df71": {
       "attrs": {
        "height": 0.8,
        "width": 0.8,
        "x": 0.1,
        "y": 0.1
       },
       "content": {
        "cell": "35983f6f-643d-4f54-a22f-c384613cae24",
        "part": "whole"
       },
       "id": "22e58f42-6938-408a-8467-4d5fba51df71"
      }
     }
    },
    "769a3d5e-9deb-438d-a859-3f56a16da85b": {
     "id": "769a3d5e-9deb-438d-a859-3f56a16da85b",
     "prev": "3dd14937-a647-44e4-a0e3-451b2961c30c",
     "regions": {
      "5bafa801-524e-48d9-be3e-1ef8c444935f": {
       "attrs": {
        "height": 0.8,
        "width": 0.8,
        "x": 0.1,
        "y": 0.1
       },
       "content": {
        "cell": "a89b6ca8-d81e-425e-b33a-9222b753046a",
        "part": "whole"
       },
       "id": "5bafa801-524e-48d9-be3e-1ef8c444935f"
      }
     }
    },
    "78371c09-1876-4b9c-bd4a-0138580287f1": {
     "id": "78371c09-1876-4b9c-bd4a-0138580287f1",
     "prev": "13aba4f2-010a-4edf-850e-230710c5ce54",
     "regions": {
      "6a2ae799-a8ea-4769-ad45-ee01ab8ab03f": {
       "attrs": {
        "height": 0.8,
        "width": 0.8,
        "x": 0.1,
        "y": 0.1
       },
       "content": {
        "cell": "a6c01463-0a7d-4f2e-8379-f4de0142b7f8",
        "part": "whole"
       },
       "id": "6a2ae799-a8ea-4769-ad45-ee01ab8ab03f"
      }
     }
    },
    "7b0401ce-b2eb-4ae8-aed9-554b3331973a": {
     "id": "7b0401ce-b2eb-4ae8-aed9-554b3331973a",
     "prev": "b3c96796-3888-4bee-aa69-630a059fd738",
     "regions": {
      "77bcb7b3-5eb2-4a93-806e-ce38d3d6eea2": {
       "attrs": {
        "height": 0.8,
        "width": 0.8,
        "x": 0.1,
        "y": 0.1
       },
       "content": {
        "cell": "ee88694a-af77-4af9-a04f-9b3eed36966d",
        "part": "whole"
       },
       "id": "77bcb7b3-5eb2-4a93-806e-ce38d3d6eea2"
      }
     }
    },
    "7b6eec8b-3004-4c01-9da9-fc13a485a672": {
     "id": "7b6eec8b-3004-4c01-9da9-fc13a485a672",
     "prev": "2fff091f-9d33-4b75-891c-ede544554eff",
     "regions": {
      "0555682a-94e7-4b16-8ced-e984bf2815c7": {
       "attrs": {
        "height": 0.8,
        "width": 0.8,
        "x": 0.1,
        "y": 0.1
       },
       "content": {
        "cell": "4e1753ac-5319-441f-b8dd-d1756043a3d9",
        "part": "whole"
       },
       "id": "0555682a-94e7-4b16-8ced-e984bf2815c7"
      }
     }
    },
    "7cf3ee90-3596-4f42-9b9f-723d1cc7950b": {
     "id": "7cf3ee90-3596-4f42-9b9f-723d1cc7950b",
     "prev": "300f7a9f-0819-4324-bd3a-a4d2c8a66d3b",
     "regions": {
      "3b567a1d-53c3-4d86-9b1a-f9da98c2f49f": {
       "attrs": {
        "height": 0.8,
        "width": 0.8,
        "x": 0.1,
        "y": 0.1
       },
       "content": {
        "cell": "01deb5c7-bbbe-435a-bc53-1647cae12561",
        "part": "whole"
       },
       "id": "3b567a1d-53c3-4d86-9b1a-f9da98c2f49f"
      }
     }
    },
    "7dc1e22d-4933-4372-ad4b-4c4c5eb5b77d": {
     "id": "7dc1e22d-4933-4372-ad4b-4c4c5eb5b77d",
     "prev": "162416fa-1e08-4b71-a9cb-c85e5b84ab71",
     "regions": {
      "9242306a-ca8a-491e-942c-a9070be1327f": {
       "attrs": {
        "height": 0.8,
        "width": 0.8,
        "x": 0.1,
        "y": 0.1
       },
       "content": {
        "cell": "8834e119-0f24-47cf-be67-2705b165dd04",
        "part": "whole"
       },
       "id": "9242306a-ca8a-491e-942c-a9070be1327f"
      }
     }
    },
    "81803774-6372-44ac-9e6c-58a5f74dd00b": {
     "id": "81803774-6372-44ac-9e6c-58a5f74dd00b",
     "prev": "ecc98162-6159-4bec-8afa-504474b4ba36",
     "regions": {
      "40ce4e3c-a94a-4f60-b962-b0081c928d44": {
       "attrs": {
        "height": 0.8,
        "width": 0.8,
        "x": 0.1,
        "y": 0.1
       },
       "content": {
        "cell": "21739db3-b730-4b20-a4c8-e0511530a84e",
        "part": "whole"
       },
       "id": "40ce4e3c-a94a-4f60-b962-b0081c928d44"
      }
     }
    },
    "8208952b-3ba7-472f-b241-8c005da849ad": {
     "id": "8208952b-3ba7-472f-b241-8c005da849ad",
     "prev": "56fff49b-0aea-486e-87a0-0f7fe6e9eb5b",
     "regions": {
      "76c45728-3a4e-4a19-b260-62a88e8f4744": {
       "attrs": {
        "height": 0.8,
        "width": 0.8,
        "x": 0.1,
        "y": 0.1
       },
       "content": {
        "cell": "2e5c7c0e-4148-4867-8542-f3cf0aba1146",
        "part": "whole"
       },
       "id": "76c45728-3a4e-4a19-b260-62a88e8f4744"
      }
     }
    },
    "83147af9-b70d-4392-bc18-c8ca4820ad0f": {
     "id": "83147af9-b70d-4392-bc18-c8ca4820ad0f",
     "prev": "89c839f9-4543-476a-a1d0-59ef669b9307",
     "regions": {
      "4d5440dc-9644-4ec6-9471-320d74bcc108": {
       "attrs": {
        "height": 0.8,
        "width": 0.8,
        "x": 0.1,
        "y": 0.1
       },
       "content": {
        "cell": "694125f1-cb21-457b-82d9-be96b9a3e196",
        "part": "whole"
       },
       "id": "4d5440dc-9644-4ec6-9471-320d74bcc108"
      }
     }
    },
    "87560e30-1404-4b44-b07e-fd2e199c88f5": {
     "id": "87560e30-1404-4b44-b07e-fd2e199c88f5",
     "prev": "2454507a-d2c2-4266-9a8e-9214dbb0a753",
     "regions": {
      "f10e3ede-9ca2-477b-a454-8bf9ff1db90e": {
       "attrs": {
        "height": 0.8,
        "width": 0.8,
        "x": 0.1,
        "y": 0.1
       },
       "content": {
        "cell": "6f54f35f-96c9-4f32-9703-41e99d112667",
        "part": "whole"
       },
       "id": "f10e3ede-9ca2-477b-a454-8bf9ff1db90e"
      }
     }
    },
    "881be986-21a4-4c0b-811c-3672c8f1c061": {
     "id": "881be986-21a4-4c0b-811c-3672c8f1c061",
     "prev": "0594499a-71ea-4906-9496-8fb6bb66c0c0",
     "regions": {
      "226d8563-c534-46a2-b209-ab92c76a377b": {
       "attrs": {
        "height": 0.8,
        "width": 0.8,
        "x": 0.1,
        "y": 0.1
       },
       "content": {
        "cell": "3ae8d505-0e94-4737-af69-91e90dddc8bb",
        "part": "whole"
       },
       "id": "226d8563-c534-46a2-b209-ab92c76a377b"
      }
     }
    },
    "89c839f9-4543-476a-a1d0-59ef669b9307": {
     "id": "89c839f9-4543-476a-a1d0-59ef669b9307",
     "prev": "f2cc0b4d-a261-411c-89ff-f95b669aa04a",
     "regions": {
      "98924836-028f-4072-a59c-90d0b341868b": {
       "attrs": {
        "height": 0.8,
        "width": 0.8,
        "x": 0.1,
        "y": 0.1
       },
       "content": {
        "cell": "9d116276-72cd-4840-8f7b-a58ae05972df",
        "part": "whole"
       },
       "id": "98924836-028f-4072-a59c-90d0b341868b"
      }
     }
    },
    "8e77c401-7b2a-4f04-8b05-1b421c690d49": {
     "id": "8e77c401-7b2a-4f04-8b05-1b421c690d49",
     "prev": "a0494d02-fff2-45bf-a183-32b80fa8955c",
     "regions": {
      "8423de66-1580-491d-a835-4060f6f10976": {
       "attrs": {
        "height": 0.8,
        "width": 0.8,
        "x": 0.1,
        "y": 0.1
       },
       "content": {
        "cell": "cf03da5d-ecde-4d6d-9c09-d18eb7bf4d00",
        "part": "whole"
       },
       "id": "8423de66-1580-491d-a835-4060f6f10976"
      }
     }
    },
    "906ae809-1488-4350-8560-db83dd57805b": {
     "id": "906ae809-1488-4350-8560-db83dd57805b",
     "prev": "141e692b-01c9-4dc4-b46f-e2d73947f22a",
     "regions": {
      "116e19a5-f68e-412a-b758-7ec660b745c5": {
       "attrs": {
        "height": 0.8,
        "width": 0.8,
        "x": 0.1,
        "y": 0.1
       },
       "content": {
        "cell": "7d98af65-8d32-4b05-a178-8a97ad2c43a4",
        "part": "whole"
       },
       "id": "116e19a5-f68e-412a-b758-7ec660b745c5"
      }
     }
    },
    "98e14bd7-4e5b-438c-b67c-e97c2463808c": {
     "id": "98e14bd7-4e5b-438c-b67c-e97c2463808c",
     "prev": "87560e30-1404-4b44-b07e-fd2e199c88f5",
     "regions": {
      "c2b7970c-1800-453d-99d1-12dfd394dea5": {
       "attrs": {
        "height": 0.8,
        "width": 0.8,
        "x": 0.1,
        "y": 0.1
       },
       "content": {
        "cell": "f6b0af89-a618-40d5-877b-147713f7aae6",
        "part": "whole"
       },
       "id": "c2b7970c-1800-453d-99d1-12dfd394dea5"
      }
     }
    },
    "9b103fea-657a-4823-84fd-bb6862e5dbbb": {
     "id": "9b103fea-657a-4823-84fd-bb6862e5dbbb",
     "prev": "2f80b7a5-7fe5-49ce-b878-1cd92b3eb59c",
     "regions": {
      "0926b251-8b4b-4c2a-bedb-93ad1e5e9564": {
       "attrs": {
        "height": 0.8,
        "width": 0.8,
        "x": 0.1,
        "y": 0.1
       },
       "content": {
        "cell": "09a8fbcf-537c-4bf7-8efe-7a432a43b8f1",
        "part": "whole"
       },
       "id": "0926b251-8b4b-4c2a-bedb-93ad1e5e9564"
      }
     }
    },
    "a0494d02-fff2-45bf-a183-32b80fa8955c": {
     "id": "a0494d02-fff2-45bf-a183-32b80fa8955c",
     "prev": "7b0401ce-b2eb-4ae8-aed9-554b3331973a",
     "regions": {
      "b6d92003-8df0-44e3-9289-846c2937ad61": {
       "attrs": {
        "height": 0.8,
        "width": 0.8,
        "x": 0.1,
        "y": 0.1
       },
       "content": {
        "cell": "148d3484-9e90-4c53-95b9-c91f0acb9c4d",
        "part": "whole"
       },
       "id": "b6d92003-8df0-44e3-9289-846c2937ad61"
      }
     }
    },
    "ade648ae-ded3-491a-832e-59728c47b2da": {
     "id": "ade648ae-ded3-491a-832e-59728c47b2da",
     "prev": "b6b69666-8f0e-40de-ba7e-bc6261109d7a",
     "regions": {
      "117d6c36-1c9f-4f94-b36a-9d3767e700df": {
       "attrs": {
        "height": 0.8,
        "width": 0.8,
        "x": 0.1,
        "y": 0.1
       },
       "content": {
        "cell": "4a4110f6-4821-42c0-a68d-e0d260a9e3e8",
        "part": "whole"
       },
       "id": "117d6c36-1c9f-4f94-b36a-9d3767e700df"
      }
     }
    },
    "b3c96796-3888-4bee-aa69-630a059fd738": {
     "id": "b3c96796-3888-4bee-aa69-630a059fd738",
     "prev": "1094ae68-130a-400a-a23e-c7096e03d769",
     "regions": {
      "3daebbe5-21e3-4e2d-8dc8-2a1f5e05add7": {
       "attrs": {
        "height": 0.8,
        "width": 0.8,
        "x": 0.1,
        "y": 0.1
       },
       "content": {
        "cell": "8676a2ce-6cff-47a6-a248-85c9f4f1abfc",
        "part": "whole"
       },
       "id": "3daebbe5-21e3-4e2d-8dc8-2a1f5e05add7"
      }
     }
    },
    "b484ffdd-c31c-40f4-8f9e-81499da292a5": {
     "id": "b484ffdd-c31c-40f4-8f9e-81499da292a5",
     "prev": "6d98205a-2a41-455e-b14c-8f5745b1c710",
     "regions": {
      "2364c0cd-9eac-43ba-a86a-977d9445e9bd": {
       "attrs": {
        "height": 0.8,
        "width": 0.8,
        "x": 0.1,
        "y": 0.1
       },
       "content": {
        "cell": "d8273bd5-14e2-4901-afd2-8d713eecad20",
        "part": "whole"
       },
       "id": "2364c0cd-9eac-43ba-a86a-977d9445e9bd"
      }
     }
    },
    "b48d507f-03e9-4f72-a5ae-df173ca930e2": {
     "id": "b48d507f-03e9-4f72-a5ae-df173ca930e2",
     "prev": "c33d2cb2-82ac-4e0a-b30a-0bb044a17e2b",
     "regions": {
      "739abd1e-11ff-47ef-8feb-d2cec92471b4": {
       "attrs": {
        "height": 0.8,
        "width": 0.8,
        "x": 0.1,
        "y": 0.1
       },
       "content": {
        "cell": "87377de4-4d74-4cce-912b-672f83aefef1",
        "part": "whole"
       },
       "id": "739abd1e-11ff-47ef-8feb-d2cec92471b4"
      }
     }
    },
    "b6b69666-8f0e-40de-ba7e-bc6261109d7a": {
     "id": "b6b69666-8f0e-40de-ba7e-bc6261109d7a",
     "prev": "d889890d-f9c4-4b5f-bc4f-fe6f59f94906",
     "regions": {
      "66c6c8d5-f288-4ef2-8433-84c762e5cb01": {
       "attrs": {
        "height": 0.8,
        "width": 0.8,
        "x": 0.1,
        "y": 0.1
       },
       "content": {
        "cell": "1707ca08-5614-40ac-b24a-2e944a1cbd24",
        "part": "whole"
       },
       "id": "66c6c8d5-f288-4ef2-8433-84c762e5cb01"
      }
     }
    },
    "bb17eca9-2075-47aa-89b2-c29d1766ed53": {
     "id": "bb17eca9-2075-47aa-89b2-c29d1766ed53",
     "prev": "83147af9-b70d-4392-bc18-c8ca4820ad0f",
     "regions": {
      "a40f4fda-f40e-4b83-ac38-59dc0a5e1010": {
       "attrs": {
        "height": 0.8,
        "width": 0.8,
        "x": 0.1,
        "y": 0.1
       },
       "content": {
        "cell": "60682618-d225-4896-8404-0741481bd3af",
        "part": "whole"
       },
       "id": "a40f4fda-f40e-4b83-ac38-59dc0a5e1010"
      }
     }
    },
    "bc127065-146c-4319-89ee-9275fb30a5c0": {
     "id": "bc127065-146c-4319-89ee-9275fb30a5c0",
     "prev": "09723e85-c0e3-49ab-8e6b-c8ead54f74d6",
     "regions": {
      "cc9a57a7-9364-4a71-b3eb-df3a15825f94": {
       "attrs": {
        "height": 0.8,
        "width": 0.8,
        "x": 0.1,
        "y": 0.1
       },
       "content": {
        "cell": "cce56d28-f453-49bc-a6ff-a4414f4498fd",
        "part": "whole"
       },
       "id": "cc9a57a7-9364-4a71-b3eb-df3a15825f94"
      }
     }
    },
    "bd1d5abb-f6cc-41fa-9d31-1d3f0d553172": {
     "id": "bd1d5abb-f6cc-41fa-9d31-1d3f0d553172",
     "prev": "8e77c401-7b2a-4f04-8b05-1b421c690d49",
     "regions": {
      "a913039d-1eab-4e76-9bc0-3d8f68db7782": {
       "attrs": {
        "height": 0.8,
        "width": 0.8,
        "x": 0.1,
        "y": 0.1
       },
       "content": {
        "cell": "c7fabe99-60e1-4dc0-8a5c-d9a4ecc4fdb3",
        "part": "whole"
       },
       "id": "a913039d-1eab-4e76-9bc0-3d8f68db7782"
      }
     }
    },
    "bee43c81-1e48-45b4-9673-9b34aec4ae6e": {
     "id": "bee43c81-1e48-45b4-9673-9b34aec4ae6e",
     "prev": "3ae8ec6c-f9a5-498a-95a7-ec6db1907c0e",
     "regions": {
      "46bd1f79-0c7c-4caa-b53b-31477eee86ce": {
       "attrs": {
        "height": 0.8,
        "width": 0.8,
        "x": 0.1,
        "y": 0.1
       },
       "content": {
        "cell": "a4382ca5-94f4-4a65-82fa-908ce843ab7b",
        "part": "whole"
       },
       "id": "46bd1f79-0c7c-4caa-b53b-31477eee86ce"
      }
     }
    },
    "c319d40b-0fbd-46d0-ba00-be61446984a6": {
     "id": "c319d40b-0fbd-46d0-ba00-be61446984a6",
     "prev": "d9f1eee3-a970-4577-98c8-d62c11bf6013",
     "regions": {
      "6f2d230b-c456-4e74-b45a-e8f4de18ee68": {
       "attrs": {
        "height": 0.8,
        "width": 0.8,
        "x": 0.1,
        "y": 0.1
       },
       "content": {
        "cell": "3fc1e62e-66c5-46ea-b14e-9e799796690e",
        "part": "whole"
       },
       "id": "6f2d230b-c456-4e74-b45a-e8f4de18ee68"
      }
     }
    },
    "c33d2cb2-82ac-4e0a-b30a-0bb044a17e2b": {
     "id": "c33d2cb2-82ac-4e0a-b30a-0bb044a17e2b",
     "prev": "6218d241-271c-4a03-9d79-ac6538946323",
     "regions": {
      "fbc1076e-1566-4bba-88a8-eb68b17c8dfb": {
       "attrs": {
        "height": 0.8,
        "width": 0.8,
        "x": 0.1,
        "y": 0.1
       },
       "content": {
        "cell": "b650818d-968c-472c-90f9-e6ec18adeda3",
        "part": "whole"
       },
       "id": "fbc1076e-1566-4bba-88a8-eb68b17c8dfb"
      }
     }
    },
    "ca2e7c04-e994-49d9-81a0-5e951fc8fd84": {
     "id": "ca2e7c04-e994-49d9-81a0-5e951fc8fd84",
     "prev": "bc127065-146c-4319-89ee-9275fb30a5c0",
     "regions": {
      "efe1ebb1-f364-4864-863f-9c1d4e580295": {
       "attrs": {
        "height": 0.8,
        "width": 0.8,
        "x": 0.1,
        "y": 0.1
       },
       "content": {
        "cell": "cbf67a2c-4cf5-4294-934a-27eaff1780f9",
        "part": "whole"
       },
       "id": "efe1ebb1-f364-4864-863f-9c1d4e580295"
      }
     }
    },
    "cdadd2ce-2f2c-46e1-bfac-87edb3ab3475": {
     "id": "cdadd2ce-2f2c-46e1-bfac-87edb3ab3475",
     "prev": "ea4b4bf2-9415-4da0-9608-6e4e497fc3c8",
     "regions": {
      "0f6a11ea-b306-4512-a174-266d8addde3e": {
       "attrs": {
        "height": 0.8,
        "width": 0.8,
        "x": 0.1,
        "y": 0.1
       },
       "content": {
        "cell": "1e2fceb7-ab47-4905-b056-4f40924279c1",
        "part": "whole"
       },
       "id": "0f6a11ea-b306-4512-a174-266d8addde3e"
      }
     }
    },
    "cfb31a43-5f13-4b46-ac50-dd6ea45c034c": {
     "id": "cfb31a43-5f13-4b46-ac50-dd6ea45c034c",
     "prev": "769a3d5e-9deb-438d-a859-3f56a16da85b",
     "regions": {
      "c6dd93d5-2ee8-477f-9731-3048ae068bd5": {
       "attrs": {
        "height": 0.8,
        "width": 0.8,
        "x": 0.1,
        "y": 0.1
       },
       "content": {
        "cell": "203075f4-8b0f-4491-9b42-c5a0b37888fd",
        "part": "whole"
       },
       "id": "c6dd93d5-2ee8-477f-9731-3048ae068bd5"
      }
     }
    },
    "d367c3b8-7ca1-4717-82e7-ebd921532e0a": {
     "id": "d367c3b8-7ca1-4717-82e7-ebd921532e0a",
     "prev": "906ae809-1488-4350-8560-db83dd57805b",
     "regions": {
      "4c436efe-6b63-4699-a7d4-8f49d3fd57d3": {
       "attrs": {
        "height": 0.8,
        "width": 0.8,
        "x": 0.1,
        "y": 0.1
       },
       "content": {
        "cell": "acbfdc1c-47a7-426a-aedc-f4c8674ad1a4",
        "part": "whole"
       },
       "id": "4c436efe-6b63-4699-a7d4-8f49d3fd57d3"
      }
     }
    },
    "d889890d-f9c4-4b5f-bc4f-fe6f59f94906": {
     "id": "d889890d-f9c4-4b5f-bc4f-fe6f59f94906",
     "prev": "7b6eec8b-3004-4c01-9da9-fc13a485a672",
     "regions": {
      "9612e543-8ec7-4779-8769-4f5981c80d52": {
       "attrs": {
        "height": 0.8,
        "width": 0.8,
        "x": 0.1,
        "y": 0.1
       },
       "content": {
        "cell": "65bb1d63-55ab-446c-9b28-d6ae62d84541",
        "part": "whole"
       },
       "id": "9612e543-8ec7-4779-8769-4f5981c80d52"
      }
     }
    },
    "d9f1eee3-a970-4577-98c8-d62c11bf6013": {
     "id": "d9f1eee3-a970-4577-98c8-d62c11bf6013",
     "prev": "8208952b-3ba7-472f-b241-8c005da849ad",
     "regions": {
      "4a6e54ec-75df-4e88-bbab-3c5035f59103": {
       "attrs": {
        "height": 0.8,
        "width": 0.8,
        "x": 0.1,
        "y": 0.1
       },
       "content": {
        "cell": "9bdfeaf2-5277-4bbe-8974-261b86d7ee9d",
        "part": "whole"
       },
       "id": "4a6e54ec-75df-4e88-bbab-3c5035f59103"
      }
     }
    },
    "e161b940-b10c-4a1f-a43a-723095c94de8": {
     "id": "e161b940-b10c-4a1f-a43a-723095c94de8",
     "prev": "cdadd2ce-2f2c-46e1-bfac-87edb3ab3475",
     "regions": {
      "e578900a-2d50-40cc-8414-1ed846834717": {
       "attrs": {
        "height": 0.8,
        "width": 0.8,
        "x": 0.1,
        "y": 0.1
       },
       "content": {
        "cell": "d170b76a-26d4-4651-9b22-8704a0bd915c",
        "part": "whole"
       },
       "id": "e578900a-2d50-40cc-8414-1ed846834717"
      }
     }
    },
    "ea4b4bf2-9415-4da0-9608-6e4e497fc3c8": {
     "id": "ea4b4bf2-9415-4da0-9608-6e4e497fc3c8",
     "prev": "98e14bd7-4e5b-438c-b67c-e97c2463808c",
     "regions": {
      "43e8976b-d581-4fea-b6dc-a4befe81263a": {
       "attrs": {
        "height": 0.8,
        "width": 0.8,
        "x": 0.1,
        "y": 0.1
       },
       "content": {
        "cell": "d0311d12-6205-479e-843c-1b27dbda8fbc",
        "part": "whole"
       },
       "id": "43e8976b-d581-4fea-b6dc-a4befe81263a"
      }
     }
    },
    "ecc98162-6159-4bec-8afa-504474b4ba36": {
     "id": "ecc98162-6159-4bec-8afa-504474b4ba36",
     "prev": "74e14f81-d898-48b2-8fc4-4fe6e7645955",
     "regions": {
      "44a30e39-8072-4440-88a6-479ba0c54d90": {
       "attrs": {
        "height": 0.8,
        "width": 0.8,
        "x": 0.1,
        "y": 0.1
       },
       "content": {
        "cell": "db611024-4d9d-49a7-82ca-484642f464b4",
        "part": "whole"
       },
       "id": "44a30e39-8072-4440-88a6-479ba0c54d90"
      }
     }
    },
    "ef105def-f43e-4bca-b8d4-6784c2925369": {
     "id": "ef105def-f43e-4bca-b8d4-6784c2925369",
     "prev": "e161b940-b10c-4a1f-a43a-723095c94de8",
     "regions": {
      "c4a617ac-c38c-4c1a-aae8-e648d6a06c5c": {
       "attrs": {
        "height": 0.8,
        "width": 0.8,
        "x": 0.1,
        "y": 0.1
       },
       "content": {
        "cell": "34b83dc8-f9b7-4def-a1d1-c8b6a3944563",
        "part": "whole"
       },
       "id": "c4a617ac-c38c-4c1a-aae8-e648d6a06c5c"
      }
     }
    },
    "f1759aed-9cb1-40cf-b3d2-eece63a68f69": {
     "id": "f1759aed-9cb1-40cf-b3d2-eece63a68f69",
     "prev": "81803774-6372-44ac-9e6c-58a5f74dd00b",
     "regions": {
      "99dc0df1-565e-4abe-b821-ebf6ae08d6d0": {
       "attrs": {
        "height": 0.8,
        "width": 0.8,
        "x": 0.1,
        "y": 0.1
       },
       "content": {
        "cell": "e4f0de34-640b-4206-85c7-5612d65a6a23",
        "part": "whole"
       },
       "id": "99dc0df1-565e-4abe-b821-ebf6ae08d6d0"
      }
     }
    },
    "f2cc0b4d-a261-411c-89ff-f95b669aa04a": {
     "id": "f2cc0b4d-a261-411c-89ff-f95b669aa04a",
     "prev": "b48d507f-03e9-4f72-a5ae-df173ca930e2",
     "regions": {
      "bae8b8a6-1436-460f-a49e-6ecc20b0fe2f": {
       "attrs": {
        "height": 0.8,
        "width": 0.8,
        "x": 0.1,
        "y": 0.1
       },
       "content": {
        "cell": "636acacd-4b4b-4fe9-8f38-60466e725166",
        "part": "whole"
       },
       "id": "bae8b8a6-1436-460f-a49e-6ecc20b0fe2f"
      }
     }
    },
    "f2ef778c-b06a-45f4-bbe1-96b974648234": {
     "id": "f2ef778c-b06a-45f4-bbe1-96b974648234",
     "prev": "f1759aed-9cb1-40cf-b3d2-eece63a68f69",
     "regions": {
      "959dae4b-d6be-434e-8393-ec8e7d5550ea": {
       "attrs": {
        "height": 0.8,
        "width": 0.8,
        "x": 0.1,
        "y": 0.1
       },
       "content": {
        "cell": "19a36ba2-9239-491e-a669-beb40976482b",
        "part": "whole"
       },
       "id": "959dae4b-d6be-434e-8393-ec8e7d5550ea"
      }
     }
    },
    "f6416792-1f49-4fd2-bdac-ea15f368ef7d": {
     "id": "f6416792-1f49-4fd2-bdac-ea15f368ef7d",
     "prev": "bb17eca9-2075-47aa-89b2-c29d1766ed53",
     "regions": {
      "3826c755-88a3-4412-9092-d1ae1b8c58ff": {
       "attrs": {
        "height": 0.8,
        "width": 0.8,
        "x": 0.1,
        "y": 0.1
       },
       "content": {
        "cell": "abca36cc-ef58-460b-b917-507f41ca775d",
        "part": "whole"
       },
       "id": "3826c755-88a3-4412-9092-d1ae1b8c58ff"
      }
     }
    },
    "f68a6cc9-bc7c-423e-8290-825dfa6ac729": {
     "id": "f68a6cc9-bc7c-423e-8290-825dfa6ac729",
     "prev": "5baef90a-e364-4dbe-8fda-311305c804e9",
     "regions": {
      "83abd4a4-d51e-4e35-9937-eb9ebe060d21": {
       "attrs": {
        "height": 0.8,
        "width": 0.8,
        "x": 0.1,
        "y": 0.1
       },
       "content": {
        "cell": "133502f0-d77e-418b-9afd-268c091a24c0",
        "part": "whole"
       },
       "id": "83abd4a4-d51e-4e35-9937-eb9ebe060d21"
      }
     }
    },
    "f6f631e8-791e-4937-a2d3-54a98be84479": {
     "id": "f6f631e8-791e-4937-a2d3-54a98be84479",
     "prev": "ade648ae-ded3-491a-832e-59728c47b2da",
     "regions": {
      "1212e2a8-9917-439d-888b-f1fb50a72c50": {
       "attrs": {
        "height": 0.8,
        "width": 0.8,
        "x": 0.1,
        "y": 0.1
       },
       "content": {
        "cell": "912e10c1-f70e-4606-813c-75b2ba3d9484",
        "part": "whole"
       },
       "id": "1212e2a8-9917-439d-888b-f1fb50a72c50"
      }
     }
    },
    "fc2db4d8-8689-48c7-a96a-a5f9acd62820": {
     "id": "fc2db4d8-8689-48c7-a96a-a5f9acd62820",
     "prev": "5e54acac-ab4d-480b-bd72-65804dfe9c3a",
     "regions": {
      "383337c8-16b5-4ce9-9b53-a85889b8717e": {
       "attrs": {
        "height": 0.8,
        "width": 0.8,
        "x": 0.1,
        "y": 0.1
       },
       "content": {
        "cell": "5e4e37ce-db11-4577-a688-1d01715b3667",
        "part": "whole"
       },
       "id": "383337c8-16b5-4ce9-9b53-a85889b8717e"
      }
     }
    }
   },
   "themes": {}
  }
 },
 "nbformat": 4,
 "nbformat_minor": 0
}
