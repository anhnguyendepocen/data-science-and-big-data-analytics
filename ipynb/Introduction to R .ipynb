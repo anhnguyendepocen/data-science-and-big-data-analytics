{
 "cells": [
  {
   "cell_type": "markdown",
   "metadata": {
    "nbpresent": {
     "id": "41a4ac85-c8c4-411c-8faf-c7f88dfe963c"
    }
   },
   "source": [
    "# Introduction to R\n",
    "## Sukhjit Singh Sehra\n",
    "### Guru NanaK Dev Engineering College, Ludhiana"
   ]
  },
  {
   "cell_type": "markdown",
   "metadata": {
    "nbpresent": {
     "id": "66b4b24f-34e0-4d93-b5f3-6f83a4039ae7"
    }
   },
   "source": [
    "# Introduction to R\n",
    "\n",
    "- There is R, the programming language, and R, the piece of software that you use to run programs written in R. \n",
    "\n",
    " - R is a programming language and software framework for statistical analysis and graphics. Available for use under the GNU General Public License \n",
    " - R software and installation instructions can be obtained via the Comprehensive R Archive and Network \n",
    "\n",
    "- R (the language) was created in the early 1990s by Ross Ihaka and Robert Gentleman, then both working at the University of Auckland\n"
   ]
  },
  {
   "cell_type": "markdown",
   "metadata": {
    "nbpresent": {
     "id": "7565321b-da97-40b7-ac19-a0b161db848d"
    }
   },
   "source": [
    "- ?mean #opens the help page for the mean function\n",
    "- ?\"+\" #opens the help page for addition\n",
    "- ?\"if\" #opens the help page for if, used for branching code\n",
    "- ??plotting #searches for topics containing words like \"plotting\"\n",
    "- ??\"regression model\" #searches for topics containing phrases like this"
   ]
  },
  {
   "cell_type": "markdown",
   "metadata": {
    "nbpresent": {
     "id": "81fb208b-185c-458f-a7ee-38403d771cfd"
    }
   },
   "source": [
    "- help(\"mean\")\n",
    "- help(\"+\")\n",
    "- help(\"if\")\n",
    "- help.search(\"plotting\")\n",
    "- help.search(\"regression model\")"
   ]
  },
  {
   "cell_type": "code",
   "execution_count": null,
   "metadata": {
    "collapsed": false,
    "nbpresent": {
     "id": "5a8da0a2-72f5-44da-9211-b138c9c26542"
    }
   },
   "outputs": [],
   "source": [
    "# import a CSV file of the total annual sales for each customer \n",
    "sales <- read.csv(\"sampledatasets/ Superstoresale.csv\")\n"
   ]
  },
  {
   "cell_type": "code",
   "execution_count": null,
   "metadata": {
    "collapsed": false,
    "nbpresent": {
     "id": "58e79abd-3acf-4e32-b883-f94de2d381e6"
    }
   },
   "outputs": [],
   "source": [
    "str(sales)"
   ]
  },
  {
   "cell_type": "code",
   "execution_count": null,
   "metadata": {
    "collapsed": false,
    "nbpresent": {
     "id": "8294d958-e7c3-4765-bf5f-625d735951cb"
    }
   },
   "outputs": [],
   "source": [
    "# examine the imported dataset head(sales)\n",
    "summary(sales$Row.ID)             \n",
    "# plot num_of_orders vs. sales \n",
    "plot(sales$Order.Quantity,sales$Sales, main=\"Sales\")\n"
   ]
  },
  {
   "cell_type": "code",
   "execution_count": null,
   "metadata": {
    "collapsed": false,
    "nbpresent": {
     "id": "4c3ac7e7-4493-4346-bd67-6abc0d386920"
    },
    "scrolled": true
   },
   "outputs": [],
   "source": [
    "# perform a statistical analysis (fit a linear regression model) \n",
    "results <- lm(sales$Sales ~ sales$Order.Quantity) \n",
    "\n",
    "\n",
    "# summary of Results\n",
    "summary(results)\n",
    "# perform some diagnostics on the fitted model # plot histogram of the residuals \n",
    "hist(results$residuals, breaks = 800)"
   ]
  },
  {
   "cell_type": "markdown",
   "metadata": {
    "nbpresent": {
     "id": "eaa67f2e-9af5-4462-8bc3-d6ea47e4d4b0"
    }
   },
   "source": [
    "Reference:- \n",
    "[1] Data Science and Big Data Analytics by EMC "
   ]
  }
 ],
 "metadata": {
  "kernelspec": {
   "display_name": "R",
   "language": "R",
   "name": "ir"
  },
  "language_info": {
   "codemirror_mode": "r",
   "file_extension": ".r",
   "mimetype": "text/x-r-source",
   "name": "R",
   "pygments_lexer": "r",
   "version": "3.2.3"
  },
  "nbpresent": {
   "slides": {
    "15783916-7a19-4a99-8224-49d16f43426a": {
     "id": "15783916-7a19-4a99-8224-49d16f43426a",
     "prev": "d4bfc4ca-fca8-4101-aa02-d7e20763b9f3",
     "regions": {
      "d3ff948c-2224-4727-8410-819ad95bfd17": {
       "attrs": {
        "height": 0.8,
        "width": 0.8,
        "x": 0.1,
        "y": 0.1
       },
       "content": {
        "cell": "7565321b-da97-40b7-ac19-a0b161db848d",
        "part": "whole"
       },
       "id": "d3ff948c-2224-4727-8410-819ad95bfd17"
      }
     }
    },
    "2f2b172d-21be-4231-8c26-02b898f9f8b2": {
     "id": "2f2b172d-21be-4231-8c26-02b898f9f8b2",
     "prev": null,
     "regions": {
      "2fb7aa18-5382-4597-b5dd-2d2127be799d": {
       "attrs": {
        "height": 0.8,
        "width": 0.8,
        "x": 0.1,
        "y": 0.1
       },
       "content": {
        "cell": "41a4ac85-c8c4-411c-8faf-c7f88dfe963c",
        "part": "whole"
       },
       "id": "2fb7aa18-5382-4597-b5dd-2d2127be799d"
      }
     }
    },
    "440edb63-df61-4c7b-9245-2489844660ba": {
     "id": "440edb63-df61-4c7b-9245-2489844660ba",
     "prev": "d9e8ddcd-e6ee-40e4-b561-1459062df205",
     "regions": {
      "adccd021-a12f-41bb-a828-090f083bf61b": {
       "attrs": {
        "height": 0.8,
        "width": 0.8,
        "x": 0.1,
        "y": 0.1
       },
       "content": {
        "cell": "5a8da0a2-72f5-44da-9211-b138c9c26542",
        "part": "whole"
       },
       "id": "adccd021-a12f-41bb-a828-090f083bf61b"
      }
     }
    },
    "5b760f75-4aae-4f09-803e-28e0e68b51e7": {
     "id": "5b760f75-4aae-4f09-803e-28e0e68b51e7",
     "prev": "8efd4cca-9c8a-4ca0-8867-b9e9788e7299",
     "regions": {
      "84784f38-e9aa-4fb1-977f-dfce9f50a8a7": {
       "attrs": {
        "height": 0.8,
        "width": 0.8,
        "x": 0.1,
        "y": 0.1
       },
       "content": {
        "cell": "4c3ac7e7-4493-4346-bd67-6abc0d386920",
        "part": "whole"
       },
       "id": "84784f38-e9aa-4fb1-977f-dfce9f50a8a7"
      }
     }
    },
    "5f82039e-8935-4eca-9fba-96012375e3bb": {
     "id": "5f82039e-8935-4eca-9fba-96012375e3bb",
     "prev": "440edb63-df61-4c7b-9245-2489844660ba",
     "regions": {
      "c86c5449-f815-48fb-b3f4-affb28a4beec": {
       "attrs": {
        "height": 0.8,
        "width": 0.8,
        "x": 0.1,
        "y": 0.1
       },
       "content": {
        "cell": "58e79abd-3acf-4e32-b883-f94de2d381e6",
        "part": "whole"
       },
       "id": "c86c5449-f815-48fb-b3f4-affb28a4beec"
      }
     }
    },
    "8efd4cca-9c8a-4ca0-8867-b9e9788e7299": {
     "id": "8efd4cca-9c8a-4ca0-8867-b9e9788e7299",
     "prev": "5f82039e-8935-4eca-9fba-96012375e3bb",
     "regions": {
      "ec17a90a-7f27-49bd-b310-eae34f920a61": {
       "attrs": {
        "height": 0.8,
        "width": 0.8,
        "x": 0.1,
        "y": 0.1
       },
       "content": {
        "cell": "8294d958-e7c3-4765-bf5f-625d735951cb",
        "part": "whole"
       },
       "id": "ec17a90a-7f27-49bd-b310-eae34f920a61"
      }
     }
    },
    "aebf5124-b291-45ba-a9ea-094d6f53c1dc": {
     "id": "aebf5124-b291-45ba-a9ea-094d6f53c1dc",
     "prev": "5b760f75-4aae-4f09-803e-28e0e68b51e7",
     "regions": {
      "547e0ce9-6c91-4f78-bd57-ac155dcbd6c9": {
       "attrs": {
        "height": 0.8,
        "width": 0.8,
        "x": 0.1,
        "y": 0.1
       },
       "content": {
        "cell": "eaa67f2e-9af5-4462-8bc3-d6ea47e4d4b0",
        "part": "whole"
       },
       "id": "547e0ce9-6c91-4f78-bd57-ac155dcbd6c9"
      }
     }
    },
    "d4bfc4ca-fca8-4101-aa02-d7e20763b9f3": {
     "id": "d4bfc4ca-fca8-4101-aa02-d7e20763b9f3",
     "prev": "2f2b172d-21be-4231-8c26-02b898f9f8b2",
     "regions": {
      "a49ac16c-e7e5-43e3-b57a-5d1974f099c7": {
       "attrs": {
        "height": 0.8,
        "width": 0.8,
        "x": 0.1,
        "y": 0.1
       },
       "content": {
        "cell": "66b4b24f-34e0-4d93-b5f3-6f83a4039ae7",
        "part": "whole"
       },
       "id": "a49ac16c-e7e5-43e3-b57a-5d1974f099c7"
      }
     }
    },
    "d9e8ddcd-e6ee-40e4-b561-1459062df205": {
     "id": "d9e8ddcd-e6ee-40e4-b561-1459062df205",
     "prev": "15783916-7a19-4a99-8224-49d16f43426a",
     "regions": {
      "f96cb1b6-c1a7-448d-ac3e-7ca86f3d5ad0": {
       "attrs": {
        "height": 0.8,
        "width": 0.8,
        "x": 0.1,
        "y": 0.1
       },
       "content": {
        "cell": "81fb208b-185c-458f-a7ee-38403d771cfd",
        "part": "whole"
       },
       "id": "f96cb1b6-c1a7-448d-ac3e-7ca86f3d5ad0"
      }
     }
    }
   },
   "themes": {}
  }
 },
 "nbformat": 4,
 "nbformat_minor": 0
}
