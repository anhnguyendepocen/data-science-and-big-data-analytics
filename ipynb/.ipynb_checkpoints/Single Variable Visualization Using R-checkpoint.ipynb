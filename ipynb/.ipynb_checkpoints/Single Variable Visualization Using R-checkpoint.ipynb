{
 "cells": [
  {
   "cell_type": "markdown",
   "metadata": {
    "nbpresent": {
     "id": "a55b2c2d-724d-47ce-b0b7-a1618ee617cb"
    }
   },
   "source": [
    "# Single Variable Visualization Using R\n",
    "## Sukhjit Singh Sehra\n",
    "### Guru Nana Dev Engineering College, Ludhiana"
   ]
  },
  {
   "cell_type": "markdown",
   "metadata": {
    "nbpresent": {
     "id": "cca44adc-026e-4ce6-a4ed-7ec5b44d7b5b"
    }
   },
   "source": [
    "## Using visual representations of data is a hallmark of exploratory data analyses\n",
    "\n",
    "### Letting the data speak to its audience rather than imposing an interpretation on the data"
   ]
  },
  {
   "cell_type": "markdown",
   "metadata": {
    "collapsed": true,
    "nbpresent": {
     "id": "dcf74f75-07f9-43bb-aae7-d9f37d7b62e8"
    }
   },
   "source": [
    " Example Functions for Visualizing a Single Variable\n",
    " \n",
    " \n",
    "| Functions |  Purpose|\n",
    "| ------------- |:-----------------------------------------------------:|\n",
    "|     plot(data)|   Scatterplot where x is the index and y is the value suitable for low-volume data;|\n",
    "|barplot(data)  | Barplot with vertical or horizontal bars|\n",
    "|dotchart(data) | Cleveland dot plot |\n",
    "|hst(data)| Histogram|\n",
    "|plot(density(data))| Density plot (a continuous histogram)|\n",
    "|stem(data)| Stem-and-leaf plot|\n",
    "|rug(data)| Add a rug representation (1-d plot) of the data to an existing plot|\n",
    "\n"
   ]
  },
  {
   "cell_type": "markdown",
   "metadata": {
    "nbpresent": {
     "id": "d2e73c60-069f-42a7-a197-96b5264c0fb6"
    }
   },
   "source": [
    "## Dotchart and Barplot\n"
   ]
  },
  {
   "cell_type": "markdown",
   "metadata": {
    "nbpresent": {
     "id": "3cc3941a-e0c4-4ba4-bd3c-3f19e5468812"
    }
   },
   "source": [
    "Dotchart and barplot portray continuous values with labels from a discrete variable. A dotchart can be\n",
    "created in R with the function dotchart(x, label=...), where x is a numeric vector and label\n",
    "is a vector of categorical labels for x.\n",
    "\n"
   ]
  },
  {
   "cell_type": "code",
   "execution_count": null,
   "metadata": {
    "collapsed": false,
    "nbpresent": {
     "id": "f9c1712e-9a13-46c6-9abd-6d7292fc3062"
    }
   },
   "outputs": [],
   "source": [
    "data(mtcars)\n",
    "str(mtcars)\n",
    "#length(mtcars$mpg)\n",
    "dotchart(mtcars$mpg,labels=row.names(mtcars),cex=.7,main=\"Miles Per Gallon (MPG) of Car Models\",xlab=\"MPG\")\n",
    "barplot(table(mtcars$cyl), main=\"Distribution of Car Cylinder Counts\",xlab=\"Number of Cylinders\")"
   ]
  },
  {
   "cell_type": "markdown",
   "metadata": {
    "nbpresent": {
     "id": "428c2457-d463-43c5-b644-ca339b1e107d"
    }
   },
   "source": [
    "## Histogram and Density Plot\n"
   ]
  },
  {
   "cell_type": "markdown",
   "metadata": {},
   "source": [
    "#### Used to show the accumulation of data one particular value. \n",
    "- In the data preparation phase of the Data Analytics Lifecycle, the data range and distribution can be obtained. If the data is skewed, viewing the logarithm of the data (if it’s all positive) can help detect structures that might otherwise be overlooked in a graph with a regular, nonlogarithmic scale.\n",
    "#### Algorithmic Plots\n",
    "- It is to respond to skewness towards large values; i.e., cases in which one or a few points are much larger than the bulk of the data. The second is to show percent change or multiplicative factors. \n",
    "- It describes rates of change"
   ]
  },
  {
   "cell_type": "code",
   "execution_count": null,
   "metadata": {
    "collapsed": false,
    "nbpresent": {
     "id": "ee80a3fc-ee29-454b-b9a9-738ef56c0ce4"
    }
   },
   "outputs": [],
   "source": [
    "# randomly generate 4000 observations from the log normal distribution\n",
    "income <- rlnorm(4000, meanlog = 4, sdlog = 0.7)\n",
    "summary(income)\n",
    "income <- 1000*income\n",
    "summary(income)"
   ]
  },
  {
   "cell_type": "code",
   "execution_count": null,
   "metadata": {
    "collapsed": true,
    "nbpresent": {
     "id": "942538d6-608b-4e47-aa7b-3dcf6c09df62"
    }
   },
   "outputs": [],
   "source": [
    "# plot the histogram\n",
    "hist(income, breaks=500, xlab=\"Income\", main=\"Histogram of Income\")\n",
    "\n"
   ]
  },
  {
   "cell_type": "markdown",
   "metadata": {
    "nbpresent": {
     "id": "c82407c6-1d6b-47c8-9c9d-e5383b88fec0"
    }
   },
   "source": [
    "## Kernel Density Plots\n",
    "\n",
    "### Kernal density plots are usually a much more effective way to view the distribution of a variable. Create the plot using plot(density(x)) where x is a numeric vector. "
   ]
  },
  {
   "cell_type": "markdown",
   "metadata": {
    "collapsed": false
   },
   "source": [
    "# density plot\n",
    "plot(density(log10(income), adjust=0.5),\n",
    "main=\"Distribution of Income (log10 scale)\")\n",
    "# add rug to the density plot\n",
    "rug(log10(income))"
   ]
  },
  {
   "cell_type": "markdown",
   "metadata": {
    "nbpresent": {
     "id": "dd8988ff-deb0-49b6-94b5-75f672eeffa6"
    }
   },
   "source": [
    "#### Using  diamonds dataset comes with the ggplot2 package.\n"
   ]
  },
  {
   "cell_type": "code",
   "execution_count": 16,
   "metadata": {
    "collapsed": false,
    "nbpresent": {
     "id": "c9642a09-8519-4276-b7ab-cd6d02a4a74e"
    }
   },
   "outputs": [
    {
     "data": {
      "text/html": [
       "<dl class=dl-horizontal>\n",
       "\t<dt>Fair</dt>\n",
       "\t\t<dd>0</dd>\n",
       "\t<dt>Good</dt>\n",
       "\t\t<dd>0</dd>\n",
       "\t<dt>Very Good</dt>\n",
       "\t\t<dd>0</dd>\n",
       "\t<dt>Premium</dt>\n",
       "\t\t<dd>13791</dd>\n",
       "\t<dt>Ideal</dt>\n",
       "\t\t<dd>21551</dd>\n",
       "</dl>\n"
      ],
      "text/latex": [
       "\\begin{description*}\n",
       "\\item[Fair] 0\n",
       "\\item[Good] 0\n",
       "\\item[Very Good] 0\n",
       "\\item[Premium] 13791\n",
       "\\item[Ideal] 21551\n",
       "\\end{description*}\n"
      ],
      "text/markdown": [
       "Fair\n",
       ":   0Good\n",
       ":   0Very Good\n",
       ":   0Premium\n",
       ":   13791Ideal\n",
       ":   21551\n",
       "\n"
      ],
      "text/plain": [
       "     Fair      Good Very Good   Premium     Ideal \n",
       "        0         0         0     13791     21551 "
      ]
     },
     "metadata": {},
     "output_type": "display_data"
    },
    {
     "data": {},
     "metadata": {},
     "output_type": "display_data"
    },
    {
     "data": {},
     "metadata": {},
     "output_type": "display_data"
    },
    {
     "data": {
      "image/png": "[encoded data removed]",
      "text/plain": [
       "plot without title"
      ]
     },
     "metadata": {},
     "output_type": "display_data"
    },
    {
     "data": {
      "image/png": "[encoded data removed]",
      "text/plain": [
       "plot without title"
      ]
     },
     "metadata": {},
     "output_type": "display_data"
    }
   ],
   "source": [
    "library(ggplot2) # load the diamonds dataset from ggplot2\n",
    "data(diamonds) # Only keep the premium and ideal cuts of diamonds\n",
    "\n",
    "niceDiamonds <- diamonds[diamonds$cut==\"Premium\" |diamonds$cut==\"Ideal\",]\n",
    "\n",
    "summary(niceDiamonds$cut)\n",
    "\n",
    "# plot density plot of diamond prices\n",
    "ggplot(niceDiamonds, aes(x=price, fill=cut)) +\n",
    "geom_density(alpha = .3, color=NA)\n",
    "# plot density plot of the log10 of diamond prices\n",
    "ggplot(niceDiamonds, aes(x=log10(price), fill=cut)) +\n",
    "geom_density(alpha = .3, color=NA)\n",
    "\n",
    "    \n"
   ]
  },
  {
   "cell_type": "markdown",
   "metadata": {
    "collapsed": true
   },
   "source": [
    "## Examining the Multiple Variables"
   ]
  },
  {
   "cell_type": "markdown",
   "metadata": {},
   "source": [
    "## A scatterplot is a simple and widely used visualization for finding the relationship among multiple variables. A scatterplot can represent data with up to five variables using x-axis, y-axis, size, color, and shape.  But normally fewer variables are mapped."
   ]
  },
  {
   "cell_type": "markdown",
   "metadata": {},
   "source": [
    "## When examining a scatterplot, one needs to pay close attention to the possible relationship between the variables.\n",
    "- If the functional relationship between the variables is somewhat pronounced, the data may roughly lie along a straight line, a parabola, or an exponential curve. \n",
    "- If variable y is related exponentially to x, then the plot of x versus log(y) is approximately linear. \n",
    "- If the plot looks more like a cluster without a pattern, the corresponding variables may have a weak relationship"
   ]
  },
  {
   "cell_type": "code",
   "execution_count": null,
   "metadata": {
    "collapsed": false
   },
   "outputs": [],
   "source": [
    "# 75 numbers between 0 and 10 of uniform distribution\n",
    "x <- runif(75, 0, 10)\n",
    "x <- sort(x)\n",
    "y <- 200 + x^3 - 10 * x^2 + x + rnorm(75, 0, 20) # The rnorm(75,0,20) generates 75 numbers that conform to the normal distribution, with the mean equal to 0 and the standard deviation equal to 20. \n"
   ]
  },
  {
   "cell_type": "code",
   "execution_count": null,
   "metadata": {
    "collapsed": true
   },
   "outputs": [],
   "source": [
    "lr <- lm(y ~ x) # linear regression\n",
    "poly <- loess(y ~ x) # LOESS\n",
    "\n",
    "fit <- predict(poly) # fit a nonlinear line\n"
   ]
  },
  {
   "cell_type": "code",
   "execution_count": null,
   "metadata": {
    "collapsed": false
   },
   "outputs": [],
   "source": [
    "plot(x,y)\n",
    "# draw the fitted line for the linear regression The points() function is a generic function that draws a sequence of points at the specified coordinates. Parameter type=\"l\" tells the function to draw a solid\n",
    "#line. The col parameter sets the color of the line, where 2 represents the red color and 4 represents the blue color\n",
    "points(x, lr$coefficients[1] + lr$coefficients[2] * x, type = \"l\", col = 2) \n",
    "# draw the fitted line with LOESS function\n",
    "points(x, fit, type = \"l\", col = 4)"
   ]
  },
  {
   "cell_type": "markdown",
   "metadata": {},
   "source": [
    "## Dot Chart and Bar Plots can also be used for multiple variable"
   ]
  },
  {
   "cell_type": "markdown",
   "metadata": {},
   "source": [
    "# Box and Box-and-whisker plot"
   ]
  },
  {
   "cell_type": "markdown",
   "metadata": {},
   "source": [
    " - Box-and-whisker plots show the distribution of a continuous variable for each value of a discrete variable.\n",
    " - The “box” of the box-and-whisker shows the range that contains the central 50% of the data, and the line inside the box is the location of the median value.\n",
    " - The upper and lower hinges of the boxes correspond to the first and third quartiles of the data. The upper whisker extends from the hinge to the highest value that is within 1.5 * IQR of the hinge. The lower whisker extends from the hinge to the lowest value within 1.5 * IQR of the hinge.\n",
    "    "
   ]
  }
 ],
 "metadata": {
  "kernelspec": {
   "display_name": "R",
   "language": "R",
   "name": "ir"
  },
  "language_info": {
   "codemirror_mode": "r",
   "file_extension": ".r",
   "mimetype": "text/x-r-source",
   "name": "R",
   "pygments_lexer": "r",
   "version": "3.3.1"
  },
  "nbpresent": {
   "slides": {
    "124f78e4-942d-4a9d-9707-2ba9e2505b3c": {
     "id": "124f78e4-942d-4a9d-9707-2ba9e2505b3c",
     "prev": "c1e0b89f-201b-40dd-bd45-1b56f5cdcaa6",
     "regions": {
      "b56d9742-955d-476f-bf34-a218a0c60130": {
       "attrs": {
        "height": 0.8,
        "width": 0.8,
        "x": 0.1,
        "y": 0.1
       },
       "content": {
        "cell": "ee80a3fc-ee29-454b-b9a9-738ef56c0ce4",
        "part": "whole"
       },
       "id": "b56d9742-955d-476f-bf34-a218a0c60130"
      }
     }
    },
    "14f0defc-679a-4829-a4c8-6f415242d961": {
     "id": "14f0defc-679a-4829-a4c8-6f415242d961",
     "prev": "c1433e73-539a-4c5e-a819-457ba69b0afd",
     "regions": {
      "b56dab33-b363-466b-a7a0-fc8678011469": {
       "attrs": {
        "height": 0.8,
        "width": 0.8,
        "x": 0.1,
        "y": 0.1
       },
       "content": {
        "cell": "936e351a-5fbe-497e-b82e-f2c39e47f849",
        "part": "whole"
       },
       "id": "b56dab33-b363-466b-a7a0-fc8678011469"
      }
     }
    },
    "263cd006-d1a5-4308-bb1b-a43270a2f489": {
     "id": "263cd006-d1a5-4308-bb1b-a43270a2f489",
     "prev": "e3646ecd-11c4-47ed-96b4-7c1c4b324414",
     "regions": {
      "36206003-44a1-4921-8674-58e156a6a938": {
       "attrs": {
        "height": 0.8,
        "width": 0.8,
        "x": 0.1,
        "y": 0.1
       },
       "content": {
        "cell": "f9c1712e-9a13-46c6-9abd-6d7292fc3062",
        "part": "whole"
       },
       "id": "36206003-44a1-4921-8674-58e156a6a938"
      }
     }
    },
    "2a41a772-c5dd-45ec-a85e-9313826abf5f": {
     "id": "2a41a772-c5dd-45ec-a85e-9313826abf5f",
     "prev": null,
     "regions": {
      "70d73cd4-8121-468f-9f9d-fea2cdcea6cc": {
       "attrs": {
        "height": 0.8,
        "width": 0.8,
        "x": 0.1,
        "y": 0.1
       },
       "content": {
        "cell": "a55b2c2d-724d-47ce-b0b7-a1618ee617cb",
        "part": "whole"
       },
       "id": "70d73cd4-8121-468f-9f9d-fea2cdcea6cc"
      }
     }
    },
    "3f9a7519-fd59-43a9-b752-f6c0e65bdf68": {
     "id": "3f9a7519-fd59-43a9-b752-f6c0e65bdf68",
     "prev": "2a41a772-c5dd-45ec-a85e-9313826abf5f",
     "regions": {
      "c37e0273-dbb2-4901-b6f3-81d7220fe5f5": {
       "attrs": {
        "height": 0.8,
        "width": 0.8,
        "x": 0.1,
        "y": 0.1
       },
       "content": {
        "cell": "cca44adc-026e-4ce6-a4ed-7ec5b44d7b5b",
        "part": "whole"
       },
       "id": "c37e0273-dbb2-4901-b6f3-81d7220fe5f5"
      }
     }
    },
    "46022bc1-07bd-48a2-ad36-436ec753479e": {
     "id": "46022bc1-07bd-48a2-ad36-436ec753479e",
     "prev": "d82ea378-1a98-4aee-bbc4-0a609376c561",
     "regions": {
      "6b95d043-93cb-4456-b889-eab542765a5f": {
       "attrs": {
        "height": 0.8,
        "width": 0.8,
        "x": 0.1,
        "y": 0.1
       },
       "content": {
        "cell": "d2e73c60-069f-42a7-a197-96b5264c0fb6",
        "part": "whole"
       },
       "id": "6b95d043-93cb-4456-b889-eab542765a5f"
      }
     }
    },
    "4e9e6ab7-2a1c-48ca-952f-346f6814f4a7": {
     "id": "4e9e6ab7-2a1c-48ca-952f-346f6814f4a7",
     "prev": "124f78e4-942d-4a9d-9707-2ba9e2505b3c",
     "regions": {
      "da5b66ad-b075-4b32-b7bb-d3866a7f7ae2": {
       "attrs": {
        "height": 0.8,
        "width": 0.8,
        "x": 0.1,
        "y": 0.1
       },
       "content": {
        "cell": "942538d6-608b-4e47-aa7b-3dcf6c09df62",
        "part": "whole"
       },
       "id": "da5b66ad-b075-4b32-b7bb-d3866a7f7ae2"
      }
     }
    },
    "60df861f-4a3e-4dd2-9686-64cd150c3318": {
     "id": "60df861f-4a3e-4dd2-9686-64cd150c3318",
     "prev": "14f0defc-679a-4829-a4c8-6f415242d961",
     "regions": {
      "f321152b-cb2f-4955-b1c7-e1b0fb96831a": {
       "attrs": {
        "height": 0.8,
        "width": 0.8,
        "x": 0.1,
        "y": 0.1
       },
       "content": {
        "cell": "dd8988ff-deb0-49b6-94b5-75f672eeffa6",
        "part": "whole"
       },
       "id": "f321152b-cb2f-4955-b1c7-e1b0fb96831a"
      }
     }
    },
    "805565fc-4a10-40cb-ba7b-927ce4c95023": {
     "id": "805565fc-4a10-40cb-ba7b-927ce4c95023",
     "prev": "60df861f-4a3e-4dd2-9686-64cd150c3318",
     "regions": {
      "e9034a1d-ea4f-4902-8367-5f94d26d00fd": {
       "attrs": {
        "height": 0.8,
        "width": 0.8,
        "x": 0.1,
        "y": 0.1
       },
       "content": {
        "cell": "c9642a09-8519-4276-b7ab-cd6d02a4a74e",
        "part": "whole"
       },
       "id": "e9034a1d-ea4f-4902-8367-5f94d26d00fd"
      }
     }
    },
    "a680ea9e-a0ab-4803-b61e-e3bab7516266": {
     "id": "a680ea9e-a0ab-4803-b61e-e3bab7516266",
     "prev": "805565fc-4a10-40cb-ba7b-927ce4c95023",
     "regions": {
      "0ad0d6b1-bf44-425d-9f9a-26e67580b91b": {
       "attrs": {
        "height": 0.8,
        "width": 0.8,
        "x": 0.1,
        "y": 0.1
       },
       "content": {
        "cell": "1f809d1e-c17e-4041-8e38-c0da60a3a09e",
        "part": "whole"
       },
       "id": "0ad0d6b1-bf44-425d-9f9a-26e67580b91b"
      }
     }
    },
    "c1433e73-539a-4c5e-a819-457ba69b0afd": {
     "id": "c1433e73-539a-4c5e-a819-457ba69b0afd",
     "prev": "4e9e6ab7-2a1c-48ca-952f-346f6814f4a7",
     "regions": {
      "ab56821a-7174-4f0f-b071-361ff521a59a": {
       "attrs": {
        "height": 0.8,
        "width": 0.8,
        "x": 0.1,
        "y": 0.1
       },
       "content": {
        "cell": "c82407c6-1d6b-47c8-9c9d-e5383b88fec0",
        "part": "whole"
       },
       "id": "ab56821a-7174-4f0f-b071-361ff521a59a"
      }
     }
    },
    "c1e0b89f-201b-40dd-bd45-1b56f5cdcaa6": {
     "id": "c1e0b89f-201b-40dd-bd45-1b56f5cdcaa6",
     "prev": "ebb2139b-1705-4ee2-b9f7-494e99cac369",
     "regions": {
      "5d690a1e-e80e-4db5-acc2-328f5db3b10d": {
       "attrs": {
        "height": 0.8,
        "width": 0.8,
        "x": 0.1,
        "y": 0.1
       },
       "content": {
        "cell": "d19e8d8b-c81d-438d-aa82-539fe0274846",
        "part": "whole"
       },
       "id": "5d690a1e-e80e-4db5-acc2-328f5db3b10d"
      }
     }
    },
    "d82ea378-1a98-4aee-bbc4-0a609376c561": {
     "id": "d82ea378-1a98-4aee-bbc4-0a609376c561",
     "prev": "3f9a7519-fd59-43a9-b752-f6c0e65bdf68",
     "regions": {
      "b0d02c55-0ebd-4fe1-87f6-0968a2c9acbc": {
       "attrs": {
        "height": 0.8,
        "width": 0.8,
        "x": 0.1,
        "y": 0.1
       },
       "content": {
        "cell": "dcf74f75-07f9-43bb-aae7-d9f37d7b62e8",
        "part": "whole"
       },
       "id": "b0d02c55-0ebd-4fe1-87f6-0968a2c9acbc"
      }
     }
    },
    "e3646ecd-11c4-47ed-96b4-7c1c4b324414": {
     "id": "e3646ecd-11c4-47ed-96b4-7c1c4b324414",
     "prev": "46022bc1-07bd-48a2-ad36-436ec753479e",
     "regions": {
      "24fd9d41-87c6-4b7a-a659-5c66041e5257": {
       "attrs": {
        "height": 0.8,
        "width": 0.8,
        "x": 0.1,
        "y": 0.1
       },
       "content": {
        "cell": "3cc3941a-e0c4-4ba4-bd3c-3f19e5468812",
        "part": "whole"
       },
       "id": "24fd9d41-87c6-4b7a-a659-5c66041e5257"
      }
     }
    },
    "ebb2139b-1705-4ee2-b9f7-494e99cac369": {
     "id": "ebb2139b-1705-4ee2-b9f7-494e99cac369",
     "prev": "263cd006-d1a5-4308-bb1b-a43270a2f489",
     "regions": {
      "6bf66e67-ce8c-4890-b1a4-5a44279efaad": {
       "attrs": {
        "height": 0.8,
        "width": 0.8,
        "x": 0.1,
        "y": 0.1
       },
       "content": {
        "cell": "428c2457-d463-43c5-b644-ca339b1e107d",
        "part": "whole"
       },
       "id": "6bf66e67-ce8c-4890-b1a4-5a44279efaad"
      }
     }
    }
   },
   "themes": {
    "default": "a9ac563a-de54-4b01-8edf-c98fa35d5c0f",
    "theme": {
     "a3014a4e-8a91-4fe5-925c-fbb973b1326c": {
      "backgrounds": {
       "dc7afa04-bf90-40b1-82a5-726e3cff5267": {
        "background-color": "31af15d2-7e15-44c5-ab5e-e04b16a89eff",
        "id": "dc7afa04-bf90-40b1-82a5-726e3cff5267"
       }
      },
      "id": "a3014a4e-8a91-4fe5-925c-fbb973b1326c",
      "palette": {
       "19cc588f-0593-49c9-9f4b-e4d7cc113b1c": {
        "id": "19cc588f-0593-49c9-9f4b-e4d7cc113b1c",
        "rgb": [
         252,
         252,
         252
        ]
       },
       "31af15d2-7e15-44c5-ab5e-e04b16a89eff": {
        "id": "31af15d2-7e15-44c5-ab5e-e04b16a89eff",
        "rgb": [
         68,
         68,
         68
        ]
       },
       "50f92c45-a630-455b-aec3-788680ec7410": {
        "id": "50f92c45-a630-455b-aec3-788680ec7410",
        "rgb": [
         197,
         226,
         245
        ]
       },
       "c5cc3653-2ee1-402a-aba2-7caae1da4f6c": {
        "id": "c5cc3653-2ee1-402a-aba2-7caae1da4f6c",
        "rgb": [
         43,
         126,
         184
        ]
       },
       "efa7f048-9acb-414c-8b04-a26811511a21": {
        "id": "efa7f048-9acb-414c-8b04-a26811511a21",
        "rgb": [
         25.118061674008803,
         73.60176211453744,
         107.4819383259912
        ]
       }
      },
      "rules": {
       "a": {
        "color": "19cc588f-0593-49c9-9f4b-e4d7cc113b1c"
       },
       "blockquote": {
        "color": "50f92c45-a630-455b-aec3-788680ec7410",
        "font-size": 3
       },
       "code": {
        "font-family": "Anonymous Pro"
       },
       "h1": {
        "color": "19cc588f-0593-49c9-9f4b-e4d7cc113b1c",
        "font-family": "Merriweather",
        "font-size": 8
       },
       "h2": {
        "color": "19cc588f-0593-49c9-9f4b-e4d7cc113b1c",
        "font-family": "Merriweather",
        "font-size": 6
       },
       "h3": {
        "color": "50f92c45-a630-455b-aec3-788680ec7410",
        "font-family": "Lato",
        "font-size": 5.5
       },
       "h4": {
        "color": "c5cc3653-2ee1-402a-aba2-7caae1da4f6c",
        "font-family": "Lato",
        "font-size": 5
       },
       "h5": {
        "font-family": "Lato"
       },
       "h6": {
        "font-family": "Lato"
       },
       "h7": {
        "font-family": "Lato"
       },
       "li": {
        "color": "50f92c45-a630-455b-aec3-788680ec7410",
        "font-size": 3.25
       },
       "pre": {
        "font-family": "Anonymous Pro",
        "font-size": 4
       }
      },
      "text-base": {
       "color": "19cc588f-0593-49c9-9f4b-e4d7cc113b1c",
       "font-family": "Lato",
       "font-size": 4
      }
     },
     "a9ac563a-de54-4b01-8edf-c98fa35d5c0f": {
      "id": "a9ac563a-de54-4b01-8edf-c98fa35d5c0f",
      "palette": {
       "19cc588f-0593-49c9-9f4b-e4d7cc113b1c": {
        "id": "19cc588f-0593-49c9-9f4b-e4d7cc113b1c",
        "rgb": [
         252,
         252,
         252
        ]
       },
       "31af15d2-7e15-44c5-ab5e-e04b16a89eff": {
        "id": "31af15d2-7e15-44c5-ab5e-e04b16a89eff",
        "rgb": [
         68,
         68,
         68
        ]
       },
       "50f92c45-a630-455b-aec3-788680ec7410": {
        "id": "50f92c45-a630-455b-aec3-788680ec7410",
        "rgb": [
         155,
         177,
         192
        ]
       },
       "c5cc3653-2ee1-402a-aba2-7caae1da4f6c": {
        "id": "c5cc3653-2ee1-402a-aba2-7caae1da4f6c",
        "rgb": [
         43,
         126,
         184
        ]
       },
       "efa7f048-9acb-414c-8b04-a26811511a21": {
        "id": "efa7f048-9acb-414c-8b04-a26811511a21",
        "rgb": [
         25.118061674008803,
         73.60176211453744,
         107.4819383259912
        ]
       }
      },
      "rules": {
       "blockquote": {
        "color": "50f92c45-a630-455b-aec3-788680ec7410"
       },
       "code": {
        "font-family": "Anonymous Pro"
       },
       "h1": {
        "color": "c5cc3653-2ee1-402a-aba2-7caae1da4f6c",
        "font-family": "Lato",
        "font-size": 8
       },
       "h2": {
        "color": "c5cc3653-2ee1-402a-aba2-7caae1da4f6c",
        "font-family": "Lato",
        "font-size": 6
       },
       "h3": {
        "color": "50f92c45-a630-455b-aec3-788680ec7410",
        "font-family": "Lato",
        "font-size": 5.5
       },
       "h4": {
        "color": "c5cc3653-2ee1-402a-aba2-7caae1da4f6c",
        "font-family": "Lato",
        "font-size": 5
       },
       "h5": {
        "font-family": "Lato"
       },
       "h6": {
        "font-family": "Lato"
       },
       "h7": {
        "font-family": "Lato"
       },
       "pre": {
        "font-family": "Anonymous Pro",
        "font-size": 4
       }
      },
      "text-base": {
       "font-family": "Merriweather",
       "font-size": 4
      }
     }
    }
   }
  }
 },
 "nbformat": 4,
 "nbformat_minor": 0
}
