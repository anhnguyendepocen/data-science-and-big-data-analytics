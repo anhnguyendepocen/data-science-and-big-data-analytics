{
 "cells": [
  {
   "cell_type": "markdown",
   "metadata": {},
   "source": [
    "# Introduction to R\n",
    "## Sukhjit Singh Sehra\n",
    "### Guru NanaK Dev Engineering College, Ludhiana"
   ]
  },
  {
   "cell_type": "markdown",
   "metadata": {
    "nbpresent": {
     "id": "66b4b24f-34e0-4d93-b5f3-6f83a4039ae7"
    }
   },
   "source": [
    "# Introduction to R\n",
    "\n",
    "- There is R, the programming language, and R, the piece of software that you use to run programs written in R. \n",
    "\n",
    " - R is a programming language and software framework for statistical analysis and graphics. Available for use under the GNU General Public License \n",
    " - R software and installation instructions can be obtained via the Comprehensive R Archive and Network \n",
    "\n",
    "- R (the language) was created in the early 1990s by Ross Ihaka and Robert Gentleman, then both working at the University of Auckland\n"
   ]
  },
  {
   "cell_type": "markdown",
   "metadata": {},
   "source": [
    "- ?mean #opens the help page for the mean function\n",
    "- ?\"+\" #opens the help page for addition\n",
    "- ?\"if\" #opens the help page for if, used for branching code\n",
    "- ??plotting #searches for topics containing words like \"plotting\"\n",
    "- ??\"regression model\" #searches for topics containing phrases like this"
   ]
  },
  {
   "cell_type": "markdown",
   "metadata": {},
   "source": [
    "- help(\"mean\")\n",
    "- help(\"+\")\n",
    "- help(\"if\")\n",
    "- help.search(\"plotting\")\n",
    "- help.search(\"regression model\")"
   ]
  },
  {
   "cell_type": "code",
   "execution_count": null,
   "metadata": {
    "collapsed": false,
    "nbpresent": {
     "id": "5a8da0a2-72f5-44da-9211-b138c9c26542"
    }
   },
   "outputs": [],
   "source": [
    "# import a CSV file of the total annual sales for each customer \n",
    "sales <- read.csv(\"sampledatasets/ Superstoresale.csv\")\n"
   ]
  },
  {
   "cell_type": "code",
   "execution_count": null,
   "metadata": {
    "collapsed": false,
    "nbpresent": {
     "id": "58e79abd-3acf-4e32-b883-f94de2d381e6"
    }
   },
   "outputs": [],
   "source": [
    "str(sales)"
   ]
  },
  {
   "cell_type": "code",
   "execution_count": null,
   "metadata": {
    "collapsed": false,
    "nbpresent": {
     "id": "8294d958-e7c3-4765-bf5f-625d735951cb"
    }
   },
   "outputs": [],
   "source": [
    "# examine the imported dataset head(sales)\n",
    "summary(sales$Row.ID)             \n",
    "# plot num_of_orders vs. sales \n",
    "plot(sales$Order.Quantity,sales$Sales, main=\"Sales\")\n"
   ]
  },
  {
   "cell_type": "code",
   "execution_count": null,
   "metadata": {
    "collapsed": false,
    "nbpresent": {
     "id": "4c3ac7e7-4493-4346-bd67-6abc0d386920"
    },
    "scrolled": true
   },
   "outputs": [],
   "source": [
    "# perform a statistical analysis (fit a linear regression model) \n",
    "results <- lm(sales$Sales ~ sales$Order.Quantity) \n",
    "\n",
    "\n",
    "# summary of Results\n",
    "summary(results)\n",
    "# perform some diagnostics on the fitted model # plot histogram of the residuals \n",
    "hist(results$residuals, breaks = 800)"
   ]
  },
  {
   "cell_type": "markdown",
   "metadata": {
    "nbpresent": {
     "id": "eaa67f2e-9af5-4462-8bc3-d6ea47e4d4b0"
    }
   },
   "source": [
    "Reference:- \n",
    "[1] Data Science and Big Data Analytics by EMC "
   ]
  }
 ],
 "metadata": {
  "kernelspec": {
   "display_name": "R",
   "language": "R",
   "name": "ir"
  },
  "language_info": {
   "codemirror_mode": "r",
   "file_extension": ".r",
   "mimetype": "text/x-r-source",
   "name": "R",
   "pygments_lexer": "r",
   "version": "3.3.1"
  },
  "nbpresent": {
   "slides": {
    "43fe16de-0327-4589-a9a5-2378b7598007": {
     "id": "43fe16de-0327-4589-a9a5-2378b7598007",
     "prev": "55ffa0fd-ec85-4908-b80e-4494eb79827d",
     "regions": {
      "fed0719e-6a14-42cf-ba1c-9f63da0704cb": {
       "attrs": {
        "height": 0.8,
        "width": 0.8,
        "x": 0.1,
        "y": 0.1
       },
       "content": {
        "cell": "4c3ac7e7-4493-4346-bd67-6abc0d386920",
        "part": "source"
       },
       "id": "fed0719e-6a14-42cf-ba1c-9f63da0704cb"
      }
     }
    },
    "55ffa0fd-ec85-4908-b80e-4494eb79827d": {
     "id": "55ffa0fd-ec85-4908-b80e-4494eb79827d",
     "prev": "e6b4d986-d3a4-4150-ae2f-844ad696575c",
     "regions": {
      "cacc10c1-9214-45b2-85e6-d6ad457f51c3": {
       "attrs": {
        "height": 0.8,
        "width": 0.8,
        "x": 0.1,
        "y": 0.1
       },
       "content": {
        "cell": "8294d958-e7c3-4765-bf5f-625d735951cb",
        "part": "source"
       },
       "id": "cacc10c1-9214-45b2-85e6-d6ad457f51c3"
      }
     }
    },
    "64ce15a9-7ff4-483c-b642-dc0ea9058f8f": {
     "id": "64ce15a9-7ff4-483c-b642-dc0ea9058f8f",
     "prev": null,
     "regions": {
      "5d720e22-3c14-4d2b-9f6a-c882c355a803": {
       "attrs": {
        "height": 0.8,
        "width": 0.8,
        "x": 0.1,
        "y": 0.1
       },
       "content": {
        "cell": "66b4b24f-34e0-4d93-b5f3-6f83a4039ae7",
        "part": "whole"
       },
       "id": "5d720e22-3c14-4d2b-9f6a-c882c355a803"
      }
     }
    },
    "79ecca6a-ecd8-4adf-95b6-4b1570569d98": {
     "id": "79ecca6a-ecd8-4adf-95b6-4b1570569d98",
     "prev": "64ce15a9-7ff4-483c-b642-dc0ea9058f8f",
     "regions": {
      "c27b7273-4af5-4196-9e31-9b610c9bd1c0": {
       "attrs": {
        "height": 0.8,
        "width": 0.8,
        "x": 0.1,
        "y": 0.1
       },
       "content": {
        "cell": "5a8da0a2-72f5-44da-9211-b138c9c26542",
        "part": "whole"
       },
       "id": "c27b7273-4af5-4196-9e31-9b610c9bd1c0"
      }
     }
    },
    "8efc9c48-67cd-4c64-92e3-8d9ea742f6ed": {
     "id": "8efc9c48-67cd-4c64-92e3-8d9ea742f6ed",
     "prev": "43fe16de-0327-4589-a9a5-2378b7598007",
     "regions": {
      "34fb96bd-d8d5-420c-9c0c-9d768be111f9": {
       "attrs": {
        "height": 0.8,
        "width": 0.8,
        "x": 0.1,
        "y": 0.1
       },
       "content": {
        "cell": "eaa67f2e-9af5-4462-8bc3-d6ea47e4d4b0",
        "part": "whole"
       },
       "id": "34fb96bd-d8d5-420c-9c0c-9d768be111f9"
      }
     }
    },
    "9be34660-cc6b-4150-a965-933401d55e1c": {
     "id": "9be34660-cc6b-4150-a965-933401d55e1c",
     "prev": "8efc9c48-67cd-4c64-92e3-8d9ea742f6ed",
     "regions": {
      "b58656a0-6a71-4d27-87d5-882480883a53": {
       "attrs": {
        "height": 0.8,
        "width": 0.8,
        "x": 0.1,
        "y": 0.1
       },
       "content": {
        "cell": "a68ab039-c0bb-4656-b563-e4e2adcf18c4",
        "part": "whole"
       },
       "id": "b58656a0-6a71-4d27-87d5-882480883a53"
      }
     }
    },
    "e6b4d986-d3a4-4150-ae2f-844ad696575c": {
     "id": "e6b4d986-d3a4-4150-ae2f-844ad696575c",
     "prev": "79ecca6a-ecd8-4adf-95b6-4b1570569d98",
     "regions": {
      "3658053e-ed2a-4ccf-a7ce-f3a62b78ddfa": {
       "attrs": {
        "height": 0.8,
        "width": 0.8,
        "x": 0.1,
        "y": 0.1
       },
       "content": {
        "cell": "58e79abd-3acf-4e32-b883-f94de2d381e6",
        "part": "source"
       },
       "id": "3658053e-ed2a-4ccf-a7ce-f3a62b78ddfa"
      }
     }
    }
   },
   "themes": {}
  }
 },
 "nbformat": 4,
 "nbformat_minor": 0
}
