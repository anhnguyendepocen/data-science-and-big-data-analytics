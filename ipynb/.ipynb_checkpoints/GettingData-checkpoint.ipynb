{
 "cells": [
  {
   "cell_type": "markdown",
   "metadata": {},
   "source": [
    "## Reading Text Files\n",
    "There are many, many formats and standards of text documents for storing data. Com‐\n",
    "mon formats for storing data are delimiter-separated values (CSV or tab-delimited),\n",
    "eXtensible Markup Language (XML), JavaScript Object Notation (JSON), and YAML\n",
    "(which recursively stands for YAML Ain’t Markup Language)."
   ]
  },
  {
   "cell_type": "markdown",
   "metadata": {},
   "source": [
    "### CSV and Tab-Delimited Files\n",
    "RedDeerEndocranialVolume.dlm is a whitespace-delimited file containing measure ments of the endocranial volume of some red deer, measured using different techniques"
   ]
  },
  {
   "cell_type": "code",
   "execution_count": null,
   "metadata": {
    "collapsed": false
   },
   "outputs": [],
   "source": [
    "library(learningr)\n",
    "deer_file <- system.file(\n",
    " \"extdata\",\n",
    " \"RedDeerEndocranialVolume.dlm\",\n",
    " package = \"learningr\"\n",
    ")\n",
    "deer_data <- read.table(deer_file, header = TRUE, fill=TRUE)\n",
    "str(deer_data, vec.len = 1) #vec.len alters the amount of output"
   ]
  },
  {
   "cell_type": "code",
   "execution_count": null,
   "metadata": {
    "collapsed": false
   },
   "outputs": [],
   "source": [
    "head(deer_data)"
   ]
  },
  {
   "cell_type": "markdown",
   "metadata": {},
   "source": [
    "### There are several convenience wrapper functions to read.table. read.csv sets the default separator to a comma, and assumes that the data has a header row. read.csv2 is its European cousin, using a comma for decimal places and a semicolon as a separator. Likewise read.delim and read.delim2 import tab-delimited files with full stops1 or commas for decimal places, respectively"
   ]
  },
  {
   "cell_type": "code",
   "execution_count": null,
   "metadata": {
    "collapsed": false
   },
   "outputs": [],
   "source": [
    "crab_file <- system.file(\n",
    " \"extdata\",\n",
    " \"crabtag.csv\",\n",
    " package = \"learningr\"\n",
    ")\n",
    "(crab_id_block <- read.csv(\n",
    " crab_file,\n",
    " header = FALSE,\n",
    " skip = 3,\n",
    " nrow = 2\n",
    "))\n",
    "(crab_tag_notebook <- read.csv(\n",
    " crab_file,\n",
    " header = FALSE,\n",
    " skip = 8,\n",
    " nrow = 5\n",
    "))\n",
    "\n",
    "(crab_lifetime_notebook <- read.csv(\n",
    " crab_file,\n",
    " header = FALSE,\n",
    " skip = 15,\n",
    " nrow = 3\n",
    "))\n",
    "\n",
    "\n"
   ]
  },
  {
   "cell_type": "code",
   "execution_count": null,
   "metadata": {
    "collapsed": false
   },
   "outputs": [],
   "source": [
    "write.csv(\n",
    " crab_lifetime_notebook,\n",
    " \"sampledatasets/csvAdded.csv\",\n",
    " row.names = FALSE,\n",
    " fileEncoding = \"utf8\"\n",
    ")\n",
    "\"sucess\""
   ]
  },
  {
   "cell_type": "code",
   "execution_count": null,
   "metadata": {
    "collapsed": false
   },
   "outputs": [],
   "source": [
    "z<-read.csv('sales_modified.txt',sep='')\n",
    "z"
   ]
  },
  {
   "cell_type": "markdown",
   "metadata": {},
   "source": [
    "\n",
    "# Unstructured Text Files"
   ]
  },
  {
   "cell_type": "code",
   "execution_count": null,
   "metadata": {
    "collapsed": false
   },
   "outputs": [],
   "source": [
    "text_file <- readLines('sampledatasets/gutenberg.txt')\n",
    "text_file[1926:1927]\n",
    "    "
   ]
  },
  {
   "cell_type": "code",
   "execution_count": null,
   "metadata": {
    "collapsed": true
   },
   "outputs": [],
   "source": [
    "writeLines(\n",
    "rev(text_file), #rev reverses vectors\n",
    "\"Shakespeare's The Tempest, backwards.txt\"\n",
    ")"
   ]
  },
  {
   "cell_type": "markdown",
   "metadata": {},
   "source": [
    "###  Reading JSON Files\n"
   ]
  },
  {
   "cell_type": "markdown",
   "metadata": {},
   "source": [
    "#### Importing JavaScript Object Notation (JSON) Files Into R\n",
    "To get JSON files into R, you first need to install or load the rjson package"
   ]
  },
  {
   "cell_type": "markdown",
   "metadata": {},
   "source": [
    "library(rjson)\n",
    "JsonData <- fromJSON(file = \"<filename.json>\" )\n",
    "Your JSON file is available through a URL."
   ]
  },
  {
   "cell_type": "markdown",
   "metadata": {},
   "source": [
    "library(rjson)\n",
    "JsonData <- fromJSON(file = \"<URL to your JSON file>\" ) "
   ]
  },
  {
   "cell_type": "markdown",
   "metadata": {},
   "source": [
    "#install\n",
    "#install.packages(\"jsonlite\", repos=\"http://cran.r-project.org\")\n",
    "#install package rjson"
   ]
  },
  {
   "cell_type": "code",
   "execution_count": null,
   "metadata": {
    "collapsed": false
   },
   "outputs": [],
   "source": [
    "data2 <- fromJSON(\"https://api.github.com/users/hadley/repos\")"
   ]
  },
  {
   "cell_type": "code",
   "execution_count": null,
   "metadata": {
    "collapsed": true
   },
   "outputs": [],
   "source": [
    "#it's a data frame...\n",
    "names(data2)\n",
    "data2$name"
   ]
  },
  {
   "cell_type": "code",
   "execution_count": null,
   "metadata": {
    "collapsed": false
   },
   "outputs": [],
   "source": [
    "#...with has a nested data frame\n",
    "names(data2$owner)\n",
    "data2$owner$login\n",
    "\n",
    "#these are equivalent :)\n",
    "data2[1,]$owner$login\n",
    "data2[1,\"owner\"]$login\n",
    "data2$owner[1,\"login\"]\n",
    "data2$owner[1,]$login"
   ]
  },
  {
   "cell_type": "markdown",
   "metadata": {},
   "source": [
    "## Data Import\n",
    "\n",
    "It is often necessary to import sample textbook data into R before you start working on your homework.\n",
    "\n"
   ]
  },
  {
   "cell_type": "code",
   "execution_count": 82,
   "metadata": {
    "collapsed": false
   },
   "outputs": [
    {
     "data": {
      "text/html": [
       "<table>\n",
       "<thead><tr><th scope=col></th><th scope=col></th></tr></thead>\n",
       "<tbody>\n",
       "\t<tr><td>NA                     </td><td>NA                     </td></tr>\n",
       "\t<tr><td>NA                     </td><td>Online Instruction Page</td></tr>\n",
       "\t<tr><td>NA                     </td><td>Sample Data for Excel  </td></tr>\n",
       "\t<tr><td>NA                     </td><td>NA                     </td></tr>\n",
       "\t<tr><td>NA                     </td><td>Related tutorials      </td></tr>\n",
       "\t<tr><td>NA                     </td><td>VLOOKUP Function       </td></tr>\n",
       "</tbody>\n",
       "</table>\n"
      ],
      "text/latex": [
       "\\begin{tabular}{r|ll}\n",
       "  & \\\\\n",
       "\\hline\n",
       "\t NA                      & NA                     \\\\\n",
       "\t NA                      & Online Instruction Page\\\\\n",
       "\t NA                      & Sample Data for Excel  \\\\\n",
       "\t NA                      & NA                     \\\\\n",
       "\t NA                      & Related tutorials      \\\\\n",
       "\t NA                      & VLOOKUP Function       \\\\\n",
       "\\end{tabular}\n"
      ],
      "text/plain": [
       "                            \n",
       "1 NA NA                     \n",
       "2 NA Online Instruction Page\n",
       "3 NA Sample Data for Excel  \n",
       "4 NA NA                     \n",
       "5 NA Related tutorials      \n",
       "6 NA VLOOKUP Function       "
      ]
     },
     "metadata": {},
     "output_type": "display_data"
    }
   ],
   "source": [
    "library(\"readxl\")\n",
    "FirstTable  <- read_excel(\"sampledatasets/SampleData/SampleData.xlsx\", 1)\n",
    "\n",
    "head(FirstTable)\n"
   ]
  },
  {
   "cell_type": "markdown",
   "metadata": {},
   "source": [
    "# Web Data"
   ]
  },
  {
   "cell_type": "markdown",
   "metadata": {},
   "source": [
    "## Fortunately, R has a variety of ways to import data from web sources; retrieving the data programmatically makes it possible to collect much more of it with much less effort."
   ]
  },
  {
   "cell_type": "markdown",
   "metadata": {},
   "source": [
    "## Sites with an API\n",
    "### Several packages exist that download data directly into R using a website’s application programming interface (API). "
   ]
  },
  {
   "cell_type": "code",
   "execution_count": 88,
   "metadata": {
    "collapsed": false
   },
   "outputs": [
    {
     "data": {
      "text/html": [
       "<table>\n",
       "<thead><tr><th scope=col>indicator</th><th scope=col>name</th></tr></thead>\n",
       "<tbody>\n",
       "\t<tr><td>BG.GSR.NFSV.GD.ZS                                                       </td><td>Trade in services (% of GDP)                                            </td></tr>\n",
       "\t<tr><td>BM.KLT.DINV.GD.ZS                                                       </td><td>Foreign direct investment, net outflows (% of GDP)                      </td></tr>\n",
       "\t<tr><td>BN.CAB.XOKA.GD.ZS                                                       </td><td>Current account balance (% of GDP)                                      </td></tr>\n",
       "\t<tr><td>BN.CUR.GDPM.ZS                                                          </td><td>Current account balance excluding net official capital grants (% of GDP)</td></tr>\n",
       "\t<tr><td>BN.GSR.FCTY.CD.ZS                                                       </td><td>Net income (% of GDP)                                                   </td></tr>\n",
       "\t<tr><td>BN.KLT.DINV.CD.ZS                                                       </td><td>Foreign direct investment (% of GDP)                                    </td></tr>\n",
       "</tbody>\n",
       "</table>\n"
      ],
      "text/latex": [
       "\\begin{tabular}{ll}\n",
       " indicator & name\\\\\n",
       "\\hline\n",
       "\t BG.GSR.NFSV.GD.ZS                                                          & Trade in services (\\% of GDP)                                            \\\\\n",
       "\t BM.KLT.DINV.GD.ZS                                                          & Foreign direct investment, net outflows (\\% of GDP)                      \\\\\n",
       "\t BN.CAB.XOKA.GD.ZS                                                          & Current account balance (\\% of GDP)                                      \\\\\n",
       "\t BN.CUR.GDPM.ZS                                                             & Current account balance excluding net official capital grants (\\% of GDP)\\\\\n",
       "\t BN.GSR.FCTY.CD.ZS                                                          & Net income (\\% of GDP)                                                   \\\\\n",
       "\t BN.KLT.DINV.CD.ZS                                                          & Foreign direct investment (\\% of GDP)                                    \\\\\n",
       "\\end{tabular}\n"
      ],
      "text/markdown": [
       "1. 'BG.GSR.NFSV.GD.ZS'\n",
       "2. 'BM.KLT.DINV.GD.ZS'\n",
       "3. 'BN.CAB.XOKA.GD.ZS'\n",
       "4. 'BN.CUR.GDPM.ZS'\n",
       "5. 'BN.GSR.FCTY.CD.ZS'\n",
       "6. 'BN.KLT.DINV.CD.ZS'\n",
       "7. 'Trade in services (% of GDP)'\n",
       "8. 'Foreign direct investment, net outflows (% of GDP)'\n",
       "9. 'Current account balance (% of GDP)'\n",
       "10. 'Current account balance excluding net official capital grants (% of GDP)'\n",
       "11. 'Net income (% of GDP)'\n",
       "12. 'Foreign direct investment (% of GDP)'\n",
       "\n",
       "\n"
      ],
      "text/plain": [
       "     indicator        \n",
       "[1,] BG.GSR.NFSV.GD.ZS\n",
       "[2,] BM.KLT.DINV.GD.ZS\n",
       "[3,] BN.CAB.XOKA.GD.ZS\n",
       "[4,] BN.CUR.GDPM.ZS   \n",
       "[5,] BN.GSR.FCTY.CD.ZS\n",
       "[6,] BN.KLT.DINV.CD.ZS\n",
       "     name                                                                    \n",
       "[1,] Trade in services (% of GDP)                                            \n",
       "[2,] Foreign direct investment, net outflows (% of GDP)                      \n",
       "[3,] Current account balance (% of GDP)                                      \n",
       "[4,] Current account balance excluding net official capital grants (% of GDP)\n",
       "[5,] Net income (% of GDP)                                                   \n",
       "[6,] Foreign direct investment (% of GDP)                                    "
      ]
     },
     "metadata": {},
     "output_type": "display_data"
    }
   ],
   "source": [
    "library(WDI)\n",
    "#list all available datasets\n",
    "wdi_datasets <- WDIsearch()\n",
    "\n",
    "head(wdi_datasets)"
   ]
  },
  {
   "cell_type": "code",
   "execution_count": 103,
   "metadata": {
    "collapsed": false
   },
   "outputs": [],
   "source": [
    "webdta<-read.table(\"http://www.ats.ucla.edu/stat/examples/ara/angell.txt\")"
   ]
  },
  {
   "cell_type": "code",
   "execution_count": 105,
   "metadata": {
    "collapsed": false
   },
   "outputs": [
    {
     "data": {
      "text/html": [
       "<table>\n",
       "<thead><tr><th scope=col>V1</th><th scope=col>V2</th><th scope=col>V3</th><th scope=col>V4</th><th scope=col>V5</th></tr></thead>\n",
       "<tbody>\n",
       "\t<tr><td>Rochester </td><td>19.0      </td><td>20.6      </td><td>15.0      </td><td>E         </td></tr>\n",
       "\t<tr><td>Syracuse  </td><td>17.0      </td><td>15.6      </td><td>20.2      </td><td>E         </td></tr>\n",
       "\t<tr><td>Worcester </td><td>16.4      </td><td>22.1      </td><td>13.6      </td><td>E         </td></tr>\n",
       "\t<tr><td>Erie      </td><td>16.2      </td><td>14.0      </td><td>14.8      </td><td>E         </td></tr>\n",
       "\t<tr><td>Milwaukee </td><td>15.8      </td><td>17.4      </td><td>17.6      </td><td>MW        </td></tr>\n",
       "\t<tr><td>Bridgeport</td><td>15.3      </td><td>27.9      </td><td>17.5      </td><td>E         </td></tr>\n",
       "</tbody>\n",
       "</table>\n"
      ],
      "text/latex": [
       "\\begin{tabular}{r|lllll}\n",
       " V1 & V2 & V3 & V4 & V5\\\\\n",
       "\\hline\n",
       "\t Rochester  & 19.0       & 20.6       & 15.0       & E         \\\\\n",
       "\t Syracuse   & 17.0       & 15.6       & 20.2       & E         \\\\\n",
       "\t Worcester  & 16.4       & 22.1       & 13.6       & E         \\\\\n",
       "\t Erie       & 16.2       & 14.0       & 14.8       & E         \\\\\n",
       "\t Milwaukee  & 15.8       & 17.4       & 17.6       & MW        \\\\\n",
       "\t Bridgeport & 15.3       & 27.9       & 17.5       & E         \\\\\n",
       "\\end{tabular}\n"
      ],
      "text/plain": [
       "  V1         V2   V3   V4   V5\n",
       "1 Rochester  19.0 20.6 15.0 E \n",
       "2 Syracuse   17.0 15.6 20.2 E \n",
       "3 Worcester  16.4 22.1 13.6 E \n",
       "4 Erie       16.2 14.0 14.8 E \n",
       "5 Milwaukee  15.8 17.4 17.6 MW\n",
       "6 Bridgeport 15.3 27.9 17.5 E "
      ]
     },
     "metadata": {},
     "output_type": "display_data"
    }
   ],
   "source": [
    "head(webdta)"
   ]
  },
  {
   "cell_type": "markdown",
   "metadata": {},
   "source": [
    "## Working with Twitter Data "
   ]
  },
  {
   "cell_type": "code",
   "execution_count": null,
   "metadata": {
    "collapsed": true
   },
   "outputs": [],
   "source": [
    "#install.packages(\"twitteR\")\n",
    "#install.packages(\"ROAuth\")\n",
    "library(\"twitteR\")\n",
    "library(\"ROAuth\")"
   ]
  },
  {
   "cell_type": "code",
   "execution_count": 144,
   "metadata": {
    "collapsed": false
   },
   "outputs": [
    {
     "name": "stdout",
     "output_type": "stream",
     "text": [
      "To enable the connection, please direct your web browser to: \n",
      "https://api.twitter.com/oauth/authorize?oauth_token=qcqfXgAAAAAAfi1sAAABV-ZYFbM\n",
      "When complete, record the PIN given to you and provide it here: \n"
     ]
    },
    {
     "ename": "ERROR",
     "evalue": "Error: Authorization Required\r\n\n",
     "output_type": "error",
     "traceback": [
      "Error: Authorization Required\r\n\nTraceback:\n",
      "1. cred$handshake(cainfo = \"cacert.pem\")",
      "2. oauthPOST(.self$accessURL, .self$consumerKey, .self$consumerSecret, \n .     .self$oauthKey, .self$oauthSecret, signMethod = .self$signMethod, \n .     curl = getCurlHandle(), params = params, handshakeComplete = .self$handshakeComplete, \n .     ...)",
      "3. postForm(url, .params = params, curl = curl, .opts = opts, style = \"POST\")",
      "4. stop.if.HTTP.error(http.header)"
     ]
    }
   ],
   "source": [
    "# Download \"cacert.pem\" file\n",
    "download.file(url=\"http://curl.haxx.se/ca/cacert.pem\",destfile=\"cacert.pem\")\n",
    "\n",
    "#create an object \"cred\" that will save the authenticated object that we can use for later sessions\n",
    " cred <- OAuthFactory$new(consumerKey='xMQMrGYaxT3MpLa23FIG4fOGe',\n",
    "      consumerSecret='lSMsRLRj7K2QZnY4FVXBWaKE9uXJ8OWKm3gCt3SzEb4zR8QGBY',\n",
    "      requestURL='https://api.twitter.com/oauth/request_token',\n",
    "      accessURL='https://api.twitter.com/oauth/access_token',\n",
    "      authURL='https://api.twitter.com/oauth/authorize')\n",
    "# Executing the next step generates an output --> To enable the connection, please direct your web browser to: <hyperlink> . Note:  You only need to do this part once\n",
    " cred$handshake(cainfo=\"cacert.pem\")\n",
    "registerTwitterOAuth(cred)"
   ]
  },
  {
   "cell_type": "code",
   "execution_count": 145,
   "metadata": {
    "collapsed": false
   },
   "outputs": [],
   "source": [
    "#save for later use for Windows\n",
    "save(cred, file=\"twitter authentication.Rdata\")\n"
   ]
  },
  {
   "cell_type": "code",
   "execution_count": 148,
   "metadata": {
    "collapsed": false
   },
   "outputs": [
    {
     "ename": "ERROR",
     "evalue": "Error in registerTwitterOAuth(cred): ROAuth is no longer used in favor of httr, please see ?setup_twitter_oauth\n",
     "output_type": "error",
     "traceback": [
      "Error in registerTwitterOAuth(cred): ROAuth is no longer used in favor of httr, please see ?setup_twitter_oauth\nTraceback:\n",
      "1. registerTwitterOAuth(cred)",
      "2. stop(\"ROAuth is no longer used in favor of httr, please see ?setup_twitter_oauth\")"
     ]
    }
   ],
   "source": [
    "load(\"twitter authentication.Rdata\")\n",
    "registerTwitterOAuth(cred)\n"
   ]
  }
 ],
 "metadata": {
  "kernelspec": {
   "display_name": "R",
   "language": "R",
   "name": "ir"
  },
  "language_info": {
   "codemirror_mode": "r",
   "file_extension": ".r",
   "mimetype": "text/x-r-source",
   "name": "R",
   "pygments_lexer": "r",
   "version": "3.3.1"
  }
 },
 "nbformat": 4,
 "nbformat_minor": 0
}
